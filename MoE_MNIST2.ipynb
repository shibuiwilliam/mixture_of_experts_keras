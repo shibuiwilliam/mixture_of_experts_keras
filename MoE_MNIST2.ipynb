{
 "cells": [
  {
   "cell_type": "markdown",
   "metadata": {},
   "source": [
    "# Mixture of Experts Network for MNIST"
   ]
  },
  {
   "cell_type": "code",
   "execution_count": 106,
   "metadata": {
    "scrolled": true
   },
   "outputs": [],
   "source": [
    "import numpy as np\n",
    "import keras\n",
    "from keras.models import Sequential, Model\n",
    "from keras.layers import Dense, Dropout, Flatten, BatchNormalization, Input\n",
    "from keras.layers import Conv2D, MaxPooling2D\n",
    "from keras.layers import concatenate, Lambda, Reshape\n",
    "from keras.optimizers import Adam\n",
    "import keras.backend as K\n",
    "from keras.datasets import mnist\n",
    "\n",
    "import pydot\n",
    "from keras.utils.vis_utils import model_to_dot\n",
    "from IPython.display import SVG"
   ]
  },
  {
   "cell_type": "code",
   "execution_count": 178,
   "metadata": {},
   "outputs": [],
   "source": [
    "batch_size = 64\n",
    "num_classes = 10\n",
    "epochs = 3\n",
    "\n",
    "# input image dimensions\n",
    "img_rows, img_cols = 28, 28\n",
    "\n",
    "# the data, shuffled and split between train and test sets\n",
    "(x_train, y_train), (x_test, y_test) = mnist.load_data()"
   ]
  },
  {
   "cell_type": "code",
   "execution_count": 179,
   "metadata": {},
   "outputs": [
    {
     "name": "stdout",
     "output_type": "stream",
     "text": [
      "x_train shape: (60000, 28, 28, 1)\n",
      "60000 train samples\n",
      "10000 test samples\n"
     ]
    }
   ],
   "source": [
    "x_train = x_train.reshape(x_train.shape[0], img_rows, img_cols, 1)\n",
    "x_test = x_test.reshape(x_test.shape[0], img_rows, img_cols, 1)\n",
    "input_shape = (img_rows, img_cols, 1)\n",
    "\n",
    "x_train = x_train.astype('float32')\n",
    "x_test = x_test.astype('float32')\n",
    "x_train /= 255\n",
    "x_test /= 255\n",
    "print('x_train shape:', x_train.shape)\n",
    "print(x_train.shape[0], 'train samples')\n",
    "print(x_test.shape[0], 'test samples')\n",
    "\n",
    "y_train0 = y_train[:]\n",
    "y_test0 = y_test[:]\n",
    "# convert class vectors to binary class matrices\n",
    "y_train = keras.utils.to_categorical(y_train, num_classes)\n",
    "y_test = keras.utils.to_categorical(y_test, num_classes)"
   ]
  },
  {
   "cell_type": "code",
   "execution_count": 123,
   "metadata": {},
   "outputs": [],
   "source": [
    "input1 = Input(shape=input_shape)"
   ]
  },
  {
   "cell_type": "code",
   "execution_count": 216,
   "metadata": {},
   "outputs": [],
   "source": [
    "def baseModel(input1, num_classes):\n",
    "    x = Conv2D(32, kernel_size=(3, 3), activation='relu')(input1)\n",
    "    x = Conv2D(64, (3, 3), activation='relu')(x)\n",
    "    x = MaxPooling2D(pool_size=(2, 2))(x)\n",
    "    x = Dropout(0.25)(x)\n",
    "    x = Flatten()(x)\n",
    "    x = Dense(128, activation='relu')(x)\n",
    "    x = Dropout(0.5)(x)\n",
    "    x = Dense(num_classes, activation='softmax')(x)\n",
    "    return x"
   ]
  },
  {
   "cell_type": "code",
   "execution_count": 217,
   "metadata": {},
   "outputs": [],
   "source": [
    "x1 = baseModel(input1, num_classes)\n",
    "x1Model = Model(input1, x1)"
   ]
  },
  {
   "cell_type": "code",
   "execution_count": 218,
   "metadata": {},
   "outputs": [],
   "source": [
    "x1Model.compile(loss='categorical_crossentropy',\n",
    "                optimizer=Adam(),\n",
    "                metrics=['accuracy'])"
   ]
  },
  {
   "cell_type": "code",
   "execution_count": 219,
   "metadata": {
    "scrolled": true
   },
   "outputs": [
    {
     "name": "stdout",
     "output_type": "stream",
     "text": [
      "Train on 60000 samples, validate on 10000 samples\n",
      "Epoch 1/3\n",
      "60000/60000 [==============================] - 61s 1ms/step - loss: 0.2245 - acc: 0.9314 - val_loss: 0.0462 - val_acc: 0.9864\n",
      "Epoch 2/3\n",
      "60000/60000 [==============================] - 59s 991us/step - loss: 0.0885 - acc: 0.9737 - val_loss: 0.0366 - val_acc: 0.9868\n",
      "Epoch 3/3\n",
      "60000/60000 [==============================] - 59s 984us/step - loss: 0.0667 - acc: 0.9800 - val_loss: 0.0349 - val_acc: 0.9885\n"
     ]
    },
    {
     "data": {
      "text/plain": [
       "<keras.callbacks.History at 0x7fa666d07e80>"
      ]
     },
     "execution_count": 219,
     "metadata": {},
     "output_type": "execute_result"
    }
   ],
   "source": [
    "x1Model.fit(x_train, y_train,\n",
    "            batch_size=batch_size,\n",
    "            epochs=epochs,\n",
    "            validation_data=(x_test, y_test))"
   ]
  },
  {
   "cell_type": "code",
   "execution_count": 220,
   "metadata": {},
   "outputs": [
    {
     "name": "stdout",
     "output_type": "stream",
     "text": [
      "10000/10000 [==============================] - 4s 400us/step\n",
      "[0.034910372883686792, 0.98850000000000005]\n"
     ]
    }
   ],
   "source": [
    "x1Score = x1Model.evaluate(x_test, y_test)\n",
    "print(x1Score)"
   ]
  },
  {
   "cell_type": "code",
   "execution_count": null,
   "metadata": {},
   "outputs": [],
   "source": []
  },
  {
   "cell_type": "code",
   "execution_count": null,
   "metadata": {},
   "outputs": [],
   "source": []
  },
  {
   "cell_type": "code",
   "execution_count": 207,
   "metadata": {},
   "outputs": [],
   "source": [
    "zeroToFourTr = [i for i in range(len(y_train0)) if y_train0[i] in [0,1,2,3,4]]\n",
    "fiveToNineTr = [i for i in range(len(y_train0)) if y_train0[i] in [5,6,7,8,9]]\n",
    "zeroToFourTe = [i for i in range(len(y_test0)) if y_test0[i] in [0,1,2,3,4]]\n",
    "fiveToNineTe = [i for i in range(len(y_test0)) if y_test0[i] in [5,6,7,8,9]]"
   ]
  },
  {
   "cell_type": "code",
   "execution_count": 234,
   "metadata": {},
   "outputs": [],
   "source": [
    "x_train00 = x_train[zeroToFourTr]\n",
    "x_test00 = x_test[zeroToFourTe]\n",
    "y_train00 = y_train[zeroToFourTr]\n",
    "y_test00 = y_test[zeroToFourTe]"
   ]
  },
  {
   "cell_type": "code",
   "execution_count": null,
   "metadata": {},
   "outputs": [],
   "source": [
    "x_train00.shape, y_train00, x_test00.shape, y_test00"
   ]
  },
  {
   "cell_type": "code",
   "execution_count": 235,
   "metadata": {},
   "outputs": [],
   "source": [
    "x00 = baseModel(input1, num_classes)\n",
    "x00Model = Model(input1, x00)"
   ]
  },
  {
   "cell_type": "code",
   "execution_count": 236,
   "metadata": {},
   "outputs": [],
   "source": [
    "x00Model.compile(loss='categorical_crossentropy',\n",
    "                optimizer=Adam(),\n",
    "                metrics=['accuracy'])"
   ]
  },
  {
   "cell_type": "code",
   "execution_count": 237,
   "metadata": {
    "scrolled": true
   },
   "outputs": [
    {
     "name": "stdout",
     "output_type": "stream",
     "text": [
      "Train on 30596 samples, validate on 5139 samples\n",
      "Epoch 1/3\n",
      "30596/30596 [==============================] - 33s 1ms/step - loss: 0.1080 - acc: 0.9658 - val_loss: 0.0119 - val_acc: 0.9963\n",
      "Epoch 2/3\n",
      "30596/30596 [==============================] - 32s 1ms/step - loss: 0.0324 - acc: 0.9900 - val_loss: 0.0101 - val_acc: 0.9965\n",
      "Epoch 3/3\n",
      "30596/30596 [==============================] - 31s 1ms/step - loss: 0.0247 - acc: 0.9926 - val_loss: 0.0065 - val_acc: 0.9984\n"
     ]
    },
    {
     "data": {
      "text/plain": [
       "<keras.callbacks.History at 0x7fa66c8449e8>"
      ]
     },
     "execution_count": 237,
     "metadata": {},
     "output_type": "execute_result"
    }
   ],
   "source": [
    "x00Model.fit(x_train00, y_train00,\n",
    "            batch_size=batch_size,\n",
    "            epochs=epochs,\n",
    "            validation_data=(x_test00, y_test00))"
   ]
  },
  {
   "cell_type": "code",
   "execution_count": 240,
   "metadata": {},
   "outputs": [
    {
     "name": "stdout",
     "output_type": "stream",
     "text": [
      "5139/5139 [==============================] - 2s 443us/step\n",
      "[0.0064898463812420003, 0.99844327690212109]\n"
     ]
    }
   ],
   "source": [
    "x00Score = x00Model.evaluate(x_test00, y_test00)\n",
    "print(x00Score)"
   ]
  },
  {
   "cell_type": "code",
   "execution_count": null,
   "metadata": {},
   "outputs": [],
   "source": []
  },
  {
   "cell_type": "code",
   "execution_count": null,
   "metadata": {},
   "outputs": [],
   "source": []
  },
  {
   "cell_type": "code",
   "execution_count": null,
   "metadata": {},
   "outputs": [],
   "source": []
  },
  {
   "cell_type": "code",
   "execution_count": 241,
   "metadata": {},
   "outputs": [],
   "source": [
    "x_train11 = x_train[fiveToNineTr]\n",
    "x_test11 = x_test[fiveToNineTe]\n",
    "y_train11 = y_train[fiveToNineTr]\n",
    "y_test11 = y_test[fiveToNineTe]"
   ]
  },
  {
   "cell_type": "code",
   "execution_count": 242,
   "metadata": {},
   "outputs": [
    {
     "data": {
      "text/plain": [
       "((29404, 28, 28, 1), (29404, 10), (4861, 28, 28, 1), (4861, 10))"
      ]
     },
     "execution_count": 242,
     "metadata": {},
     "output_type": "execute_result"
    }
   ],
   "source": [
    "x_train11.shape, y_train11.shape, x_test11.shape, y_test11.shape"
   ]
  },
  {
   "cell_type": "code",
   "execution_count": 243,
   "metadata": {},
   "outputs": [],
   "source": [
    "x11 = baseModel(input1, 10)\n",
    "x11Model = Model(input1, x11)"
   ]
  },
  {
   "cell_type": "code",
   "execution_count": 244,
   "metadata": {},
   "outputs": [],
   "source": [
    "x11Model.compile(loss='categorical_crossentropy',\n",
    "                optimizer=Adam(),\n",
    "                metrics=['accuracy'])"
   ]
  },
  {
   "cell_type": "code",
   "execution_count": 246,
   "metadata": {
    "scrolled": true
   },
   "outputs": [
    {
     "name": "stdout",
     "output_type": "stream",
     "text": [
      "Train on 29404 samples, validate on 4861 samples\n",
      "Epoch 1/3\n",
      "29404/29404 [==============================] - 32s 1ms/step - loss: 0.1666 - acc: 0.9455 - val_loss: 0.0394 - val_acc: 0.9875\n",
      "Epoch 2/3\n",
      "29404/29404 [==============================] - 30s 1ms/step - loss: 0.0512 - acc: 0.9835 - val_loss: 0.0347 - val_acc: 0.9889\n",
      "Epoch 3/3\n",
      "29404/29404 [==============================] - 29s 999us/step - loss: 0.0361 - acc: 0.9889 - val_loss: 0.0206 - val_acc: 0.9930\n"
     ]
    },
    {
     "data": {
      "text/plain": [
       "<keras.callbacks.History at 0x7fa66c04a780>"
      ]
     },
     "execution_count": 246,
     "metadata": {},
     "output_type": "execute_result"
    }
   ],
   "source": [
    "x11Model.fit(x_train11, y_train11,\n",
    "            batch_size=batch_size,\n",
    "            epochs=epochs,\n",
    "            validation_data=(x_test11, y_test11))"
   ]
  },
  {
   "cell_type": "code",
   "execution_count": 247,
   "metadata": {},
   "outputs": [
    {
     "name": "stdout",
     "output_type": "stream",
     "text": [
      "4861/4861 [==============================] - 2s 432us/step\n",
      "[0.020630182366605715, 0.99300555441267224]\n"
     ]
    }
   ],
   "source": [
    "x11Score = x11Model.evaluate(x_test11, y_test11)\n",
    "print(x11Score)"
   ]
  },
  {
   "cell_type": "code",
   "execution_count": null,
   "metadata": {},
   "outputs": [],
   "source": []
  },
  {
   "cell_type": "code",
   "execution_count": null,
   "metadata": {},
   "outputs": [],
   "source": []
  },
  {
   "cell_type": "code",
   "execution_count": null,
   "metadata": {},
   "outputs": [],
   "source": []
  },
  {
   "cell_type": "code",
   "execution_count": null,
   "metadata": {},
   "outputs": [],
   "source": []
  },
  {
   "cell_type": "code",
   "execution_count": 185,
   "metadata": {},
   "outputs": [],
   "source": [
    "y_train01 = np.array([0 if i in [0,1,2,3,4] else 1 for i in y_train0])\n",
    "y_test01 = np.array([0 if i in [0,1,2,3,4] else 1 for i in y_test0])\n",
    "y_train01 = keras.utils.to_categorical(y_train01, 2)\n",
    "y_test01 = keras.utils.to_categorical(y_test01, 2)"
   ]
  },
  {
   "cell_type": "code",
   "execution_count": 188,
   "metadata": {},
   "outputs": [],
   "source": [
    "g0 = Conv2D(32, kernel_size=(3, 3), activation='relu')(input1)\n",
    "g0 = Conv2D(64, (3, 3), activation='relu')(g0)\n",
    "g0 = MaxPooling2D(pool_size=(2, 2))(g0)\n",
    "g0 = Dropout(0.25)(g0)\n",
    "g0 = Flatten()(g0)\n",
    "g0 = Dense(128, activation='relu')(g0)\n",
    "g0 = Dropout(0.5)(g0)\n",
    "g0 = Dense(2, activation='softmax')(g0)"
   ]
  },
  {
   "cell_type": "code",
   "execution_count": 249,
   "metadata": {},
   "outputs": [],
   "source": [
    "g0 = baseModel(input1, 2)\n",
    "g0Model = Model(input1, g0)"
   ]
  },
  {
   "cell_type": "code",
   "execution_count": 250,
   "metadata": {},
   "outputs": [],
   "source": [
    "g0Model.compile(loss='categorical_crossentropy',\n",
    "                optimizer=Adam(),\n",
    "                metrics=['accuracy'])"
   ]
  },
  {
   "cell_type": "code",
   "execution_count": 251,
   "metadata": {},
   "outputs": [
    {
     "name": "stdout",
     "output_type": "stream",
     "text": [
      "Train on 60000 samples, validate on 10000 samples\n",
      "Epoch 1/3\n",
      "60000/60000 [==============================] - 62s 1ms/step - loss: 0.1008 - acc: 0.9617 - val_loss: 0.0419 - val_acc: 0.9848\n",
      "Epoch 2/3\n",
      "60000/60000 [==============================] - 61s 1ms/step - loss: 0.0409 - acc: 0.9861 - val_loss: 0.0318 - val_acc: 0.9887\n",
      "Epoch 3/3\n",
      "60000/60000 [==============================] - 62s 1ms/step - loss: 0.0309 - acc: 0.9895 - val_loss: 0.0275 - val_acc: 0.9920\n"
     ]
    },
    {
     "data": {
      "text/plain": [
       "<keras.callbacks.History at 0x7fa66b9a5b38>"
      ]
     },
     "execution_count": 251,
     "metadata": {},
     "output_type": "execute_result"
    }
   ],
   "source": [
    "g0Model.fit(x_train, y_train01,\n",
    "            batch_size=batch_size,\n",
    "            epochs=epochs,\n",
    "            validation_data=(x_test, y_test01))"
   ]
  },
  {
   "cell_type": "code",
   "execution_count": 252,
   "metadata": {},
   "outputs": [
    {
     "name": "stdout",
     "output_type": "stream",
     "text": [
      "10000/10000 [==============================] - 4s 437us/step\n",
      "[0.027455827408827464, 0.99199999999999999]\n"
     ]
    }
   ],
   "source": [
    "g0Score = g0Model.evaluate(x_test, y_test01)\n",
    "print(g0Score)"
   ]
  },
  {
   "cell_type": "code",
   "execution_count": 254,
   "metadata": {},
   "outputs": [
    {
     "data": {
      "text/plain": [
       "TensorShape([Dimension(None), Dimension(2)])"
      ]
     },
     "execution_count": 254,
     "metadata": {},
     "output_type": "execute_result"
    }
   ],
   "source": [
    "g0.shape"
   ]
  },
  {
   "cell_type": "code",
   "execution_count": null,
   "metadata": {},
   "outputs": [],
   "source": []
  },
  {
   "cell_type": "code",
   "execution_count": 264,
   "metadata": {
    "scrolled": true
   },
   "outputs": [],
   "source": [
    "def subGate(input1, num_classes):\n",
    "    g01 = Flatten()(input1)\n",
    "    g01 = Dense(128, activation=\"relu\")(g01)\n",
    "    g01 = Dense(num_classes*2, activation=\"softmax\")(g01)\n",
    "    g01 = Reshape((num_classes, 2))(g01)\n",
    "    return g01"
   ]
  },
  {
   "cell_type": "code",
   "execution_count": 266,
   "metadata": {},
   "outputs": [],
   "source": [
    "g00 = subGate(input1, num_classes)\n",
    "g11 = subGate(input1, num_classes)"
   ]
  },
  {
   "cell_type": "code",
   "execution_count": null,
   "metadata": {},
   "outputs": [],
   "source": []
  },
  {
   "cell_type": "code",
   "execution_count": 261,
   "metadata": {},
   "outputs": [],
   "source": [
    "g0Switch = Lambda(lambda gx: K.switch(gx[2][:,0] > gx[2][:,1], \n",
    "                                      gx[0], \n",
    "                                      gx[1]), \n",
    "                output_shape=(num_classes,))([x00, x11, g0, x1])"
   ]
  },
  {
   "cell_type": "code",
   "execution_count": 268,
   "metadata": {},
   "outputs": [],
   "source": [
    "def subGateLambda(x0, x1, g01):\n",
    "    output = Lambda(lambda gx: (gx[0]*gx[2][:,:,0]) + (gx[1]*gx[2][:,:,1]), output_shape=(num_classes,))([x0, x1, g01])\n",
    "    return output"
   ]
  },
  {
   "cell_type": "code",
   "execution_count": 270,
   "metadata": {
    "scrolled": true
   },
   "outputs": [],
   "source": [
    "output = Lambda(lambda gx: K.switch(gx[2][:,0] > gx[2][:,1], \n",
    "                                    subGateLambda(gx[0],gx[3],gx[4]), \n",
    "                                    subGateLambda(gx[1],gx[3],gx[5])), \n",
    "                output_shape=(num_classes,))([x00, x11, g0, x1, g00, g11])"
   ]
  },
  {
   "cell_type": "code",
   "execution_count": null,
   "metadata": {},
   "outputs": [],
   "source": []
  },
  {
   "cell_type": "code",
   "execution_count": null,
   "metadata": {},
   "outputs": [],
   "source": []
  },
  {
   "cell_type": "code",
   "execution_count": null,
   "metadata": {},
   "outputs": [],
   "source": []
  },
  {
   "cell_type": "code",
   "execution_count": null,
   "metadata": {},
   "outputs": [],
   "source": []
  },
  {
   "cell_type": "code",
   "execution_count": null,
   "metadata": {},
   "outputs": [],
   "source": []
  },
  {
   "cell_type": "code",
   "execution_count": 260,
   "metadata": {},
   "outputs": [],
   "source": [
    "for l in x1Model.layers:\n",
    "    l.trainable = False\n",
    "for l in x00Model.layers:\n",
    "    l.trainable = False\n",
    "for l in x11Model.layers:\n",
    "    l.trainable = False\n",
    "for l in g0Model.layers:\n",
    "    l.trainable = False"
   ]
  },
  {
   "cell_type": "code",
   "execution_count": null,
   "metadata": {},
   "outputs": [],
   "source": []
  },
  {
   "cell_type": "code",
   "execution_count": null,
   "metadata": {},
   "outputs": [],
   "source": []
  },
  {
   "cell_type": "code",
   "execution_count": null,
   "metadata": {},
   "outputs": [],
   "source": []
  },
  {
   "cell_type": "code",
   "execution_count": 26,
   "metadata": {},
   "outputs": [],
   "source": [
    "output = Lambda(lambda gx: (gx[0]*gx[2][:,:,0]) + (gx[1]*gx[2][:,:,1]), output_shape=(num_classes,))([x1, x2, g0])"
   ]
  },
  {
   "cell_type": "code",
   "execution_count": 89,
   "metadata": {},
   "outputs": [],
   "source": [
    "output = Lambda(lambda gx: K.switch(gx[2][:,:,0] > 0.4, \n",
    "                                    gx[0]*gx[2][:,:,0], \n",
    "                                    gx[0]*0) + K.switch(gx[2][:,:,1] > 0.4, \n",
    "                                                        gx[1]*gx[2][:,:,1], \n",
    "                                                        gx[1]*0), \n",
    "                output_shape=(num_classes,))([x1, x2, g0])"
   ]
  },
  {
   "cell_type": "code",
   "execution_count": null,
   "metadata": {},
   "outputs": [],
   "source": []
  },
  {
   "cell_type": "code",
   "execution_count": null,
   "metadata": {},
   "outputs": [],
   "source": []
  },
  {
   "cell_type": "code",
   "execution_count": 271,
   "metadata": {
    "scrolled": true
   },
   "outputs": [],
   "source": [
    "model = Model(input1, output)"
   ]
  },
  {
   "cell_type": "code",
   "execution_count": 272,
   "metadata": {
    "scrolled": true
   },
   "outputs": [
    {
     "data": {
      "image/svg+xml": [
       "<svg height=\"712pt\" viewBox=\"0.00 0.00 1172.00 712.00\" width=\"1172pt\" xmlns=\"http://www.w3.org/2000/svg\" xmlns:xlink=\"http://www.w3.org/1999/xlink\">\n",
       "<g class=\"graph\" id=\"graph0\" transform=\"scale(1 1) rotate(0) translate(4 708)\">\n",
       "<title>G</title>\n",
       "<polygon fill=\"white\" points=\"-4,5 -4,-708 1169,-708 1169,5 -4,5\" stroke=\"white\"/>\n",
       "<!-- 140352733181992 -->\n",
       "<g class=\"node\" id=\"node1\"><title>140352733181992</title>\n",
       "<polygon fill=\"none\" points=\"602.5,-667 602.5,-703 727.5,-703 727.5,-667 602.5,-667\" stroke=\"black\"/>\n",
       "<text font-family=\"Times,serif\" font-size=\"14.00\" text-anchor=\"middle\" x=\"665\" y=\"-681.3\">input_4: InputLayer</text>\n",
       "</g>\n",
       "<!-- 140352762935952 -->\n",
       "<g class=\"node\" id=\"node2\"><title>140352762935952</title>\n",
       "<polygon fill=\"none\" points=\"146,-593 146,-629 276,-629 276,-593 146,-593\" stroke=\"black\"/>\n",
       "<text font-family=\"Times,serif\" font-size=\"14.00\" text-anchor=\"middle\" x=\"211\" y=\"-607.3\">conv2d_31: Conv2D</text>\n",
       "</g>\n",
       "<!-- 140352733181992&#45;&gt;140352762935952 -->\n",
       "<g class=\"edge\" id=\"edge1\"><title>140352733181992-&gt;140352762935952</title>\n",
       "<path d=\"M602.35,-674.064C519.786,-660.97 374.702,-637.962 286.275,-623.938\" fill=\"none\" stroke=\"black\"/>\n",
       "<polygon fill=\"black\" points=\"286.736,-620.467 276.311,-622.358 285.639,-627.381 286.736,-620.467\" stroke=\"black\"/>\n",
       "</g>\n",
       "<!-- 140352754172256 -->\n",
       "<g class=\"node\" id=\"node3\"><title>140352754172256</title>\n",
       "<polygon fill=\"none\" points=\"336,-593 336,-629 466,-629 466,-593 336,-593\" stroke=\"black\"/>\n",
       "<text font-family=\"Times,serif\" font-size=\"14.00\" text-anchor=\"middle\" x=\"401\" y=\"-607.3\">conv2d_33: Conv2D</text>\n",
       "</g>\n",
       "<!-- 140352733181992&#45;&gt;140352754172256 -->\n",
       "<g class=\"edge\" id=\"edge2\"><title>140352733181992-&gt;140352754172256</title>\n",
       "<path d=\"M602.436,-666.937C563.698,-656.372 513.808,-642.766 473.37,-631.737\" fill=\"none\" stroke=\"black\"/>\n",
       "<polygon fill=\"black\" points=\"474.141,-628.32 463.572,-629.065 472.299,-635.073 474.141,-628.32\" stroke=\"black\"/>\n",
       "</g>\n",
       "<!-- 140352747657312 -->\n",
       "<g class=\"node\" id=\"node4\"><title>140352747657312</title>\n",
       "<polygon fill=\"none\" points=\"526,-593 526,-629 656,-629 656,-593 526,-593\" stroke=\"black\"/>\n",
       "<text font-family=\"Times,serif\" font-size=\"14.00\" text-anchor=\"middle\" x=\"591\" y=\"-607.3\">conv2d_35: Conv2D</text>\n",
       "</g>\n",
       "<!-- 140352733181992&#45;&gt;140352747657312 -->\n",
       "<g class=\"edge\" id=\"edge3\"><title>140352733181992-&gt;140352747657312</title>\n",
       "<path d=\"M647.463,-666.937C638.04,-657.768 626.261,-646.308 615.904,-636.231\" fill=\"none\" stroke=\"black\"/>\n",
       "<polygon fill=\"black\" points=\"618.276,-633.655 608.668,-629.19 613.394,-638.672 618.276,-633.655\" stroke=\"black\"/>\n",
       "</g>\n",
       "<!-- 140352668014520 -->\n",
       "<g class=\"node\" id=\"node5\"><title>140352668014520</title>\n",
       "<polygon fill=\"none\" points=\"695,-593 695,-629 825,-629 825,-593 695,-593\" stroke=\"black\"/>\n",
       "<text font-family=\"Times,serif\" font-size=\"14.00\" text-anchor=\"middle\" x=\"760\" y=\"-607.3\">conv2d_23: Conv2D</text>\n",
       "</g>\n",
       "<!-- 140352733181992&#45;&gt;140352668014520 -->\n",
       "<g class=\"edge\" id=\"edge4\"><title>140352733181992-&gt;140352668014520</title>\n",
       "<path d=\"M687.514,-666.937C699.964,-657.501 715.615,-645.639 729.186,-635.354\" fill=\"none\" stroke=\"black\"/>\n",
       "<polygon fill=\"black\" points=\"731.463,-638.02 737.319,-629.19 727.235,-632.441 731.463,-638.02\" stroke=\"black\"/>\n",
       "</g>\n",
       "<!-- 140352741212792 -->\n",
       "<g class=\"node\" id=\"node22\"><title>140352741212792</title>\n",
       "<polygon fill=\"none\" points=\"904,-519 904,-555 1020,-555 1020,-519 904,-519\" stroke=\"black\"/>\n",
       "<text font-family=\"Times,serif\" font-size=\"14.00\" text-anchor=\"middle\" x=\"962\" y=\"-533.3\">flatten_27: Flatten</text>\n",
       "</g>\n",
       "<!-- 140352733181992&#45;&gt;140352741212792 -->\n",
       "<g class=\"edge\" id=\"edge21\"><title>140352733181992-&gt;140352741212792</title>\n",
       "<path d=\"M727.846,-668.988C760.477,-659.948 800.433,-646.892 834,-630 871.337,-611.21 909.684,-582.094 934.546,-561.66\" fill=\"none\" stroke=\"black\"/>\n",
       "<polygon fill=\"black\" points=\"936.992,-564.178 942.439,-555.091 932.514,-558.798 936.992,-564.178\" stroke=\"black\"/>\n",
       "</g>\n",
       "<!-- 140352741508152 -->\n",
       "<g class=\"node\" id=\"node23\"><title>140352741508152</title>\n",
       "<polygon fill=\"none\" points=\"917,-593 917,-629 1033,-629 1033,-593 917,-593\" stroke=\"black\"/>\n",
       "<text font-family=\"Times,serif\" font-size=\"14.00\" text-anchor=\"middle\" x=\"975\" y=\"-607.3\">flatten_28: Flatten</text>\n",
       "</g>\n",
       "<!-- 140352733181992&#45;&gt;140352741508152 -->\n",
       "<g class=\"edge\" id=\"edge22\"><title>140352733181992-&gt;140352741508152</title>\n",
       "<path d=\"M727.733,-669.43C779.673,-657.366 853.346,-640.255 906.752,-627.851\" fill=\"none\" stroke=\"black\"/>\n",
       "<polygon fill=\"black\" points=\"907.865,-631.186 916.814,-625.514 906.281,-624.367 907.865,-631.186\" stroke=\"black\"/>\n",
       "</g>\n",
       "<!-- 140352763408168 -->\n",
       "<g class=\"node\" id=\"node6\"><title>140352763408168</title>\n",
       "<polygon fill=\"none\" points=\"83,-519 83,-555 213,-555 213,-519 83,-519\" stroke=\"black\"/>\n",
       "<text font-family=\"Times,serif\" font-size=\"14.00\" text-anchor=\"middle\" x=\"148\" y=\"-533.3\">conv2d_32: Conv2D</text>\n",
       "</g>\n",
       "<!-- 140352762935952&#45;&gt;140352763408168 -->\n",
       "<g class=\"edge\" id=\"edge5\"><title>140352762935952-&gt;140352763408168</title>\n",
       "<path d=\"M196.07,-592.937C188.26,-584.012 178.551,-572.916 169.908,-563.037\" fill=\"none\" stroke=\"black\"/>\n",
       "<polygon fill=\"black\" points=\"172.48,-560.662 163.261,-555.441 167.212,-565.271 172.48,-560.662\" stroke=\"black\"/>\n",
       "</g>\n",
       "<!-- 140352754175672 -->\n",
       "<g class=\"node\" id=\"node7\"><title>140352754175672</title>\n",
       "<polygon fill=\"none\" points=\"305,-519 305,-555 435,-555 435,-519 305,-519\" stroke=\"black\"/>\n",
       "<text font-family=\"Times,serif\" font-size=\"14.00\" text-anchor=\"middle\" x=\"370\" y=\"-533.3\">conv2d_34: Conv2D</text>\n",
       "</g>\n",
       "<!-- 140352754172256&#45;&gt;140352754175672 -->\n",
       "<g class=\"edge\" id=\"edge6\"><title>140352754172256-&gt;140352754175672</title>\n",
       "<path d=\"M393.653,-592.937C390.039,-584.542 385.598,-574.227 381.543,-564.81\" fill=\"none\" stroke=\"black\"/>\n",
       "<polygon fill=\"black\" points=\"384.679,-563.241 377.509,-555.441 378.249,-566.01 384.679,-563.241\" stroke=\"black\"/>\n",
       "</g>\n",
       "<!-- 140352748090648 -->\n",
       "<g class=\"node\" id=\"node8\"><title>140352748090648</title>\n",
       "<polygon fill=\"none\" points=\"526,-519 526,-555 656,-555 656,-519 526,-519\" stroke=\"black\"/>\n",
       "<text font-family=\"Times,serif\" font-size=\"14.00\" text-anchor=\"middle\" x=\"591\" y=\"-533.3\">conv2d_36: Conv2D</text>\n",
       "</g>\n",
       "<!-- 140352747657312&#45;&gt;140352748090648 -->\n",
       "<g class=\"edge\" id=\"edge7\"><title>140352747657312-&gt;140352748090648</title>\n",
       "<path d=\"M591,-592.937C591,-584.807 591,-574.876 591,-565.705\" fill=\"none\" stroke=\"black\"/>\n",
       "<polygon fill=\"black\" points=\"594.5,-565.441 591,-555.441 587.5,-565.441 594.5,-565.441\" stroke=\"black\"/>\n",
       "</g>\n",
       "<!-- 140352668014856 -->\n",
       "<g class=\"node\" id=\"node9\"><title>140352668014856</title>\n",
       "<polygon fill=\"none\" points=\"716,-519 716,-555 846,-555 846,-519 716,-519\" stroke=\"black\"/>\n",
       "<text font-family=\"Times,serif\" font-size=\"14.00\" text-anchor=\"middle\" x=\"781\" y=\"-533.3\">conv2d_24: Conv2D</text>\n",
       "</g>\n",
       "<!-- 140352668014520&#45;&gt;140352668014856 -->\n",
       "<g class=\"edge\" id=\"edge8\"><title>140352668014520-&gt;140352668014856</title>\n",
       "<path d=\"M764.977,-592.937C767.399,-584.63 770.371,-574.444 773.094,-565.108\" fill=\"none\" stroke=\"black\"/>\n",
       "<polygon fill=\"black\" points=\"776.473,-566.021 775.913,-555.441 769.753,-564.061 776.473,-566.021\" stroke=\"black\"/>\n",
       "</g>\n",
       "<!-- 140352762936848 -->\n",
       "<g class=\"node\" id=\"node10\"><title>140352762936848</title>\n",
       "<polygon fill=\"none\" points=\"0,-445 0,-481 214,-481 214,-445 0,-445\" stroke=\"black\"/>\n",
       "<text font-family=\"Times,serif\" font-size=\"14.00\" text-anchor=\"middle\" x=\"107\" y=\"-459.3\">max_pooling2d_16: MaxPooling2D</text>\n",
       "</g>\n",
       "<!-- 140352763408168&#45;&gt;140352762936848 -->\n",
       "<g class=\"edge\" id=\"edge9\"><title>140352763408168-&gt;140352762936848</title>\n",
       "<path d=\"M138.284,-518.937C133.402,-510.365 127.381,-499.791 121.929,-490.217\" fill=\"none\" stroke=\"black\"/>\n",
       "<polygon fill=\"black\" points=\"124.921,-488.399 116.931,-481.441 118.838,-491.862 124.921,-488.399\" stroke=\"black\"/>\n",
       "</g>\n",
       "<!-- 140352754801128 -->\n",
       "<g class=\"node\" id=\"node11\"><title>140352754801128</title>\n",
       "<polygon fill=\"none\" points=\"232,-445 232,-481 446,-481 446,-445 232,-445\" stroke=\"black\"/>\n",
       "<text font-family=\"Times,serif\" font-size=\"14.00\" text-anchor=\"middle\" x=\"339\" y=\"-459.3\">max_pooling2d_17: MaxPooling2D</text>\n",
       "</g>\n",
       "<!-- 140352754175672&#45;&gt;140352754801128 -->\n",
       "<g class=\"edge\" id=\"edge10\"><title>140352754175672-&gt;140352754801128</title>\n",
       "<path d=\"M362.653,-518.937C359.039,-510.542 354.598,-500.227 350.543,-490.81\" fill=\"none\" stroke=\"black\"/>\n",
       "<polygon fill=\"black\" points=\"353.679,-489.241 346.509,-481.441 347.249,-492.01 353.679,-489.241\" stroke=\"black\"/>\n",
       "</g>\n",
       "<!-- 140352747658712 -->\n",
       "<g class=\"node\" id=\"node12\"><title>140352747658712</title>\n",
       "<polygon fill=\"none\" points=\"464,-445 464,-481 678,-481 678,-445 464,-445\" stroke=\"black\"/>\n",
       "<text font-family=\"Times,serif\" font-size=\"14.00\" text-anchor=\"middle\" x=\"571\" y=\"-459.3\">max_pooling2d_18: MaxPooling2D</text>\n",
       "</g>\n",
       "<!-- 140352748090648&#45;&gt;140352747658712 -->\n",
       "<g class=\"edge\" id=\"edge11\"><title>140352748090648-&gt;140352747658712</title>\n",
       "<path d=\"M586.26,-518.937C583.953,-510.63 581.123,-500.444 578.53,-491.108\" fill=\"none\" stroke=\"black\"/>\n",
       "<polygon fill=\"black\" points=\"581.893,-490.139 575.845,-481.441 575.149,-492.013 581.893,-490.139\" stroke=\"black\"/>\n",
       "</g>\n",
       "<!-- 140352668015192 -->\n",
       "<g class=\"node\" id=\"node13\"><title>140352668015192</title>\n",
       "<polygon fill=\"none\" points=\"696,-445 696,-481 910,-481 910,-445 696,-445\" stroke=\"black\"/>\n",
       "<text font-family=\"Times,serif\" font-size=\"14.00\" text-anchor=\"middle\" x=\"803\" y=\"-459.3\">max_pooling2d_12: MaxPooling2D</text>\n",
       "</g>\n",
       "<!-- 140352668014856&#45;&gt;140352668015192 -->\n",
       "<g class=\"edge\" id=\"edge12\"><title>140352668014856-&gt;140352668015192</title>\n",
       "<path d=\"M786.214,-518.937C788.752,-510.63 791.864,-500.444 794.717,-491.108\" fill=\"none\" stroke=\"black\"/>\n",
       "<polygon fill=\"black\" points=\"798.096,-492.027 797.671,-481.441 791.401,-489.981 798.096,-492.027\" stroke=\"black\"/>\n",
       "</g>\n",
       "<!-- 140352762574832 -->\n",
       "<g class=\"node\" id=\"node14\"><title>140352762574832</title>\n",
       "<polygon fill=\"none\" points=\"133.5,-371 133.5,-407 264.5,-407 264.5,-371 133.5,-371\" stroke=\"black\"/>\n",
       "<text font-family=\"Times,serif\" font-size=\"14.00\" text-anchor=\"middle\" x=\"199\" y=\"-385.3\">dropout_31: Dropout</text>\n",
       "</g>\n",
       "<!-- 140352762936848&#45;&gt;140352762574832 -->\n",
       "<g class=\"edge\" id=\"edge13\"><title>140352762936848-&gt;140352762574832</title>\n",
       "<path d=\"M128.803,-444.937C140.86,-435.501 156.017,-423.639 169.159,-413.354\" fill=\"none\" stroke=\"black\"/>\n",
       "<polygon fill=\"black\" points=\"171.317,-416.109 177.035,-407.19 167.003,-410.597 171.317,-416.109\" stroke=\"black\"/>\n",
       "</g>\n",
       "<!-- 140352755040040 -->\n",
       "<g class=\"node\" id=\"node15\"><title>140352755040040</title>\n",
       "<polygon fill=\"none\" points=\"282.5,-371 282.5,-407 413.5,-407 413.5,-371 282.5,-371\" stroke=\"black\"/>\n",
       "<text font-family=\"Times,serif\" font-size=\"14.00\" text-anchor=\"middle\" x=\"348\" y=\"-385.3\">dropout_33: Dropout</text>\n",
       "</g>\n",
       "<!-- 140352754801128&#45;&gt;140352755040040 -->\n",
       "<g class=\"edge\" id=\"edge14\"><title>140352754801128-&gt;140352755040040</title>\n",
       "<path d=\"M341.133,-444.937C342.16,-436.719 343.417,-426.66 344.574,-417.406\" fill=\"none\" stroke=\"black\"/>\n",
       "<polygon fill=\"black\" points=\"348.052,-417.798 345.82,-407.441 341.107,-416.929 348.052,-417.798\" stroke=\"black\"/>\n",
       "</g>\n",
       "<!-- 140352747814472 -->\n",
       "<g class=\"node\" id=\"node16\"><title>140352747814472</title>\n",
       "<polygon fill=\"none\" points=\"505.5,-371 505.5,-407 636.5,-407 636.5,-371 505.5,-371\" stroke=\"black\"/>\n",
       "<text font-family=\"Times,serif\" font-size=\"14.00\" text-anchor=\"middle\" x=\"571\" y=\"-385.3\">dropout_35: Dropout</text>\n",
       "</g>\n",
       "<!-- 140352747658712&#45;&gt;140352747814472 -->\n",
       "<g class=\"edge\" id=\"edge15\"><title>140352747658712-&gt;140352747814472</title>\n",
       "<path d=\"M571,-444.937C571,-436.807 571,-426.876 571,-417.705\" fill=\"none\" stroke=\"black\"/>\n",
       "<polygon fill=\"black\" points=\"574.5,-417.441 571,-407.441 567.5,-417.441 574.5,-417.441\" stroke=\"black\"/>\n",
       "</g>\n",
       "<!-- 140352667014648 -->\n",
       "<g class=\"node\" id=\"node17\"><title>140352667014648</title>\n",
       "<polygon fill=\"none\" points=\"732.5,-371 732.5,-407 863.5,-407 863.5,-371 732.5,-371\" stroke=\"black\"/>\n",
       "<text font-family=\"Times,serif\" font-size=\"14.00\" text-anchor=\"middle\" x=\"798\" y=\"-385.3\">dropout_23: Dropout</text>\n",
       "</g>\n",
       "<!-- 140352668015192&#45;&gt;140352667014648 -->\n",
       "<g class=\"edge\" id=\"edge16\"><title>140352668015192-&gt;140352667014648</title>\n",
       "<path d=\"M801.815,-444.937C801.25,-436.807 800.561,-426.876 799.924,-417.705\" fill=\"none\" stroke=\"black\"/>\n",
       "<polygon fill=\"black\" points=\"803.396,-417.174 799.211,-407.441 796.412,-417.659 803.396,-417.174\" stroke=\"black\"/>\n",
       "</g>\n",
       "<!-- 140352762573824 -->\n",
       "<g class=\"node\" id=\"node18\"><title>140352762573824</title>\n",
       "<polygon fill=\"none\" points=\"148,-297 148,-333 264,-333 264,-297 148,-297\" stroke=\"black\"/>\n",
       "<text font-family=\"Times,serif\" font-size=\"14.00\" text-anchor=\"middle\" x=\"206\" y=\"-311.3\">flatten_20: Flatten</text>\n",
       "</g>\n",
       "<!-- 140352762574832&#45;&gt;140352762573824 -->\n",
       "<g class=\"edge\" id=\"edge17\"><title>140352762574832-&gt;140352762573824</title>\n",
       "<path d=\"M200.659,-370.937C201.458,-362.719 202.436,-352.66 203.336,-343.406\" fill=\"none\" stroke=\"black\"/>\n",
       "<polygon fill=\"black\" points=\"206.82,-343.732 204.304,-333.441 199.853,-343.055 206.82,-343.732\" stroke=\"black\"/>\n",
       "</g>\n",
       "<!-- 140352755037744 -->\n",
       "<g class=\"node\" id=\"node19\"><title>140352755037744</title>\n",
       "<polygon fill=\"none\" points=\"293,-297 293,-333 409,-333 409,-297 293,-297\" stroke=\"black\"/>\n",
       "<text font-family=\"Times,serif\" font-size=\"14.00\" text-anchor=\"middle\" x=\"351\" y=\"-311.3\">flatten_21: Flatten</text>\n",
       "</g>\n",
       "<!-- 140352755040040&#45;&gt;140352755037744 -->\n",
       "<g class=\"edge\" id=\"edge18\"><title>140352755040040-&gt;140352755037744</title>\n",
       "<path d=\"M348.711,-370.937C349.05,-362.807 349.463,-352.876 349.846,-343.705\" fill=\"none\" stroke=\"black\"/>\n",
       "<polygon fill=\"black\" points=\"353.354,-343.578 350.273,-333.441 346.36,-343.286 353.354,-343.578\" stroke=\"black\"/>\n",
       "</g>\n",
       "<!-- 140352747811952 -->\n",
       "<g class=\"node\" id=\"node20\"><title>140352747811952</title>\n",
       "<polygon fill=\"none\" points=\"513,-297 513,-333 629,-333 629,-297 513,-297\" stroke=\"black\"/>\n",
       "<text font-family=\"Times,serif\" font-size=\"14.00\" text-anchor=\"middle\" x=\"571\" y=\"-311.3\">flatten_22: Flatten</text>\n",
       "</g>\n",
       "<!-- 140352747814472&#45;&gt;140352747811952 -->\n",
       "<g class=\"edge\" id=\"edge19\"><title>140352747814472-&gt;140352747811952</title>\n",
       "<path d=\"M571,-370.937C571,-362.807 571,-352.876 571,-343.705\" fill=\"none\" stroke=\"black\"/>\n",
       "<polygon fill=\"black\" points=\"574.5,-343.441 571,-333.441 567.5,-343.441 574.5,-343.441\" stroke=\"black\"/>\n",
       "</g>\n",
       "<!-- 140352667013192 -->\n",
       "<g class=\"node\" id=\"node21\"><title>140352667013192</title>\n",
       "<polygon fill=\"none\" points=\"699,-297 699,-333 815,-333 815,-297 699,-297\" stroke=\"black\"/>\n",
       "<text font-family=\"Times,serif\" font-size=\"14.00\" text-anchor=\"middle\" x=\"757\" y=\"-311.3\">flatten_16: Flatten</text>\n",
       "</g>\n",
       "<!-- 140352667014648&#45;&gt;140352667013192 -->\n",
       "<g class=\"edge\" id=\"edge20\"><title>140352667014648-&gt;140352667013192</title>\n",
       "<path d=\"M788.284,-370.937C783.402,-362.365 777.381,-351.791 771.929,-342.217\" fill=\"none\" stroke=\"black\"/>\n",
       "<polygon fill=\"black\" points=\"774.921,-340.399 766.931,-333.441 768.838,-343.862 774.921,-340.399\" stroke=\"black\"/>\n",
       "</g>\n",
       "<!-- 140352762670048 -->\n",
       "<g class=\"node\" id=\"node24\"><title>140352762670048</title>\n",
       "<polygon fill=\"none\" points=\"160.5,-223 160.5,-259 269.5,-259 269.5,-223 160.5,-223\" stroke=\"black\"/>\n",
       "<text font-family=\"Times,serif\" font-size=\"14.00\" text-anchor=\"middle\" x=\"215\" y=\"-237.3\">dense_41: Dense</text>\n",
       "</g>\n",
       "<!-- 140352762573824&#45;&gt;140352762670048 -->\n",
       "<g class=\"edge\" id=\"edge23\"><title>140352762573824-&gt;140352762670048</title>\n",
       "<path d=\"M208.133,-296.937C209.16,-288.719 210.417,-278.66 211.574,-269.406\" fill=\"none\" stroke=\"black\"/>\n",
       "<polygon fill=\"black\" points=\"215.052,-269.798 212.82,-259.441 208.107,-268.929 215.052,-269.798\" stroke=\"black\"/>\n",
       "</g>\n",
       "<!-- 140352754186448 -->\n",
       "<g class=\"node\" id=\"node25\"><title>140352754186448</title>\n",
       "<polygon fill=\"none\" points=\"302.5,-223 302.5,-259 411.5,-259 411.5,-223 302.5,-223\" stroke=\"black\"/>\n",
       "<text font-family=\"Times,serif\" font-size=\"14.00\" text-anchor=\"middle\" x=\"357\" y=\"-237.3\">dense_43: Dense</text>\n",
       "</g>\n",
       "<!-- 140352755037744&#45;&gt;140352754186448 -->\n",
       "<g class=\"edge\" id=\"edge24\"><title>140352755037744-&gt;140352754186448</title>\n",
       "<path d=\"M352.422,-296.937C353.099,-288.807 353.927,-278.876 354.691,-269.705\" fill=\"none\" stroke=\"black\"/>\n",
       "<polygon fill=\"black\" points=\"358.204,-269.697 355.547,-259.441 351.228,-269.115 358.204,-269.697\" stroke=\"black\"/>\n",
       "</g>\n",
       "<!-- 140352747386864 -->\n",
       "<g class=\"node\" id=\"node26\"><title>140352747386864</title>\n",
       "<polygon fill=\"none\" points=\"516.5,-223 516.5,-259 625.5,-259 625.5,-223 516.5,-223\" stroke=\"black\"/>\n",
       "<text font-family=\"Times,serif\" font-size=\"14.00\" text-anchor=\"middle\" x=\"571\" y=\"-237.3\">dense_45: Dense</text>\n",
       "</g>\n",
       "<!-- 140352747811952&#45;&gt;140352747386864 -->\n",
       "<g class=\"edge\" id=\"edge25\"><title>140352747811952-&gt;140352747386864</title>\n",
       "<path d=\"M571,-296.937C571,-288.807 571,-278.876 571,-269.705\" fill=\"none\" stroke=\"black\"/>\n",
       "<polygon fill=\"black\" points=\"574.5,-269.441 571,-259.441 567.5,-269.441 574.5,-269.441\" stroke=\"black\"/>\n",
       "</g>\n",
       "<!-- 140352667183480 -->\n",
       "<g class=\"node\" id=\"node27\"><title>140352667183480</title>\n",
       "<polygon fill=\"none\" points=\"681.5,-223 681.5,-259 790.5,-259 790.5,-223 681.5,-223\" stroke=\"black\"/>\n",
       "<text font-family=\"Times,serif\" font-size=\"14.00\" text-anchor=\"middle\" x=\"736\" y=\"-237.3\">dense_33: Dense</text>\n",
       "</g>\n",
       "<!-- 140352667013192&#45;&gt;140352667183480 -->\n",
       "<g class=\"edge\" id=\"edge26\"><title>140352667013192-&gt;140352667183480</title>\n",
       "<path d=\"M752.023,-296.937C749.601,-288.63 746.629,-278.444 743.906,-269.108\" fill=\"none\" stroke=\"black\"/>\n",
       "<polygon fill=\"black\" points=\"747.247,-268.061 741.087,-259.441 740.527,-270.021 747.247,-268.061\" stroke=\"black\"/>\n",
       "</g>\n",
       "<!-- 140352741212848 -->\n",
       "<g class=\"node\" id=\"node28\"><title>140352741212848</title>\n",
       "<polygon fill=\"none\" points=\"928.5,-445 928.5,-481 1037.5,-481 1037.5,-445 928.5,-445\" stroke=\"black\"/>\n",
       "<text font-family=\"Times,serif\" font-size=\"14.00\" text-anchor=\"middle\" x=\"983\" y=\"-459.3\">dense_55: Dense</text>\n",
       "</g>\n",
       "<!-- 140352741212792&#45;&gt;140352741212848 -->\n",
       "<g class=\"edge\" id=\"edge27\"><title>140352741212792-&gt;140352741212848</title>\n",
       "<path d=\"M966.977,-518.937C969.399,-510.63 972.371,-500.444 975.094,-491.108\" fill=\"none\" stroke=\"black\"/>\n",
       "<polygon fill=\"black\" points=\"978.473,-492.021 977.913,-481.441 971.753,-490.061 978.473,-492.021\" stroke=\"black\"/>\n",
       "</g>\n",
       "<!-- 140352741042496 -->\n",
       "<g class=\"node\" id=\"node29\"><title>140352741042496</title>\n",
       "<polygon fill=\"none\" points=\"1055.5,-445 1055.5,-481 1164.5,-481 1164.5,-445 1055.5,-445\" stroke=\"black\"/>\n",
       "<text font-family=\"Times,serif\" font-size=\"14.00\" text-anchor=\"middle\" x=\"1110\" y=\"-459.3\">dense_57: Dense</text>\n",
       "</g>\n",
       "<!-- 140352741508152&#45;&gt;140352741042496 -->\n",
       "<g class=\"edge\" id=\"edge28\"><title>140352741508152-&gt;140352741042496</title>\n",
       "<path d=\"M992.796,-592.767C1003.46,-582.297 1017.21,-568.568 1029,-556 1049.8,-533.831 1072.61,-507.755 1088.71,-489.036\" fill=\"none\" stroke=\"black\"/>\n",
       "<polygon fill=\"black\" points=\"1091.54,-491.116 1095.39,-481.245 1086.22,-486.56 1091.54,-491.116\" stroke=\"black\"/>\n",
       "</g>\n",
       "<!-- 140352762423952 -->\n",
       "<g class=\"node\" id=\"node30\"><title>140352762423952</title>\n",
       "<polygon fill=\"none\" points=\"182.5,-149 182.5,-185 313.5,-185 313.5,-149 182.5,-149\" stroke=\"black\"/>\n",
       "<text font-family=\"Times,serif\" font-size=\"14.00\" text-anchor=\"middle\" x=\"248\" y=\"-163.3\">dropout_32: Dropout</text>\n",
       "</g>\n",
       "<!-- 140352762670048&#45;&gt;140352762423952 -->\n",
       "<g class=\"edge\" id=\"edge29\"><title>140352762670048-&gt;140352762423952</title>\n",
       "<path d=\"M222.821,-222.937C226.668,-214.542 231.396,-204.227 235.712,-194.81\" fill=\"none\" stroke=\"black\"/>\n",
       "<polygon fill=\"black\" points=\"239.021,-195.99 240.006,-185.441 232.658,-193.073 239.021,-195.99\" stroke=\"black\"/>\n",
       "</g>\n",
       "<!-- 140352754595712 -->\n",
       "<g class=\"node\" id=\"node31\"><title>140352754595712</title>\n",
       "<polygon fill=\"none\" points=\"348.5,-149 348.5,-185 479.5,-185 479.5,-149 348.5,-149\" stroke=\"black\"/>\n",
       "<text font-family=\"Times,serif\" font-size=\"14.00\" text-anchor=\"middle\" x=\"414\" y=\"-163.3\">dropout_34: Dropout</text>\n",
       "</g>\n",
       "<!-- 140352754186448&#45;&gt;140352754595712 -->\n",
       "<g class=\"edge\" id=\"edge30\"><title>140352754186448-&gt;140352754595712</title>\n",
       "<path d=\"M370.508,-222.937C377.504,-214.1 386.184,-203.135 393.946,-193.331\" fill=\"none\" stroke=\"black\"/>\n",
       "<polygon fill=\"black\" points=\"396.73,-195.454 400.193,-185.441 391.242,-191.109 396.73,-195.454\" stroke=\"black\"/>\n",
       "</g>\n",
       "<!-- 140352747128536 -->\n",
       "<g class=\"node\" id=\"node32\"><title>140352747128536</title>\n",
       "<polygon fill=\"none\" points=\"505.5,-149 505.5,-185 636.5,-185 636.5,-149 505.5,-149\" stroke=\"black\"/>\n",
       "<text font-family=\"Times,serif\" font-size=\"14.00\" text-anchor=\"middle\" x=\"571\" y=\"-163.3\">dropout_36: Dropout</text>\n",
       "</g>\n",
       "<!-- 140352747386864&#45;&gt;140352747128536 -->\n",
       "<g class=\"edge\" id=\"edge31\"><title>140352747386864-&gt;140352747128536</title>\n",
       "<path d=\"M571,-222.937C571,-214.807 571,-204.876 571,-195.705\" fill=\"none\" stroke=\"black\"/>\n",
       "<polygon fill=\"black\" points=\"574.5,-195.441 571,-185.441 567.5,-195.441 574.5,-195.441\" stroke=\"black\"/>\n",
       "</g>\n",
       "<!-- 140352666925096 -->\n",
       "<g class=\"node\" id=\"node33\"><title>140352666925096</title>\n",
       "<polygon fill=\"none\" points=\"660.5,-149 660.5,-185 791.5,-185 791.5,-149 660.5,-149\" stroke=\"black\"/>\n",
       "<text font-family=\"Times,serif\" font-size=\"14.00\" text-anchor=\"middle\" x=\"726\" y=\"-163.3\">dropout_24: Dropout</text>\n",
       "</g>\n",
       "<!-- 140352667183480&#45;&gt;140352666925096 -->\n",
       "<g class=\"edge\" id=\"edge32\"><title>140352667183480-&gt;140352666925096</title>\n",
       "<path d=\"M733.63,-222.937C732.489,-214.719 731.092,-204.66 729.806,-195.406\" fill=\"none\" stroke=\"black\"/>\n",
       "<polygon fill=\"black\" points=\"733.265,-194.864 728.422,-185.441 726.331,-195.827 733.265,-194.864\" stroke=\"black\"/>\n",
       "</g>\n",
       "<!-- 140352741206112 -->\n",
       "<g class=\"node\" id=\"node34\"><title>140352741206112</title>\n",
       "<polygon fill=\"none\" points=\"928.5,-371 928.5,-407 1037.5,-407 1037.5,-371 928.5,-371\" stroke=\"black\"/>\n",
       "<text font-family=\"Times,serif\" font-size=\"14.00\" text-anchor=\"middle\" x=\"983\" y=\"-385.3\">dense_56: Dense</text>\n",
       "</g>\n",
       "<!-- 140352741212848&#45;&gt;140352741206112 -->\n",
       "<g class=\"edge\" id=\"edge33\"><title>140352741212848-&gt;140352741206112</title>\n",
       "<path d=\"M983,-444.937C983,-436.807 983,-426.876 983,-417.705\" fill=\"none\" stroke=\"black\"/>\n",
       "<polygon fill=\"black\" points=\"986.5,-417.441 983,-407.441 979.5,-417.441 986.5,-417.441\" stroke=\"black\"/>\n",
       "</g>\n",
       "<!-- 140352739814592 -->\n",
       "<g class=\"node\" id=\"node35\"><title>140352739814592</title>\n",
       "<polygon fill=\"none\" points=\"1055.5,-371 1055.5,-407 1164.5,-407 1164.5,-371 1055.5,-371\" stroke=\"black\"/>\n",
       "<text font-family=\"Times,serif\" font-size=\"14.00\" text-anchor=\"middle\" x=\"1110\" y=\"-385.3\">dense_58: Dense</text>\n",
       "</g>\n",
       "<!-- 140352741042496&#45;&gt;140352739814592 -->\n",
       "<g class=\"edge\" id=\"edge34\"><title>140352741042496-&gt;140352739814592</title>\n",
       "<path d=\"M1110,-444.937C1110,-436.807 1110,-426.876 1110,-417.705\" fill=\"none\" stroke=\"black\"/>\n",
       "<polygon fill=\"black\" points=\"1113.5,-417.441 1110,-407.441 1106.5,-417.441 1113.5,-417.441\" stroke=\"black\"/>\n",
       "</g>\n",
       "<!-- 140352762423280 -->\n",
       "<g class=\"node\" id=\"node36\"><title>140352762423280</title>\n",
       "<polygon fill=\"none\" points=\"213.5,-75 213.5,-111 322.5,-111 322.5,-75 213.5,-75\" stroke=\"black\"/>\n",
       "<text font-family=\"Times,serif\" font-size=\"14.00\" text-anchor=\"middle\" x=\"268\" y=\"-89.3\">dense_42: Dense</text>\n",
       "</g>\n",
       "<!-- 140352762423952&#45;&gt;140352762423280 -->\n",
       "<g class=\"edge\" id=\"edge35\"><title>140352762423952-&gt;140352762423280</title>\n",
       "<path d=\"M252.74,-148.937C255.047,-140.63 257.877,-130.444 260.47,-121.108\" fill=\"none\" stroke=\"black\"/>\n",
       "<polygon fill=\"black\" points=\"263.851,-122.013 263.155,-111.441 257.107,-120.139 263.851,-122.013\" stroke=\"black\"/>\n",
       "</g>\n",
       "<!-- 140352754595040 -->\n",
       "<g class=\"node\" id=\"node37\"><title>140352754595040</title>\n",
       "<polygon fill=\"none\" points=\"374.5,-75 374.5,-111 483.5,-111 483.5,-75 374.5,-75\" stroke=\"black\"/>\n",
       "<text font-family=\"Times,serif\" font-size=\"14.00\" text-anchor=\"middle\" x=\"429\" y=\"-89.3\">dense_44: Dense</text>\n",
       "</g>\n",
       "<!-- 140352754595712&#45;&gt;140352754595040 -->\n",
       "<g class=\"edge\" id=\"edge36\"><title>140352754595712-&gt;140352754595040</title>\n",
       "<path d=\"M417.555,-148.937C419.267,-140.719 421.362,-130.66 423.29,-121.406\" fill=\"none\" stroke=\"black\"/>\n",
       "<polygon fill=\"black\" points=\"426.753,-121.944 425.367,-111.441 419.9,-120.517 426.753,-121.944\" stroke=\"black\"/>\n",
       "</g>\n",
       "<!-- 140352747931240 -->\n",
       "<g class=\"node\" id=\"node38\"><title>140352747931240</title>\n",
       "<polygon fill=\"none\" points=\"516.5,-75 516.5,-111 625.5,-111 625.5,-75 516.5,-75\" stroke=\"black\"/>\n",
       "<text font-family=\"Times,serif\" font-size=\"14.00\" text-anchor=\"middle\" x=\"571\" y=\"-89.3\">dense_46: Dense</text>\n",
       "</g>\n",
       "<!-- 140352747128536&#45;&gt;140352747931240 -->\n",
       "<g class=\"edge\" id=\"edge37\"><title>140352747128536-&gt;140352747931240</title>\n",
       "<path d=\"M571,-148.937C571,-140.807 571,-130.876 571,-121.705\" fill=\"none\" stroke=\"black\"/>\n",
       "<polygon fill=\"black\" points=\"574.5,-121.441 571,-111.441 567.5,-121.441 574.5,-121.441\" stroke=\"black\"/>\n",
       "</g>\n",
       "<!-- 140352668547728 -->\n",
       "<g class=\"node\" id=\"node39\"><title>140352668547728</title>\n",
       "<polygon fill=\"none\" points=\"657.5,-75 657.5,-111 766.5,-111 766.5,-75 657.5,-75\" stroke=\"black\"/>\n",
       "<text font-family=\"Times,serif\" font-size=\"14.00\" text-anchor=\"middle\" x=\"712\" y=\"-89.3\">dense_34: Dense</text>\n",
       "</g>\n",
       "<!-- 140352666925096&#45;&gt;140352668547728 -->\n",
       "<g class=\"edge\" id=\"edge38\"><title>140352666925096-&gt;140352668547728</title>\n",
       "<path d=\"M722.682,-148.937C721.084,-140.719 719.128,-130.66 717.329,-121.406\" fill=\"none\" stroke=\"black\"/>\n",
       "<polygon fill=\"black\" points=\"720.736,-120.589 715.391,-111.441 713.864,-121.925 720.736,-120.589\" stroke=\"black\"/>\n",
       "</g>\n",
       "<!-- 140352741252680 -->\n",
       "<g class=\"node\" id=\"node40\"><title>140352741252680</title>\n",
       "<polygon fill=\"none\" points=\"917.5,-297 917.5,-333 1048.5,-333 1048.5,-297 917.5,-297\" stroke=\"black\"/>\n",
       "<text font-family=\"Times,serif\" font-size=\"14.00\" text-anchor=\"middle\" x=\"983\" y=\"-311.3\">reshape_10: Reshape</text>\n",
       "</g>\n",
       "<!-- 140352741206112&#45;&gt;140352741252680 -->\n",
       "<g class=\"edge\" id=\"edge39\"><title>140352741206112-&gt;140352741252680</title>\n",
       "<path d=\"M983,-370.937C983,-362.807 983,-352.876 983,-343.705\" fill=\"none\" stroke=\"black\"/>\n",
       "<polygon fill=\"black\" points=\"986.5,-343.441 983,-333.441 979.5,-343.441 986.5,-343.441\" stroke=\"black\"/>\n",
       "</g>\n",
       "<!-- 140352739919520 -->\n",
       "<g class=\"node\" id=\"node41\"><title>140352739919520</title>\n",
       "<polygon fill=\"none\" points=\"1011.5,-223 1011.5,-259 1142.5,-259 1142.5,-223 1011.5,-223\" stroke=\"black\"/>\n",
       "<text font-family=\"Times,serif\" font-size=\"14.00\" text-anchor=\"middle\" x=\"1077\" y=\"-237.3\">reshape_11: Reshape</text>\n",
       "</g>\n",
       "<!-- 140352739814592&#45;&gt;140352739919520 -->\n",
       "<g class=\"edge\" id=\"edge40\"><title>140352739814592-&gt;140352739919520</title>\n",
       "<path d=\"M1106.15,-370.966C1100.49,-345.935 1089.88,-298.964 1083.14,-269.146\" fill=\"none\" stroke=\"black\"/>\n",
       "<polygon fill=\"black\" points=\"1086.55,-268.36 1080.93,-259.378 1079.72,-269.903 1086.55,-268.36\" stroke=\"black\"/>\n",
       "</g>\n",
       "<!-- 140352665078864 -->\n",
       "<g class=\"node\" id=\"node42\"><title>140352665078864</title>\n",
       "<polygon fill=\"none\" points=\"506,-1 506,-37 636,-37 636,-1 506,-1\" stroke=\"black\"/>\n",
       "<text font-family=\"Times,serif\" font-size=\"14.00\" text-anchor=\"middle\" x=\"571\" y=\"-15.3\">lambda_25: Lambda</text>\n",
       "</g>\n",
       "<!-- 140352762423280&#45;&gt;140352665078864 -->\n",
       "<g class=\"edge\" id=\"edge41\"><title>140352762423280-&gt;140352665078864</title>\n",
       "<path d=\"M322.52,-79.0447C370.961,-67.5341 442.221,-50.601 496.022,-37.8166\" fill=\"none\" stroke=\"black\"/>\n",
       "<polygon fill=\"black\" points=\"496.935,-41.1971 505.855,-35.48 495.317,-34.3868 496.935,-41.1971\" stroke=\"black\"/>\n",
       "</g>\n",
       "<!-- 140352754595040&#45;&gt;140352665078864 -->\n",
       "<g class=\"edge\" id=\"edge42\"><title>140352754595040-&gt;140352665078864</title>\n",
       "<path d=\"M462.652,-74.937C482.227,-65.0116 507.097,-52.4014 528.072,-41.7665\" fill=\"none\" stroke=\"black\"/>\n",
       "<polygon fill=\"black\" points=\"529.761,-44.8341 537.097,-37.19 526.596,-38.5907 529.761,-44.8341\" stroke=\"black\"/>\n",
       "</g>\n",
       "<!-- 140352747931240&#45;&gt;140352665078864 -->\n",
       "<g class=\"edge\" id=\"edge43\"><title>140352747931240-&gt;140352665078864</title>\n",
       "<path d=\"M571,-74.937C571,-66.8072 571,-56.8761 571,-47.7047\" fill=\"none\" stroke=\"black\"/>\n",
       "<polygon fill=\"black\" points=\"574.5,-47.4406 571,-37.4407 567.5,-47.4407 574.5,-47.4406\" stroke=\"black\"/>\n",
       "</g>\n",
       "<!-- 140352668547728&#45;&gt;140352665078864 -->\n",
       "<g class=\"edge\" id=\"edge44\"><title>140352668547728-&gt;140352665078864</title>\n",
       "<path d=\"M678.585,-74.937C659.148,-65.0116 634.453,-52.4014 613.626,-41.7665\" fill=\"none\" stroke=\"black\"/>\n",
       "<polygon fill=\"black\" points=\"615.162,-38.6207 604.664,-37.19 611.978,-44.855 615.162,-38.6207\" stroke=\"black\"/>\n",
       "</g>\n",
       "<!-- 140352741252680&#45;&gt;140352665078864 -->\n",
       "<g class=\"edge\" id=\"edge45\"><title>140352741252680-&gt;140352665078864</title>\n",
       "<path d=\"M982.92,-296.659C983.612,-277.041 987.183,-244.853 1002,-222 1024.35,-187.535 1065.53,-207.441 1077,-168\" fill=\"none\" stroke=\"black\"/>\n",
       "<path d=\"M1077,-166C1099.36,-79.4998 792.682,-39.9815 646.319,-26.1243\" fill=\"none\" stroke=\"black\"/>\n",
       "<polygon fill=\"black\" points=\"646.346,-22.6117 636.065,-25.1706 645.698,-29.5817 646.346,-22.6117\" stroke=\"black\"/>\n",
       "</g>\n",
       "<!-- 140352739919520&#45;&gt;140352665078864 -->\n",
       "<g class=\"edge\" id=\"edge46\"><title>140352739919520-&gt;140352665078864</title>\n",
       "<path d=\"M1074.34,-222.746C1072.68,-207.918 1071.73,-186.125 1077,-168\" fill=\"none\" stroke=\"black\"/>\n",
       "</g>\n",
       "</g>\n",
       "</svg>"
      ],
      "text/plain": [
       "<IPython.core.display.SVG object>"
      ]
     },
     "execution_count": 272,
     "metadata": {},
     "output_type": "execute_result"
    }
   ],
   "source": [
    "SVG(model_to_dot(model).create(prog='dot', format='svg'))"
   ]
  },
  {
   "cell_type": "code",
   "execution_count": 273,
   "metadata": {},
   "outputs": [],
   "source": [
    "model.compile(loss='categorical_crossentropy',\n",
    "              optimizer=Adam(),\n",
    "              metrics=['accuracy'])"
   ]
  },
  {
   "cell_type": "code",
   "execution_count": 274,
   "metadata": {
    "scrolled": true
   },
   "outputs": [
    {
     "name": "stdout",
     "output_type": "stream",
     "text": [
      "<keras.engine.topology.InputLayer object at 0x7fa66acdf828> False\n",
      "<keras.layers.convolutional.Conv2D object at 0x7fa66c93fa90> False\n",
      "<keras.layers.convolutional.Conv2D object at 0x7fa66c0e4160> False\n",
      "<keras.layers.convolutional.Conv2D object at 0x7fa66baad860> False\n",
      "<keras.layers.convolutional.Conv2D object at 0x7fa666eb97b8> False\n",
      "<keras.layers.convolutional.Conv2D object at 0x7fa66c9b2f28> False\n",
      "<keras.layers.convolutional.Conv2D object at 0x7fa66c0e4eb8> False\n",
      "<keras.layers.convolutional.Conv2D object at 0x7fa66bb17518> False\n",
      "<keras.layers.convolutional.Conv2D object at 0x7fa666eb9908> False\n",
      "<keras.layers.pooling.MaxPooling2D object at 0x7fa66c93fe10> False\n",
      "<keras.layers.pooling.MaxPooling2D object at 0x7fa66c17d9e8> False\n",
      "<keras.layers.pooling.MaxPooling2D object at 0x7fa66baaddd8> False\n",
      "<keras.layers.pooling.MaxPooling2D object at 0x7fa666eb9a58> False\n",
      "<keras.layers.core.Dropout object at 0x7fa66c8e77f0> False\n",
      "<keras.layers.core.Dropout object at 0x7fa66c1b7f28> False\n",
      "<keras.layers.core.Dropout object at 0x7fa66bad3e48> False\n",
      "<keras.layers.core.Dropout object at 0x7fa666dc55f8> False\n",
      "<keras.layers.core.Flatten object at 0x7fa66c8e7400> False\n",
      "<keras.layers.core.Flatten object at 0x7fa66c1b7630> False\n",
      "<keras.layers.core.Flatten object at 0x7fa66bad3470> False\n",
      "<keras.layers.core.Flatten object at 0x7fa666dc5048> False\n",
      "<keras.layers.core.Flatten object at 0x7fa66b488278> True\n",
      "<keras.layers.core.Flatten object at 0x7fa66b4d0438> True\n",
      "<keras.layers.core.Dense object at 0x7fa66c8febe0> False\n",
      "<keras.layers.core.Dense object at 0x7fa66c0e78d0> False\n",
      "<keras.layers.core.Dense object at 0x7fa66ba6b7f0> False\n",
      "<keras.layers.core.Dense object at 0x7fa666dee978> False\n",
      "<keras.layers.core.Dense object at 0x7fa66b4882b0> True\n",
      "<keras.layers.core.Dense object at 0x7fa66b45e940> True\n",
      "<keras.layers.core.Dropout object at 0x7fa66c8c2a90> False\n",
      "<keras.layers.core.Dropout object at 0x7fa66c14b780> False\n",
      "<keras.layers.core.Dropout object at 0x7fa66ba2c6d8> False\n",
      "<keras.layers.core.Dropout object at 0x7fa666daf828> False\n",
      "<keras.layers.core.Dense object at 0x7fa66b486860> True\n",
      "<keras.layers.core.Dense object at 0x7fa66b332cc0> True\n",
      "<keras.layers.core.Dense object at 0x7fa66c8c27f0> False\n",
      "<keras.layers.core.Dense object at 0x7fa66c14b4e0> False\n",
      "<keras.layers.core.Dense object at 0x7fa66baf0668> False\n",
      "<keras.layers.core.Dense object at 0x7fa666f3ba90> False\n",
      "<keras.layers.core.Reshape object at 0x7fa66b491e48> True\n",
      "<keras.layers.core.Reshape object at 0x7fa66b34c6a0> True\n",
      "<keras.layers.core.Lambda object at 0x7fa666becc50> True\n"
     ]
    }
   ],
   "source": [
    "for l in model.layers:\n",
    "    print(l, l.trainable)"
   ]
  },
  {
   "cell_type": "code",
   "execution_count": null,
   "metadata": {},
   "outputs": [],
   "source": []
  },
  {
   "cell_type": "code",
   "execution_count": 275,
   "metadata": {
    "scrolled": true
   },
   "outputs": [
    {
     "name": "stdout",
     "output_type": "stream",
     "text": [
      "Train on 60000 samples, validate on 10000 samples\n",
      "Epoch 1/3\n",
      "60000/60000 [==============================] - 69s 1ms/step - loss: 0.0361 - acc: 0.9889 - val_loss: 0.0307 - val_acc: 0.9901\n",
      "Epoch 2/3\n",
      "60000/60000 [==============================] - 67s 1ms/step - loss: 0.0339 - acc: 0.9901 - val_loss: 0.0319 - val_acc: 0.9895\n",
      "Epoch 3/3\n",
      "60000/60000 [==============================] - 65s 1ms/step - loss: 0.0297 - acc: 0.9913 - val_loss: 0.0295 - val_acc: 0.9908\n"
     ]
    },
    {
     "data": {
      "text/plain": [
       "<keras.callbacks.History at 0x7fa66688b8d0>"
      ]
     },
     "execution_count": 275,
     "metadata": {},
     "output_type": "execute_result"
    }
   ],
   "source": [
    "model.fit(x_train, y_train,\n",
    "          batch_size=batch_size,\n",
    "          epochs=epochs,\n",
    "          validation_data=(x_test, y_test))"
   ]
  },
  {
   "cell_type": "code",
   "execution_count": 276,
   "metadata": {},
   "outputs": [
    {
     "name": "stdout",
     "output_type": "stream",
     "text": [
      "10000/10000 [==============================] - 9s 886us/step\n",
      "[0.029530485406908339, 0.99080000000000001]\n"
     ]
    }
   ],
   "source": [
    "score = model.evaluate(x_test, y_test)\n",
    "print(score)"
   ]
  },
  {
   "cell_type": "code",
   "execution_count": null,
   "metadata": {},
   "outputs": [],
   "source": []
  }
 ],
 "metadata": {
  "kernelspec": {
   "display_name": "Python 3",
   "language": "python",
   "name": "python3"
  },
  "language_info": {
   "codemirror_mode": {
    "name": "ipython",
    "version": 3
   },
   "file_extension": ".py",
   "mimetype": "text/x-python",
   "name": "python",
   "nbconvert_exporter": "python",
   "pygments_lexer": "ipython3",
   "version": "3.6.3"
  }
 },
 "nbformat": 4,
 "nbformat_minor": 2
}
