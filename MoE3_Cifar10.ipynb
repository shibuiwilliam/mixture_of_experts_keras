{
 "cells": [
  {
   "cell_type": "markdown",
   "metadata": {},
   "source": [
    "# Mixture of Experts on Convolutional Neural Network"
   ]
  },
  {
   "cell_type": "markdown",
   "metadata": {},
   "source": [
    "Mixture of experts is a ensemble model of neural networks which consists of expert neural networks and gating networks. The expert model is a series of neural network that is specialized in a certain inference, such as classifying within artificial objects or within natural objects. The gating network is a discriminator network that decides which expert, or expers, to use for a certain input data, with importance of each expert.<br>\n",
    "The mixture of experts can take one gating network, if only deciding an importance of experts, or multiple gating networks, to probabilistically split decision phases to hierarchical order, just like decision tree diagram.<br>\n",
    "The expert models are pretrained to do only feed-forward inference in the mixture of experts model.<br>\n",
    "Training phase of the mixture of experts is to train the gating networks to improve decision making of which experts to use with weighted degree of importance of each experts."
   ]
  },
  {
   "cell_type": "markdown",
   "metadata": {},
   "source": [
    "This notebook shows a way to use mixture of experts model with deep learning. The objective is to classify images, using Cifar10 and convolution neural netwok. The mixture of experts model takes hierarchical multiple gating networks, to first decide if the input image is artificial object or natural object. Then the next gating network decides importance of each expert models. There are three expert models:<br>\n",
    "1. basic VGG, which is trained to classify all 10 classes\n",
    "2. artificial expert VGG, which is trained only to classify artificial objects, that have a label in 0, 1, 8 and 9\n",
    "3. natural expert VGG, which is trained only to classify natural objects, that have a label in 2, 3, 4, 5, 6 and 7\n",
    "<br><br>\n",
    "### The overview of the mixture of experts model"
   ]
  },
  {
   "cell_type": "markdown",
   "metadata": {},
   "source": [
    "![0.png](0.png)"
   ]
  },
  {
   "cell_type": "markdown",
   "metadata": {},
   "source": [
    "The first gating network, that decides which way to take, artificial or natural, is a pretrained VGG neural network, to classify the input data.<br>\n",
    "The second gating network layer, consists of two gating networks, decides the importance of each experts. The artificial gating network flows classification job to artificial expert VGG and base VGG, only activated when the first gating network decided the input data is an artificial object. The natural gating network flows classification job to natural expert VGG and base VGG, only the first gating netword decided as a natural object.<br>\n",
    "The classification output is a sum of softmax of expert VGG and base VGG, with importance from previous gating network multiplied."
   ]
  },
  {
   "cell_type": "markdown",
   "metadata": {},
   "source": [
    "The notebook uses Keras with Tensorflow backend to implement the mixture of network model for classifying Cifar10.<br>\n",
    "The Cifar10 consists of 10 classes of images, with label of each class representing the following.<br><br>\n",
    "0 airplane<br>\n",
    "1 automobile<br>\n",
    "2 bird<br>\n",
    "3 cat<br>\n",
    "4 deer<br>\n",
    "5 dog<br>\n",
    "6 frog<br>\n",
    "7 horse<br>\n",
    "8 ship<br>\n",
    "9 truck<br>"
   ]
  },
  {
   "cell_type": "code",
   "execution_count": null,
   "metadata": {},
   "outputs": [],
   "source": []
  },
  {
   "cell_type": "markdown",
   "metadata": {},
   "source": [
    "## Prerequisite"
   ]
  },
  {
   "cell_type": "code",
   "execution_count": 220,
   "metadata": {
    "scrolled": true
   },
   "outputs": [],
   "source": [
    "import keras\n",
    "from keras.models import Model\n",
    "from keras.layers import Dense, Dropout, Flatten, BatchNormalization, Input\n",
    "from keras.layers import Conv2D, MaxPooling2D\n",
    "from keras.layers import concatenate, Lambda, Reshape\n",
    "from keras.callbacks import EarlyStopping, ModelCheckpoint\n",
    "from keras.optimizers import Adam\n",
    "import keras.backend as K\n",
    "from keras.datasets import cifar10\n",
    "from keras.utils.vis_utils import model_to_dot\n",
    "from keras.utils import plot_model\n",
    "\n",
    "import numpy as np\n",
    "import os\n",
    "import copy\n",
    "import matplotlib.pyplot as plt\n",
    "import pandas as pd\n",
    "import seaborn as sn\n",
    "import pydot\n",
    "from IPython.display import SVG"
   ]
  },
  {
   "cell_type": "code",
   "execution_count": 82,
   "metadata": {
    "collapsed": true
   },
   "outputs": [],
   "source": [
    "# parameters\n",
    "batch_size = 50\n",
    "orig_classes = 10\n",
    "gate0_classes = 2\n",
    "epochs = 100"
   ]
  },
  {
   "cell_type": "code",
   "execution_count": 43,
   "metadata": {
    "collapsed": true
   },
   "outputs": [],
   "source": [
    "# get the newest model file within a directory\n",
    "def getNewestModel(model, dirname):\n",
    "    from glob import glob\n",
    "    target = os.path.join(dirname, '*')\n",
    "    files = [(f, os.path.getmtime(f)) for f in glob(target)]\n",
    "    if len(files) == 0:\n",
    "        return model\n",
    "    else:\n",
    "        newestModel = sorted(files, key=lambda files: files[1])[-1]\n",
    "        model.load_weights(newestModel[0])\n",
    "        return model"
   ]
  },
  {
   "cell_type": "markdown",
   "metadata": {},
   "source": [
    "## Prepare datasets"
   ]
  },
  {
   "cell_type": "code",
   "execution_count": 25,
   "metadata": {},
   "outputs": [
    {
     "name": "stdout",
     "output_type": "stream",
     "text": [
      "x_train shape: (50000, 32, 32, 3)\n",
      "x_test shape: (10000, 32, 32, 3)\n",
      "50000 train samples\n",
      "10000 test samples\n"
     ]
    }
   ],
   "source": [
    "# load dataset\n",
    "(x_train, y_train), (x_test, y_test) = cifar10.load_data()\n",
    "print('x_train shape:', x_train.shape)\n",
    "print('x_test shape:', x_test.shape)\n",
    "print(x_train.shape[0], 'train samples')\n",
    "print(x_test.shape[0], 'test samples')"
   ]
  },
  {
   "cell_type": "code",
   "execution_count": 26,
   "metadata": {
    "collapsed": true
   },
   "outputs": [],
   "source": [
    "# prepare x dataset\n",
    "x_train = x_train.astype('float32')\n",
    "x_test = x_test.astype('float32')\n",
    "x_train /= 255\n",
    "x_test /= 255"
   ]
  },
  {
   "cell_type": "code",
   "execution_count": 27,
   "metadata": {},
   "outputs": [
    {
     "name": "stdout",
     "output_type": "stream",
     "text": [
      "y train0:(50000, 10)\n",
      "y test0:(10000, 10)\n"
     ]
    }
   ],
   "source": [
    "# Convert class vectors to binary class matrices.\n",
    "y_train0 = keras.utils.to_categorical(y_train, orig_classes)\n",
    "y_test0 = keras.utils.to_categorical(y_test, orig_classes)\n",
    "\n",
    "print(\"y train0:{0}\\ny test0:{1}\".format(y_train0.shape, y_test0.shape))"
   ]
  },
  {
   "cell_type": "code",
   "execution_count": null,
   "metadata": {},
   "outputs": [],
   "source": []
  },
  {
   "cell_type": "markdown",
   "metadata": {},
   "source": [
    "## Define networks"
   ]
  },
  {
   "cell_type": "code",
   "execution_count": 28,
   "metadata": {
    "collapsed": true
   },
   "outputs": [],
   "source": [
    "# input layer\n",
    "cifarInput = Input(shape=(x_train.shape[1:]), name=\"input\")"
   ]
  },
  {
   "cell_type": "code",
   "execution_count": 33,
   "metadata": {
    "collapsed": true
   },
   "outputs": [],
   "source": [
    "# simple VGG-like model for the first and gating neural networks\n",
    "def simpleVGG(cifarInput, num_classes, name=\"vgg\"):\n",
    "    name = [name+str(i) for i in range(12)]\n",
    "    \n",
    "    # convolution and max pooling layers\n",
    "    vgg = Conv2D(32, (3, 3), padding='same', activation='relu', name=name[0])(cifarInput)\n",
    "    vgg = Conv2D(32, (3, 3), padding='same', activation='relu', name=name[1])(vgg)\n",
    "    vgg = MaxPooling2D(pool_size=(2,2), name=name[2])(vgg)\n",
    "    vgg = Dropout(0.25, name=name[3])(vgg)\n",
    "    vgg = Conv2D(64, (3, 3), padding='same', activation='relu', name=name[4])(vgg)\n",
    "    vgg = Conv2D(64, (3, 3), padding='same', activation='relu', name=name[5])(vgg)\n",
    "    vgg = MaxPooling2D(pool_size=(2,2), name=name[6])(vgg)\n",
    "    vgg = Dropout(0.25, name=name[7])(vgg)\n",
    "\n",
    "    # classification layers\n",
    "    vgg = Flatten(name=name[8])(vgg)\n",
    "    vgg = Dense(512, activation='relu', name=name[9])(vgg)\n",
    "    vgg = Dropout(0.5, name=name[10])(vgg)\n",
    "    vgg = Dense(num_classes, activation='softmax', name=name[11])(vgg)\n",
    "    return vgg"
   ]
  },
  {
   "cell_type": "code",
   "execution_count": 34,
   "metadata": {
    "collapsed": true
   },
   "outputs": [],
   "source": [
    "# fat and long VGG-like model for expert neural networks\n",
    "def fatVGG(cifarInput, num_classes, name=\"vgg\"):\n",
    "    name = [name+str(i) for i in range(17)]\n",
    "    \n",
    "    # convolution and max pooling layers\n",
    "    vgg = Conv2D(32, (3, 3), padding='same', activation='relu', name=name[0])(cifarInput)\n",
    "    vgg = Conv2D(32, (3, 3), padding='same', activation='relu', name=name[1])(vgg)\n",
    "    vgg = MaxPooling2D(pool_size=(2,2), name=name[2])(vgg)\n",
    "    vgg = Dropout(0.25, name=name[3])(vgg)\n",
    "    vgg = Conv2D(64, (3, 3), padding='same', activation='relu', name=name[4])(vgg)\n",
    "    vgg = Conv2D(64, (3, 3), padding='same', activation='relu', name=name[5])(vgg)\n",
    "    vgg = MaxPooling2D(pool_size=(2,2), name=name[6])(vgg)\n",
    "    vgg = Dropout(0.25, name=name[7])(vgg)\n",
    "    vgg = Conv2D(128, (3, 3), padding='same', activation='relu', name=name[8])(vgg)\n",
    "    vgg = Conv2D(128, (3, 3), padding='same', activation='relu', name=name[9])(vgg)\n",
    "    vgg = Conv2D(128, (3, 3), padding='same', activation='relu', name=name[10])(vgg)\n",
    "    vgg = MaxPooling2D(pool_size=(2,2), name=name[11])(vgg)\n",
    "    vgg = Dropout(0.25, name=name[12])(vgg)\n",
    "\n",
    "    # classification layers\n",
    "    vgg = Flatten(name=name[13])(vgg)\n",
    "    vgg = Dense(512, activation='relu', name=name[14])(vgg)\n",
    "    vgg = Dropout(0.5, name=name[15])(vgg)\n",
    "    vgg = Dense(num_classes, activation='softmax', name=name[16])(vgg)\n",
    "    return vgg"
   ]
  },
  {
   "cell_type": "code",
   "execution_count": 80,
   "metadata": {},
   "outputs": [],
   "source": [
    "# first gating network, to decide artificial or natural object\n",
    "gate0VGG = simpleVGG(cifarInput, gate0_classes, \"gate0\")\n",
    "gate0Model = Model(cifarInput, gate0VGG)\n",
    "\n",
    "# base VGG\n",
    "baseVGG = simpleVGG(cifarInput, orig_classes, \"base\")\n",
    "baseModel = Model(cifarInput, baseVGG)\n",
    "\n",
    "# artificial expert VGG\n",
    "artificialVGG = fatVGG(cifarInput, orig_classes, \"artificial\")\n",
    "artificialModel = Model(cifarInput, artificialVGG)\n",
    "\n",
    "# natural expert VGG\n",
    "naturalVGG = fatVGG(cifarInput, orig_classes, \"natural\")\n",
    "naturalModel = Model(cifarInput, naturalVGG)"
   ]
  },
  {
   "cell_type": "code",
   "execution_count": null,
   "metadata": {},
   "outputs": [],
   "source": []
  },
  {
   "cell_type": "code",
   "execution_count": null,
   "metadata": {
    "collapsed": true
   },
   "outputs": [],
   "source": []
  },
  {
   "cell_type": "code",
   "execution_count": null,
   "metadata": {
    "collapsed": true
   },
   "outputs": [],
   "source": []
  },
  {
   "cell_type": "markdown",
   "metadata": {
    "collapsed": true
   },
   "source": [
    "## Train networks"
   ]
  },
  {
   "cell_type": "markdown",
   "metadata": {},
   "source": [
    "### Base VGG"
   ]
  },
  {
   "cell_type": "code",
   "execution_count": 222,
   "metadata": {
    "scrolled": true
   },
   "outputs": [
    {
     "data": {
      "image/svg+xml": [
       "<svg height=\"934pt\" viewBox=\"0.00 0.00 146.00 934.00\" width=\"146pt\" xmlns=\"http://www.w3.org/2000/svg\" xmlns:xlink=\"http://www.w3.org/1999/xlink\">\n",
       "<g class=\"graph\" id=\"graph0\" transform=\"scale(1 1) rotate(0) translate(4 930)\">\n",
       "<title>G</title>\n",
       "<polygon fill=\"white\" points=\"-4,5 -4,-930 143,-930 143,5 -4,5\" stroke=\"white\"/>\n",
       "<!-- 140085212869912 -->\n",
       "<g class=\"node\" id=\"node1\"><title>140085212869912</title>\n",
       "<polygon fill=\"none\" points=\"13,-889 13,-925 125,-925 125,-889 13,-889\" stroke=\"black\"/>\n",
       "<text font-family=\"Times,serif\" font-size=\"14.00\" text-anchor=\"middle\" x=\"69\" y=\"-903.3\">input: InputLayer</text>\n",
       "</g>\n",
       "<!-- 140084998079376 -->\n",
       "<g class=\"node\" id=\"node2\"><title>140084998079376</title>\n",
       "<polygon fill=\"none\" points=\"18.5,-815 18.5,-851 119.5,-851 119.5,-815 18.5,-815\" stroke=\"black\"/>\n",
       "<text font-family=\"Times,serif\" font-size=\"14.00\" text-anchor=\"middle\" x=\"69\" y=\"-829.3\">base0: Conv2D</text>\n",
       "</g>\n",
       "<!-- 140085212869912&#45;&gt;140084998079376 -->\n",
       "<g class=\"edge\" id=\"edge1\"><title>140085212869912-&gt;140084998079376</title>\n",
       "<path d=\"M69,-888.937C69,-880.807 69,-870.876 69,-861.705\" fill=\"none\" stroke=\"black\"/>\n",
       "<polygon fill=\"black\" points=\"72.5001,-861.441 69,-851.441 65.5001,-861.441 72.5001,-861.441\" stroke=\"black\"/>\n",
       "</g>\n",
       "<!-- 140084998080440 -->\n",
       "<g class=\"node\" id=\"node3\"><title>140084998080440</title>\n",
       "<polygon fill=\"none\" points=\"18.5,-741 18.5,-777 119.5,-777 119.5,-741 18.5,-741\" stroke=\"black\"/>\n",
       "<text font-family=\"Times,serif\" font-size=\"14.00\" text-anchor=\"middle\" x=\"69\" y=\"-755.3\">base1: Conv2D</text>\n",
       "</g>\n",
       "<!-- 140084998079376&#45;&gt;140084998080440 -->\n",
       "<g class=\"edge\" id=\"edge2\"><title>140084998079376-&gt;140084998080440</title>\n",
       "<path d=\"M69,-814.937C69,-806.807 69,-796.876 69,-787.705\" fill=\"none\" stroke=\"black\"/>\n",
       "<polygon fill=\"black\" points=\"72.5001,-787.441 69,-777.441 65.5001,-787.441 72.5001,-787.441\" stroke=\"black\"/>\n",
       "</g>\n",
       "<!-- 140084998080608 -->\n",
       "<g class=\"node\" id=\"node4\"><title>140084998080608</title>\n",
       "<polygon fill=\"none\" points=\"-0.5,-667 -0.5,-703 138.5,-703 138.5,-667 -0.5,-667\" stroke=\"black\"/>\n",
       "<text font-family=\"Times,serif\" font-size=\"14.00\" text-anchor=\"middle\" x=\"69\" y=\"-681.3\">base2: MaxPooling2D</text>\n",
       "</g>\n",
       "<!-- 140084998080440&#45;&gt;140084998080608 -->\n",
       "<g class=\"edge\" id=\"edge3\"><title>140084998080440-&gt;140084998080608</title>\n",
       "<path d=\"M69,-740.937C69,-732.807 69,-722.876 69,-713.705\" fill=\"none\" stroke=\"black\"/>\n",
       "<polygon fill=\"black\" points=\"72.5001,-713.441 69,-703.441 65.5001,-713.441 72.5001,-713.441\" stroke=\"black\"/>\n",
       "</g>\n",
       "<!-- 140084997733120 -->\n",
       "<g class=\"node\" id=\"node5\"><title>140084997733120</title>\n",
       "<polygon fill=\"none\" points=\"19,-593 19,-629 119,-629 119,-593 19,-593\" stroke=\"black\"/>\n",
       "<text font-family=\"Times,serif\" font-size=\"14.00\" text-anchor=\"middle\" x=\"69\" y=\"-607.3\">base3: Dropout</text>\n",
       "</g>\n",
       "<!-- 140084998080608&#45;&gt;140084997733120 -->\n",
       "<g class=\"edge\" id=\"edge4\"><title>140084998080608-&gt;140084997733120</title>\n",
       "<path d=\"M69,-666.937C69,-658.807 69,-648.876 69,-639.705\" fill=\"none\" stroke=\"black\"/>\n",
       "<polygon fill=\"black\" points=\"72.5001,-639.441 69,-629.441 65.5001,-639.441 72.5001,-639.441\" stroke=\"black\"/>\n",
       "</g>\n",
       "<!-- 140084997733848 -->\n",
       "<g class=\"node\" id=\"node6\"><title>140084997733848</title>\n",
       "<polygon fill=\"none\" points=\"18.5,-519 18.5,-555 119.5,-555 119.5,-519 18.5,-519\" stroke=\"black\"/>\n",
       "<text font-family=\"Times,serif\" font-size=\"14.00\" text-anchor=\"middle\" x=\"69\" y=\"-533.3\">base4: Conv2D</text>\n",
       "</g>\n",
       "<!-- 140084997733120&#45;&gt;140084997733848 -->\n",
       "<g class=\"edge\" id=\"edge5\"><title>140084997733120-&gt;140084997733848</title>\n",
       "<path d=\"M69,-592.937C69,-584.807 69,-574.876 69,-565.705\" fill=\"none\" stroke=\"black\"/>\n",
       "<polygon fill=\"black\" points=\"72.5001,-565.441 69,-555.441 65.5001,-565.441 72.5001,-565.441\" stroke=\"black\"/>\n",
       "</g>\n",
       "<!-- 140084998078872 -->\n",
       "<g class=\"node\" id=\"node7\"><title>140084998078872</title>\n",
       "<polygon fill=\"none\" points=\"18.5,-445 18.5,-481 119.5,-481 119.5,-445 18.5,-445\" stroke=\"black\"/>\n",
       "<text font-family=\"Times,serif\" font-size=\"14.00\" text-anchor=\"middle\" x=\"69\" y=\"-459.3\">base5: Conv2D</text>\n",
       "</g>\n",
       "<!-- 140084997733848&#45;&gt;140084998078872 -->\n",
       "<g class=\"edge\" id=\"edge6\"><title>140084997733848-&gt;140084998078872</title>\n",
       "<path d=\"M69,-518.937C69,-510.807 69,-500.876 69,-491.705\" fill=\"none\" stroke=\"black\"/>\n",
       "<polygon fill=\"black\" points=\"72.5001,-491.441 69,-481.441 65.5001,-491.441 72.5001,-491.441\" stroke=\"black\"/>\n",
       "</g>\n",
       "<!-- 140084997373904 -->\n",
       "<g class=\"node\" id=\"node8\"><title>140084997373904</title>\n",
       "<polygon fill=\"none\" points=\"-0.5,-371 -0.5,-407 138.5,-407 138.5,-371 -0.5,-371\" stroke=\"black\"/>\n",
       "<text font-family=\"Times,serif\" font-size=\"14.00\" text-anchor=\"middle\" x=\"69\" y=\"-385.3\">base6: MaxPooling2D</text>\n",
       "</g>\n",
       "<!-- 140084998078872&#45;&gt;140084997373904 -->\n",
       "<g class=\"edge\" id=\"edge7\"><title>140084998078872-&gt;140084997373904</title>\n",
       "<path d=\"M69,-444.937C69,-436.807 69,-426.876 69,-417.705\" fill=\"none\" stroke=\"black\"/>\n",
       "<polygon fill=\"black\" points=\"72.5001,-417.441 69,-407.441 65.5001,-417.441 72.5001,-417.441\" stroke=\"black\"/>\n",
       "</g>\n",
       "<!-- 140084997506832 -->\n",
       "<g class=\"node\" id=\"node9\"><title>140084997506832</title>\n",
       "<polygon fill=\"none\" points=\"19,-297 19,-333 119,-333 119,-297 19,-297\" stroke=\"black\"/>\n",
       "<text font-family=\"Times,serif\" font-size=\"14.00\" text-anchor=\"middle\" x=\"69\" y=\"-311.3\">base7: Dropout</text>\n",
       "</g>\n",
       "<!-- 140084997373904&#45;&gt;140084997506832 -->\n",
       "<g class=\"edge\" id=\"edge8\"><title>140084997373904-&gt;140084997506832</title>\n",
       "<path d=\"M69,-370.937C69,-362.807 69,-352.876 69,-343.705\" fill=\"none\" stroke=\"black\"/>\n",
       "<polygon fill=\"black\" points=\"72.5001,-343.441 69,-333.441 65.5001,-343.441 72.5001,-343.441\" stroke=\"black\"/>\n",
       "</g>\n",
       "<!-- 140084997507560 -->\n",
       "<g class=\"node\" id=\"node10\"><title>140084997507560</title>\n",
       "<polygon fill=\"none\" points=\"23,-223 23,-259 115,-259 115,-223 23,-223\" stroke=\"black\"/>\n",
       "<text font-family=\"Times,serif\" font-size=\"14.00\" text-anchor=\"middle\" x=\"69\" y=\"-237.3\">base8: Flatten</text>\n",
       "</g>\n",
       "<!-- 140084997506832&#45;&gt;140084997507560 -->\n",
       "<g class=\"edge\" id=\"edge9\"><title>140084997506832-&gt;140084997507560</title>\n",
       "<path d=\"M69,-296.937C69,-288.807 69,-278.876 69,-269.705\" fill=\"none\" stroke=\"black\"/>\n",
       "<polygon fill=\"black\" points=\"72.5001,-269.441 69,-259.441 65.5001,-269.441 72.5001,-269.441\" stroke=\"black\"/>\n",
       "</g>\n",
       "<!-- 140084997576744 -->\n",
       "<g class=\"node\" id=\"node11\"><title>140084997576744</title>\n",
       "<polygon fill=\"none\" points=\"24.5,-149 24.5,-185 113.5,-185 113.5,-149 24.5,-149\" stroke=\"black\"/>\n",
       "<text font-family=\"Times,serif\" font-size=\"14.00\" text-anchor=\"middle\" x=\"69\" y=\"-163.3\">base9: Dense</text>\n",
       "</g>\n",
       "<!-- 140084997507560&#45;&gt;140084997576744 -->\n",
       "<g class=\"edge\" id=\"edge10\"><title>140084997507560-&gt;140084997576744</title>\n",
       "<path d=\"M69,-222.937C69,-214.807 69,-204.876 69,-195.705\" fill=\"none\" stroke=\"black\"/>\n",
       "<polygon fill=\"black\" points=\"72.5001,-195.441 69,-185.441 65.5001,-195.441 72.5001,-195.441\" stroke=\"black\"/>\n",
       "</g>\n",
       "<!-- 140084997283232 -->\n",
       "<g class=\"node\" id=\"node12\"><title>140084997283232</title>\n",
       "<polygon fill=\"none\" points=\"15.5,-75 15.5,-111 122.5,-111 122.5,-75 15.5,-75\" stroke=\"black\"/>\n",
       "<text font-family=\"Times,serif\" font-size=\"14.00\" text-anchor=\"middle\" x=\"69\" y=\"-89.3\">base10: Dropout</text>\n",
       "</g>\n",
       "<!-- 140084997576744&#45;&gt;140084997283232 -->\n",
       "<g class=\"edge\" id=\"edge11\"><title>140084997576744-&gt;140084997283232</title>\n",
       "<path d=\"M69,-148.937C69,-140.807 69,-130.876 69,-121.705\" fill=\"none\" stroke=\"black\"/>\n",
       "<polygon fill=\"black\" points=\"72.5001,-121.441 69,-111.441 65.5001,-121.441 72.5001,-121.441\" stroke=\"black\"/>\n",
       "</g>\n",
       "<!-- 140084997281832 -->\n",
       "<g class=\"node\" id=\"node13\"><title>140084997281832</title>\n",
       "<polygon fill=\"none\" points=\"21.5,-1 21.5,-37 116.5,-37 116.5,-1 21.5,-1\" stroke=\"black\"/>\n",
       "<text font-family=\"Times,serif\" font-size=\"14.00\" text-anchor=\"middle\" x=\"69\" y=\"-15.3\">base11: Dense</text>\n",
       "</g>\n",
       "<!-- 140084997283232&#45;&gt;140084997281832 -->\n",
       "<g class=\"edge\" id=\"edge12\"><title>140084997283232-&gt;140084997281832</title>\n",
       "<path d=\"M69,-74.937C69,-66.8072 69,-56.8761 69,-47.7047\" fill=\"none\" stroke=\"black\"/>\n",
       "<polygon fill=\"black\" points=\"72.5001,-47.4406 69,-37.4407 65.5001,-47.4407 72.5001,-47.4406\" stroke=\"black\"/>\n",
       "</g>\n",
       "</g>\n",
       "</svg>"
      ],
      "text/plain": [
       "<IPython.core.display.SVG object>"
      ]
     },
     "execution_count": 222,
     "metadata": {},
     "output_type": "execute_result"
    }
   ],
   "source": [
    "# show the base model diagram\n",
    "plot_model(baseModel, to_file='baseModel.png')\n",
    "SVG(model_to_dot(baseModel).create(prog='dot', format='svg'))"
   ]
  },
  {
   "cell_type": "markdown",
   "metadata": {},
   "source": [
    "![baseModel.png](./baseModel.png)"
   ]
  },
  {
   "cell_type": "code",
   "execution_count": 85,
   "metadata": {
    "collapsed": true
   },
   "outputs": [],
   "source": [
    "# compile\n",
    "baseModel.compile(loss='categorical_crossentropy',\n",
    "                   optimizer=Adam(),\n",
    "                   metrics=['accuracy'])"
   ]
  },
  {
   "cell_type": "code",
   "execution_count": 47,
   "metadata": {
    "collapsed": true
   },
   "outputs": [],
   "source": [
    "# make saving directory for checkpoints\n",
    "baseSaveDir = \"./baseCifar10/\"\n",
    "if not os.path.isdir(baseSaveDir):\n",
    "    os.makedirs(baseSaveDir)\n",
    "    \n",
    "# early stopping and model checkpoint\n",
    "es_cb = EarlyStopping(monitor='val_loss', patience=2, verbose=1, mode='auto')\n",
    "chkpt = os.path.join(baseSaveDir, 'Cifar10_.{epoch:02d}-{val_loss:.2f}.hdf5')\n",
    "cp_cb = ModelCheckpoint(filepath = chkpt, monitor='val_loss', verbose=1, save_best_only=True, mode='auto')\n",
    "\n",
    "# load the newest model data from the directory if exists\n",
    "baseModel = getNewestModel(baseModel, baseSaveDir)"
   ]
  },
  {
   "cell_type": "code",
   "execution_count": 48,
   "metadata": {
    "scrolled": true
   },
   "outputs": [
    {
     "name": "stdout",
     "output_type": "stream",
     "text": [
      "Train on 50000 samples, validate on 10000 samples\n",
      "Epoch 1/100\n",
      "49850/50000 [============================>.] - ETA: 0s - loss: 1.4957 - acc: 0.4533Epoch 00001: val_loss improved from inf to 1.16733, saving model to ./baseCifar10/Cifar10_.01-1.17.hdf5\n",
      "50000/50000 [==============================] - 27s 542us/step - loss: 1.4949 - acc: 0.4537 - val_loss: 1.1673 - val_acc: 0.5882\n",
      "Epoch 2/100\n",
      "49850/50000 [============================>.] - ETA: 0s - loss: 1.0806 - acc: 0.6153Epoch 00002: val_loss improved from 1.16733 to 0.90207, saving model to ./baseCifar10/Cifar10_.02-0.90.hdf5\n",
      "50000/50000 [==============================] - 22s 435us/step - loss: 1.0804 - acc: 0.6154 - val_loss: 0.9021 - val_acc: 0.6827\n",
      "Epoch 3/100\n",
      "49850/50000 [============================>.] - ETA: 0s - loss: 0.9127 - acc: 0.6790Epoch 00003: val_loss improved from 0.90207 to 0.80711, saving model to ./baseCifar10/Cifar10_.03-0.81.hdf5\n",
      "50000/50000 [==============================] - 22s 437us/step - loss: 0.9130 - acc: 0.6788 - val_loss: 0.8071 - val_acc: 0.7172\n",
      "Epoch 4/100\n",
      "49850/50000 [============================>.] - ETA: 0s - loss: 0.8148 - acc: 0.7141Epoch 00004: val_loss improved from 0.80711 to 0.77576, saving model to ./baseCifar10/Cifar10_.04-0.78.hdf5\n",
      "50000/50000 [==============================] - 21s 429us/step - loss: 0.8146 - acc: 0.7140 - val_loss: 0.7758 - val_acc: 0.7285\n",
      "Epoch 5/100\n",
      "49850/50000 [============================>.] - ETA: 0s - loss: 0.7429 - acc: 0.7411Epoch 00005: val_loss improved from 0.77576 to 0.71853, saving model to ./baseCifar10/Cifar10_.05-0.72.hdf5\n",
      "50000/50000 [==============================] - 21s 427us/step - loss: 0.7431 - acc: 0.7410 - val_loss: 0.7185 - val_acc: 0.7492\n",
      "Epoch 6/100\n",
      "49850/50000 [============================>.] - ETA: 0s - loss: 0.6851 - acc: 0.7589Epoch 00006: val_loss improved from 0.71853 to 0.69983, saving model to ./baseCifar10/Cifar10_.06-0.70.hdf5\n",
      "50000/50000 [==============================] - 22s 435us/step - loss: 0.6849 - acc: 0.7591 - val_loss: 0.6998 - val_acc: 0.7586\n",
      "Epoch 7/100\n",
      "49850/50000 [============================>.] - ETA: 0s - loss: 0.6377 - acc: 0.7757Epoch 00007: val_loss improved from 0.69983 to 0.66931, saving model to ./baseCifar10/Cifar10_.07-0.67.hdf5\n",
      "50000/50000 [==============================] - 22s 432us/step - loss: 0.6378 - acc: 0.7758 - val_loss: 0.6693 - val_acc: 0.7693\n",
      "Epoch 8/100\n",
      "49850/50000 [============================>.] - ETA: 0s - loss: 0.5977 - acc: 0.7898Epoch 00008: val_loss did not improve\n",
      "50000/50000 [==============================] - 22s 433us/step - loss: 0.5978 - acc: 0.7898 - val_loss: 0.6922 - val_acc: 0.7667\n",
      "Epoch 9/100\n",
      "49850/50000 [============================>.] - ETA: 0s - loss: 0.5697 - acc: 0.7988Epoch 00009: val_loss did not improve\n",
      "50000/50000 [==============================] - 22s 434us/step - loss: 0.5696 - acc: 0.7988 - val_loss: 0.6731 - val_acc: 0.7701\n",
      "Epoch 00009: early stopping\n"
     ]
    },
    {
     "data": {
      "text/plain": [
       "<keras.callbacks.History at 0x7f68466a0668>"
      ]
     },
     "execution_count": 48,
     "metadata": {},
     "output_type": "execute_result"
    }
   ],
   "source": [
    "# train\n",
    "baseModel.fit(x_train, y_train0,\n",
    "               batch_size=batch_size,\n",
    "               epochs=epochs,\n",
    "               validation_data=(x_test, y_test0),\n",
    "               callbacks=[es_cb,cp_cb])"
   ]
  },
  {
   "cell_type": "code",
   "execution_count": 87,
   "metadata": {},
   "outputs": [
    {
     "name": "stdout",
     "output_type": "stream",
     "text": [
      "10000/10000 [==============================] - 2s 192us/step\n",
      "[0.66931399374008183, 0.76929999999999998]\n"
     ]
    }
   ],
   "source": [
    "# evaluate\n",
    "baseModel = getNewestModel(baseModel, baseSaveDir)\n",
    "baseScore = baseModel.evaluate(x_test, y_test0)\n",
    "print(baseScore)"
   ]
  },
  {
   "cell_type": "code",
   "execution_count": 86,
   "metadata": {
    "collapsed": true
   },
   "outputs": [],
   "source": []
  },
  {
   "cell_type": "code",
   "execution_count": null,
   "metadata": {
    "collapsed": true
   },
   "outputs": [],
   "source": []
  },
  {
   "cell_type": "code",
   "execution_count": null,
   "metadata": {
    "collapsed": true
   },
   "outputs": [],
   "source": []
  },
  {
   "cell_type": "markdown",
   "metadata": {
    "collapsed": true
   },
   "source": [
    "## Prepare data for the first gating network and train\n",
    "\n",
    "The first gating network decides which way to take: artificial or natural.<br>\n",
    "In order to decide, the gating network classifies if the input data is artificial object or natural object, by simply running VGG inference."
   ]
  },
  {
   "cell_type": "code",
   "execution_count": 52,
   "metadata": {},
   "outputs": [
    {
     "name": "stdout",
     "output_type": "stream",
     "text": [
      "y trainG0:(50000, 2)\n",
      "y testG0:(10000, 2)\n"
     ]
    }
   ],
   "source": [
    "# prepare dataset for the first gating network\n",
    "# generate target labels with 0 or 1, with 0 for artificial object and 1 for natural object\n",
    "y_trainG0 = np.array([0 if i in [0,1,8,9] else 1 for i in y_train])\n",
    "y_testG0 = np.array([0 if i in [0,1,8,9] else 1 for i in y_test])\n",
    "y_trainG0 = keras.utils.to_categorical(y_trainG0, 2)\n",
    "y_testG0 = keras.utils.to_categorical(y_testG0, 2)\n",
    "\n",
    "print(\"y trainG0:{0}\\ny testG0:{1}\".format(y_trainG0.shape, y_testG0.shape))"
   ]
  },
  {
   "cell_type": "code",
   "execution_count": 223,
   "metadata": {
    "scrolled": true
   },
   "outputs": [
    {
     "data": {
      "image/svg+xml": [
       "<svg height=\"934pt\" viewBox=\"0.00 0.00 152.00 934.00\" width=\"152pt\" xmlns=\"http://www.w3.org/2000/svg\" xmlns:xlink=\"http://www.w3.org/1999/xlink\">\n",
       "<g class=\"graph\" id=\"graph0\" transform=\"scale(1 1) rotate(0) translate(4 930)\">\n",
       "<title>G</title>\n",
       "<polygon fill=\"white\" points=\"-4,5 -4,-930 149,-930 149,5 -4,5\" stroke=\"white\"/>\n",
       "<!-- 140085212869912 -->\n",
       "<g class=\"node\" id=\"node1\"><title>140085212869912</title>\n",
       "<polygon fill=\"none\" points=\"16,-889 16,-925 128,-925 128,-889 16,-889\" stroke=\"black\"/>\n",
       "<text font-family=\"Times,serif\" font-size=\"14.00\" text-anchor=\"middle\" x=\"72\" y=\"-903.3\">input: InputLayer</text>\n",
       "</g>\n",
       "<!-- 140084998079432 -->\n",
       "<g class=\"node\" id=\"node2\"><title>140084998079432</title>\n",
       "<polygon fill=\"none\" points=\"19,-815 19,-851 125,-851 125,-815 19,-815\" stroke=\"black\"/>\n",
       "<text font-family=\"Times,serif\" font-size=\"14.00\" text-anchor=\"middle\" x=\"72\" y=\"-829.3\">gate00: Conv2D</text>\n",
       "</g>\n",
       "<!-- 140085212869912&#45;&gt;140084998079432 -->\n",
       "<g class=\"edge\" id=\"edge1\"><title>140085212869912-&gt;140084998079432</title>\n",
       "<path d=\"M72,-888.937C72,-880.807 72,-870.876 72,-861.705\" fill=\"none\" stroke=\"black\"/>\n",
       "<polygon fill=\"black\" points=\"75.5001,-861.441 72,-851.441 68.5001,-861.441 75.5001,-861.441\" stroke=\"black\"/>\n",
       "</g>\n",
       "<!-- 140084996725112 -->\n",
       "<g class=\"node\" id=\"node3\"><title>140084996725112</title>\n",
       "<polygon fill=\"none\" points=\"19,-741 19,-777 125,-777 125,-741 19,-741\" stroke=\"black\"/>\n",
       "<text font-family=\"Times,serif\" font-size=\"14.00\" text-anchor=\"middle\" x=\"72\" y=\"-755.3\">gate01: Conv2D</text>\n",
       "</g>\n",
       "<!-- 140084998079432&#45;&gt;140084996725112 -->\n",
       "<g class=\"edge\" id=\"edge2\"><title>140084998079432-&gt;140084996725112</title>\n",
       "<path d=\"M72,-814.937C72,-806.807 72,-796.876 72,-787.705\" fill=\"none\" stroke=\"black\"/>\n",
       "<polygon fill=\"black\" points=\"75.5001,-787.441 72,-777.441 68.5001,-787.441 75.5001,-787.441\" stroke=\"black\"/>\n",
       "</g>\n",
       "<!-- 140084996287736 -->\n",
       "<g class=\"node\" id=\"node4\"><title>140084996287736</title>\n",
       "<polygon fill=\"none\" points=\"0,-667 0,-703 144,-703 144,-667 0,-667\" stroke=\"black\"/>\n",
       "<text font-family=\"Times,serif\" font-size=\"14.00\" text-anchor=\"middle\" x=\"72\" y=\"-681.3\">gate02: MaxPooling2D</text>\n",
       "</g>\n",
       "<!-- 140084996725112&#45;&gt;140084996287736 -->\n",
       "<g class=\"edge\" id=\"edge3\"><title>140084996725112-&gt;140084996287736</title>\n",
       "<path d=\"M72,-740.937C72,-732.807 72,-722.876 72,-713.705\" fill=\"none\" stroke=\"black\"/>\n",
       "<polygon fill=\"black\" points=\"75.5001,-713.441 72,-703.441 68.5001,-713.441 75.5001,-713.441\" stroke=\"black\"/>\n",
       "</g>\n",
       "<!-- 140084996369600 -->\n",
       "<g class=\"node\" id=\"node5\"><title>140084996369600</title>\n",
       "<polygon fill=\"none\" points=\"19.5,-593 19.5,-629 124.5,-629 124.5,-593 19.5,-593\" stroke=\"black\"/>\n",
       "<text font-family=\"Times,serif\" font-size=\"14.00\" text-anchor=\"middle\" x=\"72\" y=\"-607.3\">gate03: Dropout</text>\n",
       "</g>\n",
       "<!-- 140084996287736&#45;&gt;140084996369600 -->\n",
       "<g class=\"edge\" id=\"edge4\"><title>140084996287736-&gt;140084996369600</title>\n",
       "<path d=\"M72,-666.937C72,-658.807 72,-648.876 72,-639.705\" fill=\"none\" stroke=\"black\"/>\n",
       "<polygon fill=\"black\" points=\"75.5001,-639.441 72,-629.441 68.5001,-639.441 75.5001,-639.441\" stroke=\"black\"/>\n",
       "</g>\n",
       "<!-- 140084996369488 -->\n",
       "<g class=\"node\" id=\"node6\"><title>140084996369488</title>\n",
       "<polygon fill=\"none\" points=\"19,-519 19,-555 125,-555 125,-519 19,-519\" stroke=\"black\"/>\n",
       "<text font-family=\"Times,serif\" font-size=\"14.00\" text-anchor=\"middle\" x=\"72\" y=\"-533.3\">gate04: Conv2D</text>\n",
       "</g>\n",
       "<!-- 140084996369600&#45;&gt;140084996369488 -->\n",
       "<g class=\"edge\" id=\"edge5\"><title>140084996369600-&gt;140084996369488</title>\n",
       "<path d=\"M72,-592.937C72,-584.807 72,-574.876 72,-565.705\" fill=\"none\" stroke=\"black\"/>\n",
       "<polygon fill=\"black\" points=\"75.5001,-565.441 72,-555.441 68.5001,-565.441 75.5001,-565.441\" stroke=\"black\"/>\n",
       "</g>\n",
       "<!-- 140084996023744 -->\n",
       "<g class=\"node\" id=\"node7\"><title>140084996023744</title>\n",
       "<polygon fill=\"none\" points=\"19,-445 19,-481 125,-481 125,-445 19,-445\" stroke=\"black\"/>\n",
       "<text font-family=\"Times,serif\" font-size=\"14.00\" text-anchor=\"middle\" x=\"72\" y=\"-459.3\">gate05: Conv2D</text>\n",
       "</g>\n",
       "<!-- 140084996369488&#45;&gt;140084996023744 -->\n",
       "<g class=\"edge\" id=\"edge6\"><title>140084996369488-&gt;140084996023744</title>\n",
       "<path d=\"M72,-518.937C72,-510.807 72,-500.876 72,-491.705\" fill=\"none\" stroke=\"black\"/>\n",
       "<polygon fill=\"black\" points=\"75.5001,-491.441 72,-481.441 68.5001,-491.441 75.5001,-491.441\" stroke=\"black\"/>\n",
       "</g>\n",
       "<!-- 140084996119576 -->\n",
       "<g class=\"node\" id=\"node8\"><title>140084996119576</title>\n",
       "<polygon fill=\"none\" points=\"0,-371 0,-407 144,-407 144,-371 0,-371\" stroke=\"black\"/>\n",
       "<text font-family=\"Times,serif\" font-size=\"14.00\" text-anchor=\"middle\" x=\"72\" y=\"-385.3\">gate06: MaxPooling2D</text>\n",
       "</g>\n",
       "<!-- 140084996023744&#45;&gt;140084996119576 -->\n",
       "<g class=\"edge\" id=\"edge7\"><title>140084996023744-&gt;140084996119576</title>\n",
       "<path d=\"M72,-444.937C72,-436.807 72,-426.876 72,-417.705\" fill=\"none\" stroke=\"black\"/>\n",
       "<polygon fill=\"black\" points=\"75.5001,-417.441 72,-407.441 68.5001,-417.441 75.5001,-417.441\" stroke=\"black\"/>\n",
       "</g>\n",
       "<!-- 140084995861024 -->\n",
       "<g class=\"node\" id=\"node9\"><title>140084995861024</title>\n",
       "<polygon fill=\"none\" points=\"19.5,-297 19.5,-333 124.5,-333 124.5,-297 19.5,-297\" stroke=\"black\"/>\n",
       "<text font-family=\"Times,serif\" font-size=\"14.00\" text-anchor=\"middle\" x=\"72\" y=\"-311.3\">gate07: Dropout</text>\n",
       "</g>\n",
       "<!-- 140084996119576&#45;&gt;140084995861024 -->\n",
       "<g class=\"edge\" id=\"edge8\"><title>140084996119576-&gt;140084995861024</title>\n",
       "<path d=\"M72,-370.937C72,-362.807 72,-352.876 72,-343.705\" fill=\"none\" stroke=\"black\"/>\n",
       "<polygon fill=\"black\" points=\"75.5001,-343.441 72,-333.441 68.5001,-343.441 75.5001,-343.441\" stroke=\"black\"/>\n",
       "</g>\n",
       "<!-- 140084995861752 -->\n",
       "<g class=\"node\" id=\"node10\"><title>140084995861752</title>\n",
       "<polygon fill=\"none\" points=\"23,-223 23,-259 121,-259 121,-223 23,-223\" stroke=\"black\"/>\n",
       "<text font-family=\"Times,serif\" font-size=\"14.00\" text-anchor=\"middle\" x=\"72\" y=\"-237.3\">gate08: Flatten</text>\n",
       "</g>\n",
       "<!-- 140084995861024&#45;&gt;140084995861752 -->\n",
       "<g class=\"edge\" id=\"edge9\"><title>140084995861024-&gt;140084995861752</title>\n",
       "<path d=\"M72,-296.937C72,-288.807 72,-278.876 72,-269.705\" fill=\"none\" stroke=\"black\"/>\n",
       "<polygon fill=\"black\" points=\"75.5001,-269.441 72,-259.441 68.5001,-269.441 75.5001,-269.441\" stroke=\"black\"/>\n",
       "</g>\n",
       "<!-- 140084995951864 -->\n",
       "<g class=\"node\" id=\"node11\"><title>140084995951864</title>\n",
       "<polygon fill=\"none\" points=\"25,-149 25,-185 119,-185 119,-149 25,-149\" stroke=\"black\"/>\n",
       "<text font-family=\"Times,serif\" font-size=\"14.00\" text-anchor=\"middle\" x=\"72\" y=\"-163.3\">gate09: Dense</text>\n",
       "</g>\n",
       "<!-- 140084995861752&#45;&gt;140084995951864 -->\n",
       "<g class=\"edge\" id=\"edge10\"><title>140084995861752-&gt;140084995951864</title>\n",
       "<path d=\"M72,-222.937C72,-214.807 72,-204.876 72,-195.705\" fill=\"none\" stroke=\"black\"/>\n",
       "<polygon fill=\"black\" points=\"75.5001,-195.441 72,-185.441 68.5001,-195.441 75.5001,-195.441\" stroke=\"black\"/>\n",
       "</g>\n",
       "<!-- 140084995714128 -->\n",
       "<g class=\"node\" id=\"node12\"><title>140084995714128</title>\n",
       "<polygon fill=\"none\" points=\"16,-75 16,-111 128,-111 128,-75 16,-75\" stroke=\"black\"/>\n",
       "<text font-family=\"Times,serif\" font-size=\"14.00\" text-anchor=\"middle\" x=\"72\" y=\"-89.3\">gate010: Dropout</text>\n",
       "</g>\n",
       "<!-- 140084995951864&#45;&gt;140084995714128 -->\n",
       "<g class=\"edge\" id=\"edge11\"><title>140084995951864-&gt;140084995714128</title>\n",
       "<path d=\"M72,-148.937C72,-140.807 72,-130.876 72,-121.705\" fill=\"none\" stroke=\"black\"/>\n",
       "<polygon fill=\"black\" points=\"75.5001,-121.441 72,-111.441 68.5001,-121.441 75.5001,-121.441\" stroke=\"black\"/>\n",
       "</g>\n",
       "<!-- 140084995713680 -->\n",
       "<g class=\"node\" id=\"node13\"><title>140084995713680</title>\n",
       "<polygon fill=\"none\" points=\"21.5,-1 21.5,-37 122.5,-37 122.5,-1 21.5,-1\" stroke=\"black\"/>\n",
       "<text font-family=\"Times,serif\" font-size=\"14.00\" text-anchor=\"middle\" x=\"72\" y=\"-15.3\">gate011: Dense</text>\n",
       "</g>\n",
       "<!-- 140084995714128&#45;&gt;140084995713680 -->\n",
       "<g class=\"edge\" id=\"edge12\"><title>140084995714128-&gt;140084995713680</title>\n",
       "<path d=\"M72,-74.937C72,-66.8072 72,-56.8761 72,-47.7047\" fill=\"none\" stroke=\"black\"/>\n",
       "<polygon fill=\"black\" points=\"75.5001,-47.4406 72,-37.4407 68.5001,-47.4407 75.5001,-47.4406\" stroke=\"black\"/>\n",
       "</g>\n",
       "</g>\n",
       "</svg>"
      ],
      "text/plain": [
       "<IPython.core.display.SVG object>"
      ]
     },
     "execution_count": 223,
     "metadata": {},
     "output_type": "execute_result"
    }
   ],
   "source": [
    "# show the first gating network diagram\n",
    "plot_model(gate0Model, to_file='gate0Model.png')\n",
    "SVG(model_to_dot(gate0Model).create(prog='dot', format='svg'))"
   ]
  },
  {
   "cell_type": "markdown",
   "metadata": {},
   "source": [
    "![gate0Model.png](./gate0Model.png)"
   ]
  },
  {
   "cell_type": "code",
   "execution_count": 88,
   "metadata": {
    "collapsed": true
   },
   "outputs": [],
   "source": [
    "# compile\n",
    "gate0Model.compile(loss='categorical_crossentropy',\n",
    "                   optimizer=Adam(),\n",
    "                   metrics=['accuracy'])"
   ]
  },
  {
   "cell_type": "code",
   "execution_count": 58,
   "metadata": {},
   "outputs": [],
   "source": [
    "# make saving directory for check point\n",
    "gate0SaveDir = \"./gate0Cifar10/\"\n",
    "if not os.path.isdir(gate0SaveDir):\n",
    "    os.makedirs(gate0SaveDir)\n",
    "    \n",
    "# early stopping and model checkpoint\n",
    "es_cb = EarlyStopping(monitor='val_loss', patience=2, verbose=1, mode='auto')\n",
    "chkpt = os.path.join(gate0SaveDir, 'Cifar10_.{epoch:02d}-{val_loss:.2f}.hdf5')\n",
    "cp_cb = ModelCheckpoint(filepath = chkpt, monitor='val_loss', verbose=1, save_best_only=True, mode='auto')\n",
    "\n",
    "# load the newest model data from the directory if exists\n",
    "gate0Model = getNewestModel(gate0Model, gate0SaveDir)"
   ]
  },
  {
   "cell_type": "code",
   "execution_count": 59,
   "metadata": {
    "scrolled": true
   },
   "outputs": [
    {
     "name": "stdout",
     "output_type": "stream",
     "text": [
      "Train on 50000 samples, validate on 10000 samples\n",
      "Epoch 1/100\n",
      "49950/50000 [============================>.] - ETA: 0s - loss: 0.2822 - acc: 0.8843Epoch 00001: val_loss improved from inf to 0.19397, saving model to ./gate0Cifar10/Cifar10_.01-0.19.hdf5\n",
      "50000/50000 [==============================] - 22s 445us/step - loss: 0.2822 - acc: 0.8843 - val_loss: 0.1940 - val_acc: 0.9212\n",
      "Epoch 2/100\n",
      "49850/50000 [============================>.] - ETA: 0s - loss: 0.1992 - acc: 0.9213Epoch 00002: val_loss improved from 0.19397 to 0.16574, saving model to ./gate0Cifar10/Cifar10_.02-0.17.hdf5\n",
      "50000/50000 [==============================] - 21s 429us/step - loss: 0.1992 - acc: 0.9213 - val_loss: 0.1657 - val_acc: 0.9330\n",
      "Epoch 3/100\n",
      "49850/50000 [============================>.] - ETA: 0s - loss: 0.1722 - acc: 0.9333Epoch 00003: val_loss improved from 0.16574 to 0.16500, saving model to ./gate0Cifar10/Cifar10_.03-0.17.hdf5\n",
      "50000/50000 [==============================] - 22s 432us/step - loss: 0.1723 - acc: 0.9333 - val_loss: 0.1650 - val_acc: 0.9349\n",
      "Epoch 4/100\n",
      "49850/50000 [============================>.] - ETA: 0s - loss: 0.1519 - acc: 0.9405Epoch 00004: val_loss improved from 0.16500 to 0.14458, saving model to ./gate0Cifar10/Cifar10_.04-0.14.hdf5\n",
      "50000/50000 [==============================] - 22s 432us/step - loss: 0.1519 - acc: 0.9405 - val_loss: 0.1446 - val_acc: 0.9435\n",
      "Epoch 5/100\n",
      "49850/50000 [============================>.] - ETA: 0s - loss: 0.1398 - acc: 0.9463Epoch 00005: val_loss did not improve\n",
      "50000/50000 [==============================] - 22s 433us/step - loss: 0.1398 - acc: 0.9463 - val_loss: 0.1703 - val_acc: 0.9375\n",
      "Epoch 6/100\n",
      "49850/50000 [============================>.] - ETA: 0s - loss: 0.1296 - acc: 0.9502Epoch 00006: val_loss did not improve\n",
      "50000/50000 [==============================] - 22s 432us/step - loss: 0.1296 - acc: 0.9502 - val_loss: 0.1486 - val_acc: 0.9437\n",
      "Epoch 00006: early stopping\n"
     ]
    },
    {
     "data": {
      "text/plain": [
       "<keras.callbacks.History at 0x7f6817b36128>"
      ]
     },
     "execution_count": 59,
     "metadata": {},
     "output_type": "execute_result"
    }
   ],
   "source": [
    "# train\n",
    "gate0Model.fit(x_train, y_trainG0,\n",
    "               batch_size=batch_size,\n",
    "               epochs=epochs,\n",
    "               validation_data=(x_test, y_testG0),\n",
    "               callbacks=[es_cb,cp_cb])"
   ]
  },
  {
   "cell_type": "code",
   "execution_count": 90,
   "metadata": {},
   "outputs": [
    {
     "name": "stdout",
     "output_type": "stream",
     "text": [
      "10000/10000 [==============================] - 2s 189us/step\n",
      "[0.14458080881088972, 0.94350000000000001]\n"
     ]
    }
   ],
   "source": [
    "# evaluate\n",
    "gate0Model = getNewestModel(gate0Model, gate0SaveDir)\n",
    "gate0Score = gate0Model.evaluate(x_test, y_testG0)\n",
    "print(gate0Score)"
   ]
  },
  {
   "cell_type": "code",
   "execution_count": 89,
   "metadata": {
    "collapsed": true
   },
   "outputs": [],
   "source": []
  },
  {
   "cell_type": "code",
   "execution_count": null,
   "metadata": {
    "collapsed": true
   },
   "outputs": [],
   "source": []
  },
  {
   "cell_type": "markdown",
   "metadata": {},
   "source": [
    "## Prepare data for expert networks and train\n",
    "<br>\n",
    "The expert networks are specialized in predicting a certain classes.<br>\n",
    "Each network is only trained with its specialized field: the artificial expert get trained for labels 0, 1, 8 and 9; the natural expert for labels 2, 3, 4, 5, 6 and 7."
   ]
  },
  {
   "cell_type": "code",
   "execution_count": 91,
   "metadata": {
    "collapsed": true
   },
   "outputs": [],
   "source": [
    "# get the position of artificial images and natural images in training and test dataset\n",
    "artTrain = [i for i in range(len(y_train)) if y_train[i] in [0,1,8,9]]\n",
    "natureTrain = [i for i in range(len(y_train)) if y_train[i] in [2,3,4,5,6,7]]\n",
    "artTest = [i for i in range(len(y_test)) if y_test[i] in [0,1,8,9]]\n",
    "natureTest = [i for i in range(len(y_test)) if y_test[i] in [2,3,4,5,6,7]]"
   ]
  },
  {
   "cell_type": "code",
   "execution_count": 92,
   "metadata": {},
   "outputs": [],
   "source": [
    "# get artificial dataset and natural dataset\n",
    "x_trainArt = x_train[artTrain]\n",
    "x_testArt = x_test[artTest]\n",
    "y_trainArt = y_train[artTrain]\n",
    "y_testArt = y_test[artTest]"
   ]
  },
  {
   "cell_type": "markdown",
   "metadata": {},
   "source": [
    "### Artificial expert network"
   ]
  },
  {
   "cell_type": "code",
   "execution_count": 93,
   "metadata": {},
   "outputs": [
    {
     "name": "stdout",
     "output_type": "stream",
     "text": [
      "y train art:(20000, 10)\n",
      "y test art:(4000, 10)\n"
     ]
    }
   ],
   "source": [
    "# for artificial dataset\n",
    "y_trainArt = keras.utils.to_categorical(y_trainArt, orig_classes)\n",
    "y_testArt = keras.utils.to_categorical(y_testArt, orig_classes)\n",
    "\n",
    "print(\"y train art:{0}\\ny test art:{1}\".format(y_trainArt.shape, y_testArt.shape))"
   ]
  },
  {
   "cell_type": "code",
   "execution_count": 224,
   "metadata": {
    "scrolled": true
   },
   "outputs": [
    {
     "data": {
      "image/svg+xml": [
       "<svg height=\"1304pt\" viewBox=\"0.00 0.00 174.00 1304.00\" width=\"174pt\" xmlns=\"http://www.w3.org/2000/svg\" xmlns:xlink=\"http://www.w3.org/1999/xlink\">\n",
       "<g class=\"graph\" id=\"graph0\" transform=\"scale(1 1) rotate(0) translate(4 1300)\">\n",
       "<title>G</title>\n",
       "<polygon fill=\"white\" points=\"-4,5 -4,-1300 171,-1300 171,5 -4,5\" stroke=\"white\"/>\n",
       "<!-- 140085212869912 -->\n",
       "<g class=\"node\" id=\"node1\"><title>140085212869912</title>\n",
       "<polygon fill=\"none\" points=\"27,-1259 27,-1295 139,-1295 139,-1259 27,-1259\" stroke=\"black\"/>\n",
       "<text font-family=\"Times,serif\" font-size=\"14.00\" text-anchor=\"middle\" x=\"83\" y=\"-1273.3\">input: InputLayer</text>\n",
       "</g>\n",
       "<!-- 140084996940968 -->\n",
       "<g class=\"node\" id=\"node2\"><title>140084996940968</title>\n",
       "<polygon fill=\"none\" points=\"22,-1185 22,-1221 144,-1221 144,-1185 22,-1185\" stroke=\"black\"/>\n",
       "<text font-family=\"Times,serif\" font-size=\"14.00\" text-anchor=\"middle\" x=\"83\" y=\"-1199.3\">artificial0: Conv2D</text>\n",
       "</g>\n",
       "<!-- 140085212869912&#45;&gt;140084996940968 -->\n",
       "<g class=\"edge\" id=\"edge1\"><title>140085212869912-&gt;140084996940968</title>\n",
       "<path d=\"M83,-1258.94C83,-1250.81 83,-1240.88 83,-1231.7\" fill=\"none\" stroke=\"black\"/>\n",
       "<polygon fill=\"black\" points=\"86.5001,-1231.44 83,-1221.44 79.5001,-1231.44 86.5001,-1231.44\" stroke=\"black\"/>\n",
       "</g>\n",
       "<!-- 140084995057760 -->\n",
       "<g class=\"node\" id=\"node3\"><title>140084995057760</title>\n",
       "<polygon fill=\"none\" points=\"22,-1111 22,-1147 144,-1147 144,-1111 22,-1111\" stroke=\"black\"/>\n",
       "<text font-family=\"Times,serif\" font-size=\"14.00\" text-anchor=\"middle\" x=\"83\" y=\"-1125.3\">artificial1: Conv2D</text>\n",
       "</g>\n",
       "<!-- 140084996940968&#45;&gt;140084995057760 -->\n",
       "<g class=\"edge\" id=\"edge2\"><title>140084996940968-&gt;140084995057760</title>\n",
       "<path d=\"M83,-1184.94C83,-1176.81 83,-1166.88 83,-1157.7\" fill=\"none\" stroke=\"black\"/>\n",
       "<polygon fill=\"black\" points=\"86.5001,-1157.44 83,-1147.44 79.5001,-1157.44 86.5001,-1157.44\" stroke=\"black\"/>\n",
       "</g>\n",
       "<!-- 140084994727048 -->\n",
       "<g class=\"node\" id=\"node4\"><title>140084994727048</title>\n",
       "<polygon fill=\"none\" points=\"2.5,-1037 2.5,-1073 163.5,-1073 163.5,-1037 2.5,-1037\" stroke=\"black\"/>\n",
       "<text font-family=\"Times,serif\" font-size=\"14.00\" text-anchor=\"middle\" x=\"83\" y=\"-1051.3\">artificial2: MaxPooling2D</text>\n",
       "</g>\n",
       "<!-- 140084995057760&#45;&gt;140084994727048 -->\n",
       "<g class=\"edge\" id=\"edge3\"><title>140084995057760-&gt;140084994727048</title>\n",
       "<path d=\"M83,-1110.94C83,-1102.81 83,-1092.88 83,-1083.7\" fill=\"none\" stroke=\"black\"/>\n",
       "<polygon fill=\"black\" points=\"86.5001,-1083.44 83,-1073.44 79.5001,-1083.44 86.5001,-1083.44\" stroke=\"black\"/>\n",
       "</g>\n",
       "<!-- 140084994825296 -->\n",
       "<g class=\"node\" id=\"node5\"><title>140084994825296</title>\n",
       "<polygon fill=\"none\" points=\"22,-963 22,-999 144,-999 144,-963 22,-963\" stroke=\"black\"/>\n",
       "<text font-family=\"Times,serif\" font-size=\"14.00\" text-anchor=\"middle\" x=\"83\" y=\"-977.3\">artificial3: Dropout</text>\n",
       "</g>\n",
       "<!-- 140084994727048&#45;&gt;140084994825296 -->\n",
       "<g class=\"edge\" id=\"edge4\"><title>140084994727048-&gt;140084994825296</title>\n",
       "<path d=\"M83,-1036.94C83,-1028.81 83,-1018.88 83,-1009.7\" fill=\"none\" stroke=\"black\"/>\n",
       "<polygon fill=\"black\" points=\"86.5001,-1009.44 83,-999.441 79.5001,-1009.44 86.5001,-1009.44\" stroke=\"black\"/>\n",
       "</g>\n",
       "<!-- 140084994825968 -->\n",
       "<g class=\"node\" id=\"node6\"><title>140084994825968</title>\n",
       "<polygon fill=\"none\" points=\"22,-889 22,-925 144,-925 144,-889 22,-889\" stroke=\"black\"/>\n",
       "<text font-family=\"Times,serif\" font-size=\"14.00\" text-anchor=\"middle\" x=\"83\" y=\"-903.3\">artificial4: Conv2D</text>\n",
       "</g>\n",
       "<!-- 140084994825296&#45;&gt;140084994825968 -->\n",
       "<g class=\"edge\" id=\"edge5\"><title>140084994825296-&gt;140084994825968</title>\n",
       "<path d=\"M83,-962.937C83,-954.807 83,-944.876 83,-935.705\" fill=\"none\" stroke=\"black\"/>\n",
       "<polygon fill=\"black\" points=\"86.5001,-935.441 83,-925.441 79.5001,-935.441 86.5001,-935.441\" stroke=\"black\"/>\n",
       "</g>\n",
       "<!-- 140084994467152 -->\n",
       "<g class=\"node\" id=\"node7\"><title>140084994467152</title>\n",
       "<polygon fill=\"none\" points=\"22,-815 22,-851 144,-851 144,-815 22,-815\" stroke=\"black\"/>\n",
       "<text font-family=\"Times,serif\" font-size=\"14.00\" text-anchor=\"middle\" x=\"83\" y=\"-829.3\">artificial5: Conv2D</text>\n",
       "</g>\n",
       "<!-- 140084994825968&#45;&gt;140084994467152 -->\n",
       "<g class=\"edge\" id=\"edge6\"><title>140084994825968-&gt;140084994467152</title>\n",
       "<path d=\"M83,-888.937C83,-880.807 83,-870.876 83,-861.705\" fill=\"none\" stroke=\"black\"/>\n",
       "<polygon fill=\"black\" points=\"86.5001,-861.441 83,-851.441 79.5001,-861.441 86.5001,-861.441\" stroke=\"black\"/>\n",
       "</g>\n",
       "<!-- 140084994571176 -->\n",
       "<g class=\"node\" id=\"node8\"><title>140084994571176</title>\n",
       "<polygon fill=\"none\" points=\"2.5,-741 2.5,-777 163.5,-777 163.5,-741 2.5,-741\" stroke=\"black\"/>\n",
       "<text font-family=\"Times,serif\" font-size=\"14.00\" text-anchor=\"middle\" x=\"83\" y=\"-755.3\">artificial6: MaxPooling2D</text>\n",
       "</g>\n",
       "<!-- 140084994467152&#45;&gt;140084994571176 -->\n",
       "<g class=\"edge\" id=\"edge7\"><title>140084994467152-&gt;140084994571176</title>\n",
       "<path d=\"M83,-814.937C83,-806.807 83,-796.876 83,-787.705\" fill=\"none\" stroke=\"black\"/>\n",
       "<polygon fill=\"black\" points=\"86.5001,-787.441 83,-777.441 79.5001,-787.441 86.5001,-787.441\" stroke=\"black\"/>\n",
       "</g>\n",
       "<!-- 140084994308528 -->\n",
       "<g class=\"node\" id=\"node9\"><title>140084994308528</title>\n",
       "<polygon fill=\"none\" points=\"22,-667 22,-703 144,-703 144,-667 22,-667\" stroke=\"black\"/>\n",
       "<text font-family=\"Times,serif\" font-size=\"14.00\" text-anchor=\"middle\" x=\"83\" y=\"-681.3\">artificial7: Dropout</text>\n",
       "</g>\n",
       "<!-- 140084994571176&#45;&gt;140084994308528 -->\n",
       "<g class=\"edge\" id=\"edge8\"><title>140084994571176-&gt;140084994308528</title>\n",
       "<path d=\"M83,-740.937C83,-732.807 83,-722.876 83,-713.705\" fill=\"none\" stroke=\"black\"/>\n",
       "<polygon fill=\"black\" points=\"86.5001,-713.441 83,-703.441 79.5001,-713.441 86.5001,-713.441\" stroke=\"black\"/>\n",
       "</g>\n",
       "<!-- 140084994309256 -->\n",
       "<g class=\"node\" id=\"node10\"><title>140084994309256</title>\n",
       "<polygon fill=\"none\" points=\"22,-593 22,-629 144,-629 144,-593 22,-593\" stroke=\"black\"/>\n",
       "<text font-family=\"Times,serif\" font-size=\"14.00\" text-anchor=\"middle\" x=\"83\" y=\"-607.3\">artificial8: Conv2D</text>\n",
       "</g>\n",
       "<!-- 140084994308528&#45;&gt;140084994309256 -->\n",
       "<g class=\"edge\" id=\"edge9\"><title>140084994308528-&gt;140084994309256</title>\n",
       "<path d=\"M83,-666.937C83,-658.807 83,-648.876 83,-639.705\" fill=\"none\" stroke=\"black\"/>\n",
       "<polygon fill=\"black\" points=\"86.5001,-639.441 83,-629.441 79.5001,-639.441 86.5001,-639.441\" stroke=\"black\"/>\n",
       "</g>\n",
       "<!-- 140084994400040 -->\n",
       "<g class=\"node\" id=\"node11\"><title>140084994400040</title>\n",
       "<polygon fill=\"none\" points=\"22,-519 22,-555 144,-555 144,-519 22,-519\" stroke=\"black\"/>\n",
       "<text font-family=\"Times,serif\" font-size=\"14.00\" text-anchor=\"middle\" x=\"83\" y=\"-533.3\">artificial9: Conv2D</text>\n",
       "</g>\n",
       "<!-- 140084994309256&#45;&gt;140084994400040 -->\n",
       "<g class=\"edge\" id=\"edge10\"><title>140084994309256-&gt;140084994400040</title>\n",
       "<path d=\"M83,-592.937C83,-584.807 83,-574.876 83,-565.705\" fill=\"none\" stroke=\"black\"/>\n",
       "<polygon fill=\"black\" points=\"86.5001,-565.441 83,-555.441 79.5001,-565.441 86.5001,-565.441\" stroke=\"black\"/>\n",
       "</g>\n",
       "<!-- 140084994050648 -->\n",
       "<g class=\"node\" id=\"node12\"><title>140084994050648</title>\n",
       "<polygon fill=\"none\" points=\"18.5,-445 18.5,-481 147.5,-481 147.5,-445 18.5,-445\" stroke=\"black\"/>\n",
       "<text font-family=\"Times,serif\" font-size=\"14.00\" text-anchor=\"middle\" x=\"83\" y=\"-459.3\">artificial10: Conv2D</text>\n",
       "</g>\n",
       "<!-- 140084994400040&#45;&gt;140084994050648 -->\n",
       "<g class=\"edge\" id=\"edge11\"><title>140084994400040-&gt;140084994050648</title>\n",
       "<path d=\"M83,-518.937C83,-510.807 83,-500.876 83,-491.705\" fill=\"none\" stroke=\"black\"/>\n",
       "<polygon fill=\"black\" points=\"86.5001,-491.441 83,-481.441 79.5001,-491.441 86.5001,-491.441\" stroke=\"black\"/>\n",
       "</g>\n",
       "<!-- 140084993787440 -->\n",
       "<g class=\"node\" id=\"node13\"><title>140084993787440</title>\n",
       "<polygon fill=\"none\" points=\"-0.5,-371 -0.5,-407 166.5,-407 166.5,-371 -0.5,-371\" stroke=\"black\"/>\n",
       "<text font-family=\"Times,serif\" font-size=\"14.00\" text-anchor=\"middle\" x=\"83\" y=\"-385.3\">artificial11: MaxPooling2D</text>\n",
       "</g>\n",
       "<!-- 140084994050648&#45;&gt;140084993787440 -->\n",
       "<g class=\"edge\" id=\"edge12\"><title>140084994050648-&gt;140084993787440</title>\n",
       "<path d=\"M83,-444.937C83,-436.807 83,-426.876 83,-417.705\" fill=\"none\" stroke=\"black\"/>\n",
       "<polygon fill=\"black\" points=\"86.5001,-417.441 83,-407.441 79.5001,-417.441 86.5001,-417.441\" stroke=\"black\"/>\n",
       "</g>\n",
       "<!-- 140084993440176 -->\n",
       "<g class=\"node\" id=\"node14\"><title>140084993440176</title>\n",
       "<polygon fill=\"none\" points=\"19,-297 19,-333 147,-333 147,-297 19,-297\" stroke=\"black\"/>\n",
       "<text font-family=\"Times,serif\" font-size=\"14.00\" text-anchor=\"middle\" x=\"83\" y=\"-311.3\">artificial12: Dropout</text>\n",
       "</g>\n",
       "<!-- 140084993787440&#45;&gt;140084993440176 -->\n",
       "<g class=\"edge\" id=\"edge13\"><title>140084993787440-&gt;140084993440176</title>\n",
       "<path d=\"M83,-370.937C83,-362.807 83,-352.876 83,-343.705\" fill=\"none\" stroke=\"black\"/>\n",
       "<polygon fill=\"black\" points=\"86.5001,-343.441 83,-333.441 79.5001,-343.441 86.5001,-343.441\" stroke=\"black\"/>\n",
       "</g>\n",
       "<!-- 140084993439336 -->\n",
       "<g class=\"node\" id=\"node15\"><title>140084993439336</title>\n",
       "<polygon fill=\"none\" points=\"22.5,-223 22.5,-259 143.5,-259 143.5,-223 22.5,-223\" stroke=\"black\"/>\n",
       "<text font-family=\"Times,serif\" font-size=\"14.00\" text-anchor=\"middle\" x=\"83\" y=\"-237.3\">artificial13: Flatten</text>\n",
       "</g>\n",
       "<!-- 140084993440176&#45;&gt;140084993439336 -->\n",
       "<g class=\"edge\" id=\"edge14\"><title>140084993440176-&gt;140084993439336</title>\n",
       "<path d=\"M83,-296.937C83,-288.807 83,-278.876 83,-269.705\" fill=\"none\" stroke=\"black\"/>\n",
       "<polygon fill=\"black\" points=\"86.5001,-269.441 83,-259.441 79.5001,-269.441 86.5001,-269.441\" stroke=\"black\"/>\n",
       "</g>\n",
       "<!-- 140084993525352 -->\n",
       "<g class=\"node\" id=\"node16\"><title>140084993525352</title>\n",
       "<polygon fill=\"none\" points=\"24.5,-149 24.5,-185 141.5,-185 141.5,-149 24.5,-149\" stroke=\"black\"/>\n",
       "<text font-family=\"Times,serif\" font-size=\"14.00\" text-anchor=\"middle\" x=\"83\" y=\"-163.3\">artificial14: Dense</text>\n",
       "</g>\n",
       "<!-- 140084993439336&#45;&gt;140084993525352 -->\n",
       "<g class=\"edge\" id=\"edge15\"><title>140084993439336-&gt;140084993525352</title>\n",
       "<path d=\"M83,-222.937C83,-214.807 83,-204.876 83,-195.705\" fill=\"none\" stroke=\"black\"/>\n",
       "<polygon fill=\"black\" points=\"86.5001,-195.441 83,-185.441 79.5001,-195.441 86.5001,-195.441\" stroke=\"black\"/>\n",
       "</g>\n",
       "<!-- 140084993276336 -->\n",
       "<g class=\"node\" id=\"node17\"><title>140084993276336</title>\n",
       "<polygon fill=\"none\" points=\"19,-75 19,-111 147,-111 147,-75 19,-75\" stroke=\"black\"/>\n",
       "<text font-family=\"Times,serif\" font-size=\"14.00\" text-anchor=\"middle\" x=\"83\" y=\"-89.3\">artificial15: Dropout</text>\n",
       "</g>\n",
       "<!-- 140084993525352&#45;&gt;140084993276336 -->\n",
       "<g class=\"edge\" id=\"edge16\"><title>140084993525352-&gt;140084993276336</title>\n",
       "<path d=\"M83,-148.937C83,-140.807 83,-130.876 83,-121.705\" fill=\"none\" stroke=\"black\"/>\n",
       "<polygon fill=\"black\" points=\"86.5001,-121.441 83,-111.441 79.5001,-121.441 86.5001,-121.441\" stroke=\"black\"/>\n",
       "</g>\n",
       "<!-- 140084993274936 -->\n",
       "<g class=\"node\" id=\"node18\"><title>140084993274936</title>\n",
       "<polygon fill=\"none\" points=\"24.5,-1 24.5,-37 141.5,-37 141.5,-1 24.5,-1\" stroke=\"black\"/>\n",
       "<text font-family=\"Times,serif\" font-size=\"14.00\" text-anchor=\"middle\" x=\"83\" y=\"-15.3\">artificial16: Dense</text>\n",
       "</g>\n",
       "<!-- 140084993276336&#45;&gt;140084993274936 -->\n",
       "<g class=\"edge\" id=\"edge17\"><title>140084993276336-&gt;140084993274936</title>\n",
       "<path d=\"M83,-74.937C83,-66.8072 83,-56.8761 83,-47.7047\" fill=\"none\" stroke=\"black\"/>\n",
       "<polygon fill=\"black\" points=\"86.5001,-47.4406 83,-37.4407 79.5001,-47.4407 86.5001,-47.4406\" stroke=\"black\"/>\n",
       "</g>\n",
       "</g>\n",
       "</svg>"
      ],
      "text/plain": [
       "<IPython.core.display.SVG object>"
      ]
     },
     "execution_count": 224,
     "metadata": {},
     "output_type": "execute_result"
    }
   ],
   "source": [
    "# display artificial expert model diagram\n",
    "plot_model(artificialModel, to_file='artificialModel.png')\n",
    "SVG(model_to_dot(artificialModel).create(prog='dot', format='svg'))"
   ]
  },
  {
   "cell_type": "markdown",
   "metadata": {},
   "source": [
    "![artificialModel.png](./artificialModel.png)"
   ]
  },
  {
   "cell_type": "code",
   "execution_count": 95,
   "metadata": {
    "collapsed": true
   },
   "outputs": [],
   "source": [
    "# compile\n",
    "artificialModel.compile(loss='categorical_crossentropy',\n",
    "                        optimizer=Adam(),\n",
    "                        metrics=['accuracy'])"
   ]
  },
  {
   "cell_type": "code",
   "execution_count": 96,
   "metadata": {
    "collapsed": true
   },
   "outputs": [],
   "source": [
    "# make saving directory for check point\n",
    "artSaveDir = \"./artCifar10/\"\n",
    "if not os.path.isdir(artSaveDir):\n",
    "    os.makedirs(artSaveDir)\n",
    "    \n",
    "# early stopping and model checkpoint\n",
    "es_cb = EarlyStopping(monitor='val_loss', patience=2, verbose=1, mode='auto')\n",
    "chkpt = os.path.join(artSaveDir, 'Cifar10_.{epoch:02d}-{val_loss:.2f}.hdf5')\n",
    "cp_cb = ModelCheckpoint(filepath = chkpt, monitor='val_loss', verbose=1, save_best_only=True, mode='auto')\n",
    "\n",
    "# load the newest model data if exists\n",
    "artificialModel = getNewestModel(artificialModel, artSaveDir)"
   ]
  },
  {
   "cell_type": "code",
   "execution_count": 97,
   "metadata": {
    "scrolled": true
   },
   "outputs": [
    {
     "name": "stdout",
     "output_type": "stream",
     "text": [
      "Train on 20000 samples, validate on 4000 samples\n",
      "Epoch 1/100\n",
      "19950/20000 [============================>.] - ETA: 0s - loss: 1.1386 - acc: 0.4792Epoch 00001: val_loss improved from inf to 0.78481, saving model to ./artCifar10/Cifar10_.01-0.78.hdf5\n",
      "20000/20000 [==============================] - 12s 615us/step - loss: 1.1387 - acc: 0.4795 - val_loss: 0.7848 - val_acc: 0.6722\n",
      "Epoch 2/100\n",
      "19950/20000 [============================>.] - ETA: 0s - loss: 0.7107 - acc: 0.7183Epoch 00002: val_loss improved from 0.78481 to 0.50258, saving model to ./artCifar10/Cifar10_.02-0.50.hdf5\n",
      "20000/20000 [==============================] - 12s 576us/step - loss: 0.7103 - acc: 0.7185 - val_loss: 0.5026 - val_acc: 0.8035\n",
      "Epoch 3/100\n",
      "19950/20000 [============================>.] - ETA: 0s - loss: 0.5253 - acc: 0.8013Epoch 00003: val_loss improved from 0.50258 to 0.41963, saving model to ./artCifar10/Cifar10_.03-0.42.hdf5\n",
      "20000/20000 [==============================] - 12s 577us/step - loss: 0.5253 - acc: 0.8013 - val_loss: 0.4196 - val_acc: 0.8432\n",
      "Epoch 4/100\n",
      "19950/20000 [============================>.] - ETA: 0s - loss: 0.4291 - acc: 0.8411Epoch 00004: val_loss did not improve\n",
      "20000/20000 [==============================] - 12s 576us/step - loss: 0.4292 - acc: 0.8410 - val_loss: 0.4212 - val_acc: 0.8430\n",
      "Epoch 5/100\n",
      "19950/20000 [============================>.] - ETA: 0s - loss: 0.3653 - acc: 0.8643Epoch 00005: val_loss improved from 0.41963 to 0.35028, saving model to ./artCifar10/Cifar10_.05-0.35.hdf5\n",
      "20000/20000 [==============================] - 12s 579us/step - loss: 0.3652 - acc: 0.8642 - val_loss: 0.3503 - val_acc: 0.8742\n",
      "Epoch 6/100\n",
      "19950/20000 [============================>.] - ETA: 0s - loss: 0.3250 - acc: 0.8809Epoch 00006: val_loss improved from 0.35028 to 0.31941, saving model to ./artCifar10/Cifar10_.06-0.32.hdf5\n",
      "20000/20000 [==============================] - 12s 582us/step - loss: 0.3249 - acc: 0.8808 - val_loss: 0.3194 - val_acc: 0.8850\n",
      "Epoch 7/100\n",
      "19950/20000 [============================>.] - ETA: 0s - loss: 0.2909 - acc: 0.8951Epoch 00007: val_loss improved from 0.31941 to 0.31450, saving model to ./artCifar10/Cifar10_.07-0.31.hdf5\n",
      "20000/20000 [==============================] - 12s 581us/step - loss: 0.2908 - acc: 0.8952 - val_loss: 0.3145 - val_acc: 0.8892\n",
      "Epoch 8/100\n",
      "19950/20000 [============================>.] - ETA: 0s - loss: 0.2648 - acc: 0.9034Epoch 00008: val_loss did not improve\n",
      "20000/20000 [==============================] - 11s 574us/step - loss: 0.2648 - acc: 0.9034 - val_loss: 0.3556 - val_acc: 0.8760\n",
      "Epoch 9/100\n",
      "19950/20000 [============================>.] - ETA: 0s - loss: 0.2496 - acc: 0.9081Epoch 00009: val_loss did not improve\n",
      "20000/20000 [==============================] - 12s 578us/step - loss: 0.2496 - acc: 0.9081 - val_loss: 0.3202 - val_acc: 0.8887\n",
      "Epoch 00009: early stopping\n"
     ]
    },
    {
     "data": {
      "text/plain": [
       "<keras.callbacks.History at 0x7f681497f160>"
      ]
     },
     "execution_count": 97,
     "metadata": {},
     "output_type": "execute_result"
    }
   ],
   "source": [
    "# train\n",
    "artificialModel.fit(x_trainArt, y_trainArt,\n",
    "               batch_size=batch_size,\n",
    "               epochs=epochs,\n",
    "               validation_data=(x_testArt, y_testArt),\n",
    "               callbacks=[es_cb,cp_cb])"
   ]
  },
  {
   "cell_type": "code",
   "execution_count": 100,
   "metadata": {},
   "outputs": [
    {
     "name": "stdout",
     "output_type": "stream",
     "text": [
      "4000/4000 [==============================] - 1s 200us/step\n",
      "[0.31449732363224031, 0.88924999999999998]\n"
     ]
    }
   ],
   "source": [
    "# evaluate\n",
    "artificialModel = getNewestModel(artificialModel, artSaveDir)\n",
    "artScore = artificialModel.evaluate(x_testArt, y_testArt)\n",
    "print(artScore)"
   ]
  },
  {
   "cell_type": "code",
   "execution_count": null,
   "metadata": {
    "collapsed": true
   },
   "outputs": [],
   "source": []
  },
  {
   "cell_type": "markdown",
   "metadata": {
    "collapsed": true
   },
   "source": [
    "### Natural expert network"
   ]
  },
  {
   "cell_type": "code",
   "execution_count": 101,
   "metadata": {
    "collapsed": true
   },
   "outputs": [],
   "source": [
    "# for natural dataset\n",
    "x_trainNat = x_train[natureTrain]\n",
    "x_testNat = x_test[natureTest]\n",
    "y_trainNat = y_train[natureTrain]\n",
    "y_testNat = y_test[natureTest]"
   ]
  },
  {
   "cell_type": "code",
   "execution_count": 102,
   "metadata": {},
   "outputs": [
    {
     "name": "stdout",
     "output_type": "stream",
     "text": [
      "y train nature:(30000, 10)\n",
      "y test nature:(6000, 10)\n"
     ]
    }
   ],
   "source": [
    "# get natural dataset\n",
    "y_trainNat = keras.utils.to_categorical(y_trainNat, orig_classes)\n",
    "y_testNat = keras.utils.to_categorical(y_testNat, orig_classes)\n",
    "\n",
    "print(\"y train nature:{0}\\ny test nature:{1}\".format(y_trainNat.shape, y_testNat.shape))"
   ]
  },
  {
   "cell_type": "code",
   "execution_count": 225,
   "metadata": {
    "scrolled": true
   },
   "outputs": [
    {
     "data": {
      "image/svg+xml": [
       "<svg height=\"1304pt\" viewBox=\"0.00 0.00 166.00 1304.00\" width=\"166pt\" xmlns=\"http://www.w3.org/2000/svg\" xmlns:xlink=\"http://www.w3.org/1999/xlink\">\n",
       "<g class=\"graph\" id=\"graph0\" transform=\"scale(1 1) rotate(0) translate(4 1300)\">\n",
       "<title>G</title>\n",
       "<polygon fill=\"white\" points=\"-4,5 -4,-1300 163,-1300 163,5 -4,5\" stroke=\"white\"/>\n",
       "<!-- 140085212869912 -->\n",
       "<g class=\"node\" id=\"node1\"><title>140085212869912</title>\n",
       "<polygon fill=\"none\" points=\"23,-1259 23,-1295 135,-1295 135,-1259 23,-1259\" stroke=\"black\"/>\n",
       "<text font-family=\"Times,serif\" font-size=\"14.00\" text-anchor=\"middle\" x=\"79\" y=\"-1273.3\">input: InputLayer</text>\n",
       "</g>\n",
       "<!-- 140084995368664 -->\n",
       "<g class=\"node\" id=\"node2\"><title>140084995368664</title>\n",
       "<polygon fill=\"none\" points=\"22,-1185 22,-1221 136,-1221 136,-1185 22,-1185\" stroke=\"black\"/>\n",
       "<text font-family=\"Times,serif\" font-size=\"14.00\" text-anchor=\"middle\" x=\"79\" y=\"-1199.3\">natural0: Conv2D</text>\n",
       "</g>\n",
       "<!-- 140085212869912&#45;&gt;140084995368664 -->\n",
       "<g class=\"edge\" id=\"edge1\"><title>140085212869912-&gt;140084995368664</title>\n",
       "<path d=\"M79,-1258.94C79,-1250.81 79,-1240.88 79,-1231.7\" fill=\"none\" stroke=\"black\"/>\n",
       "<polygon fill=\"black\" points=\"82.5001,-1231.44 79,-1221.44 75.5001,-1231.44 82.5001,-1231.44\" stroke=\"black\"/>\n",
       "</g>\n",
       "<!-- 140084992956568 -->\n",
       "<g class=\"node\" id=\"node3\"><title>140084992956568</title>\n",
       "<polygon fill=\"none\" points=\"22,-1111 22,-1147 136,-1147 136,-1111 22,-1111\" stroke=\"black\"/>\n",
       "<text font-family=\"Times,serif\" font-size=\"14.00\" text-anchor=\"middle\" x=\"79\" y=\"-1125.3\">natural1: Conv2D</text>\n",
       "</g>\n",
       "<!-- 140084995368664&#45;&gt;140084992956568 -->\n",
       "<g class=\"edge\" id=\"edge2\"><title>140084995368664-&gt;140084992956568</title>\n",
       "<path d=\"M79,-1184.94C79,-1176.81 79,-1166.88 79,-1157.7\" fill=\"none\" stroke=\"black\"/>\n",
       "<polygon fill=\"black\" points=\"82.5001,-1157.44 79,-1147.44 75.5001,-1157.44 82.5001,-1157.44\" stroke=\"black\"/>\n",
       "</g>\n",
       "<!-- 140084992743520 -->\n",
       "<g class=\"node\" id=\"node4\"><title>140084992743520</title>\n",
       "<polygon fill=\"none\" points=\"3,-1037 3,-1073 155,-1073 155,-1037 3,-1037\" stroke=\"black\"/>\n",
       "<text font-family=\"Times,serif\" font-size=\"14.00\" text-anchor=\"middle\" x=\"79\" y=\"-1051.3\">natural2: MaxPooling2D</text>\n",
       "</g>\n",
       "<!-- 140084992956568&#45;&gt;140084992743520 -->\n",
       "<g class=\"edge\" id=\"edge3\"><title>140084992956568-&gt;140084992743520</title>\n",
       "<path d=\"M79,-1110.94C79,-1102.81 79,-1092.88 79,-1083.7\" fill=\"none\" stroke=\"black\"/>\n",
       "<polygon fill=\"black\" points=\"82.5001,-1083.44 79,-1073.44 75.5001,-1083.44 82.5001,-1083.44\" stroke=\"black\"/>\n",
       "</g>\n",
       "<!-- 140084992400408 -->\n",
       "<g class=\"node\" id=\"node5\"><title>140084992400408</title>\n",
       "<polygon fill=\"none\" points=\"22.5,-963 22.5,-999 135.5,-999 135.5,-963 22.5,-963\" stroke=\"black\"/>\n",
       "<text font-family=\"Times,serif\" font-size=\"14.00\" text-anchor=\"middle\" x=\"79\" y=\"-977.3\">natural3: Dropout</text>\n",
       "</g>\n",
       "<!-- 140084992743520&#45;&gt;140084992400408 -->\n",
       "<g class=\"edge\" id=\"edge4\"><title>140084992743520-&gt;140084992400408</title>\n",
       "<path d=\"M79,-1036.94C79,-1028.81 79,-1018.88 79,-1009.7\" fill=\"none\" stroke=\"black\"/>\n",
       "<polygon fill=\"black\" points=\"82.5001,-1009.44 79,-999.441 75.5001,-1009.44 82.5001,-1009.44\" stroke=\"black\"/>\n",
       "</g>\n",
       "<!-- 140084992399568 -->\n",
       "<g class=\"node\" id=\"node6\"><title>140084992399568</title>\n",
       "<polygon fill=\"none\" points=\"22,-889 22,-925 136,-925 136,-889 22,-889\" stroke=\"black\"/>\n",
       "<text font-family=\"Times,serif\" font-size=\"14.00\" text-anchor=\"middle\" x=\"79\" y=\"-903.3\">natural4: Conv2D</text>\n",
       "</g>\n",
       "<!-- 140084992400408&#45;&gt;140084992399568 -->\n",
       "<g class=\"edge\" id=\"edge5\"><title>140084992400408-&gt;140084992399568</title>\n",
       "<path d=\"M79,-962.937C79,-954.807 79,-944.876 79,-935.705\" fill=\"none\" stroke=\"black\"/>\n",
       "<polygon fill=\"black\" points=\"82.5001,-935.441 79,-925.441 75.5001,-935.441 82.5001,-935.441\" stroke=\"black\"/>\n",
       "</g>\n",
       "<!-- 140084992482496 -->\n",
       "<g class=\"node\" id=\"node7\"><title>140084992482496</title>\n",
       "<polygon fill=\"none\" points=\"22,-815 22,-851 136,-851 136,-815 22,-815\" stroke=\"black\"/>\n",
       "<text font-family=\"Times,serif\" font-size=\"14.00\" text-anchor=\"middle\" x=\"79\" y=\"-829.3\">natural5: Conv2D</text>\n",
       "</g>\n",
       "<!-- 140084992399568&#45;&gt;140084992482496 -->\n",
       "<g class=\"edge\" id=\"edge6\"><title>140084992399568-&gt;140084992482496</title>\n",
       "<path d=\"M79,-888.937C79,-880.807 79,-870.876 79,-861.705\" fill=\"none\" stroke=\"black\"/>\n",
       "<polygon fill=\"black\" points=\"82.5001,-861.441 79,-851.441 75.5001,-861.441 82.5001,-861.441\" stroke=\"black\"/>\n",
       "</g>\n",
       "<!-- 140084992244928 -->\n",
       "<g class=\"node\" id=\"node8\"><title>140084992244928</title>\n",
       "<polygon fill=\"none\" points=\"3,-741 3,-777 155,-777 155,-741 3,-741\" stroke=\"black\"/>\n",
       "<text font-family=\"Times,serif\" font-size=\"14.00\" text-anchor=\"middle\" x=\"79\" y=\"-755.3\">natural6: MaxPooling2D</text>\n",
       "</g>\n",
       "<!-- 140084992482496&#45;&gt;140084992244928 -->\n",
       "<g class=\"edge\" id=\"edge7\"><title>140084992482496-&gt;140084992244928</title>\n",
       "<path d=\"M79,-814.937C79,-806.807 79,-796.876 79,-787.705\" fill=\"none\" stroke=\"black\"/>\n",
       "<polygon fill=\"black\" points=\"82.5001,-787.441 79,-777.441 75.5001,-787.441 82.5001,-787.441\" stroke=\"black\"/>\n",
       "</g>\n",
       "<!-- 140084991891776 -->\n",
       "<g class=\"node\" id=\"node9\"><title>140084991891776</title>\n",
       "<polygon fill=\"none\" points=\"22.5,-667 22.5,-703 135.5,-703 135.5,-667 22.5,-667\" stroke=\"black\"/>\n",
       "<text font-family=\"Times,serif\" font-size=\"14.00\" text-anchor=\"middle\" x=\"79\" y=\"-681.3\">natural7: Dropout</text>\n",
       "</g>\n",
       "<!-- 140084992244928&#45;&gt;140084991891776 -->\n",
       "<g class=\"edge\" id=\"edge8\"><title>140084992244928-&gt;140084991891776</title>\n",
       "<path d=\"M79,-740.937C79,-732.807 79,-722.876 79,-713.705\" fill=\"none\" stroke=\"black\"/>\n",
       "<polygon fill=\"black\" points=\"82.5001,-713.441 79,-703.441 75.5001,-713.441 82.5001,-713.441\" stroke=\"black\"/>\n",
       "</g>\n",
       "<!-- 140084991890936 -->\n",
       "<g class=\"node\" id=\"node10\"><title>140084991890936</title>\n",
       "<polygon fill=\"none\" points=\"22,-593 22,-629 136,-629 136,-593 22,-593\" stroke=\"black\"/>\n",
       "<text font-family=\"Times,serif\" font-size=\"14.00\" text-anchor=\"middle\" x=\"79\" y=\"-607.3\">natural8: Conv2D</text>\n",
       "</g>\n",
       "<!-- 140084991891776&#45;&gt;140084991890936 -->\n",
       "<g class=\"edge\" id=\"edge9\"><title>140084991891776-&gt;140084991890936</title>\n",
       "<path d=\"M79,-666.937C79,-658.807 79,-648.876 79,-639.705\" fill=\"none\" stroke=\"black\"/>\n",
       "<polygon fill=\"black\" points=\"82.5001,-639.441 79,-629.441 75.5001,-639.441 82.5001,-639.441\" stroke=\"black\"/>\n",
       "</g>\n",
       "<!-- 140084991978016 -->\n",
       "<g class=\"node\" id=\"node11\"><title>140084991978016</title>\n",
       "<polygon fill=\"none\" points=\"22,-519 22,-555 136,-555 136,-519 22,-519\" stroke=\"black\"/>\n",
       "<text font-family=\"Times,serif\" font-size=\"14.00\" text-anchor=\"middle\" x=\"79\" y=\"-533.3\">natural9: Conv2D</text>\n",
       "</g>\n",
       "<!-- 140084991890936&#45;&gt;140084991978016 -->\n",
       "<g class=\"edge\" id=\"edge10\"><title>140084991890936-&gt;140084991978016</title>\n",
       "<path d=\"M79,-592.937C79,-584.807 79,-574.876 79,-565.705\" fill=\"none\" stroke=\"black\"/>\n",
       "<polygon fill=\"black\" points=\"82.5001,-565.441 79,-555.441 75.5001,-565.441 82.5001,-565.441\" stroke=\"black\"/>\n",
       "</g>\n",
       "<!-- 140084991725240 -->\n",
       "<g class=\"node\" id=\"node12\"><title>140084991725240</title>\n",
       "<polygon fill=\"none\" points=\"18.5,-445 18.5,-481 139.5,-481 139.5,-445 18.5,-445\" stroke=\"black\"/>\n",
       "<text font-family=\"Times,serif\" font-size=\"14.00\" text-anchor=\"middle\" x=\"79\" y=\"-459.3\">natural10: Conv2D</text>\n",
       "</g>\n",
       "<!-- 140084991978016&#45;&gt;140084991725240 -->\n",
       "<g class=\"edge\" id=\"edge11\"><title>140084991978016-&gt;140084991725240</title>\n",
       "<path d=\"M79,-518.937C79,-510.807 79,-500.876 79,-491.705\" fill=\"none\" stroke=\"black\"/>\n",
       "<polygon fill=\"black\" points=\"82.5001,-491.441 79,-481.441 75.5001,-491.441 82.5001,-491.441\" stroke=\"black\"/>\n",
       "</g>\n",
       "<!-- 140084991384936 -->\n",
       "<g class=\"node\" id=\"node13\"><title>140084991384936</title>\n",
       "<polygon fill=\"none\" points=\"-0.5,-371 -0.5,-407 158.5,-407 158.5,-371 -0.5,-371\" stroke=\"black\"/>\n",
       "<text font-family=\"Times,serif\" font-size=\"14.00\" text-anchor=\"middle\" x=\"79\" y=\"-385.3\">natural11: MaxPooling2D</text>\n",
       "</g>\n",
       "<!-- 140084991725240&#45;&gt;140084991384936 -->\n",
       "<g class=\"edge\" id=\"edge12\"><title>140084991725240-&gt;140084991384936</title>\n",
       "<path d=\"M79,-444.937C79,-436.807 79,-426.876 79,-417.705\" fill=\"none\" stroke=\"black\"/>\n",
       "<polygon fill=\"black\" points=\"82.5001,-417.441 79,-407.441 75.5001,-417.441 82.5001,-417.441\" stroke=\"black\"/>\n",
       "</g>\n",
       "<!-- 140084991037736 -->\n",
       "<g class=\"node\" id=\"node14\"><title>140084991037736</title>\n",
       "<polygon fill=\"none\" points=\"19,-297 19,-333 139,-333 139,-297 19,-297\" stroke=\"black\"/>\n",
       "<text font-family=\"Times,serif\" font-size=\"14.00\" text-anchor=\"middle\" x=\"79\" y=\"-311.3\">natural12: Dropout</text>\n",
       "</g>\n",
       "<!-- 140084991384936&#45;&gt;140084991037736 -->\n",
       "<g class=\"edge\" id=\"edge13\"><title>140084991384936-&gt;140084991037736</title>\n",
       "<path d=\"M79,-370.937C79,-362.807 79,-352.876 79,-343.705\" fill=\"none\" stroke=\"black\"/>\n",
       "<polygon fill=\"black\" points=\"82.5001,-343.441 79,-333.441 75.5001,-343.441 82.5001,-343.441\" stroke=\"black\"/>\n",
       "</g>\n",
       "<!-- 140084991038296 -->\n",
       "<g class=\"node\" id=\"node15\"><title>140084991038296</title>\n",
       "<polygon fill=\"none\" points=\"22.5,-223 22.5,-259 135.5,-259 135.5,-223 22.5,-223\" stroke=\"black\"/>\n",
       "<text font-family=\"Times,serif\" font-size=\"14.00\" text-anchor=\"middle\" x=\"79\" y=\"-237.3\">natural13: Flatten</text>\n",
       "</g>\n",
       "<!-- 140084991037736&#45;&gt;140084991038296 -->\n",
       "<g class=\"edge\" id=\"edge14\"><title>140084991037736-&gt;140084991038296</title>\n",
       "<path d=\"M79,-296.937C79,-288.807 79,-278.876 79,-269.705\" fill=\"none\" stroke=\"black\"/>\n",
       "<polygon fill=\"black\" points=\"82.5001,-269.441 79,-259.441 75.5001,-269.441 82.5001,-269.441\" stroke=\"black\"/>\n",
       "</g>\n",
       "<!-- 140084991041208 -->\n",
       "<g class=\"node\" id=\"node16\"><title>140084991041208</title>\n",
       "<polygon fill=\"none\" points=\"24.5,-149 24.5,-185 133.5,-185 133.5,-149 24.5,-149\" stroke=\"black\"/>\n",
       "<text font-family=\"Times,serif\" font-size=\"14.00\" text-anchor=\"middle\" x=\"79\" y=\"-163.3\">natural14: Dense</text>\n",
       "</g>\n",
       "<!-- 140084991038296&#45;&gt;140084991041208 -->\n",
       "<g class=\"edge\" id=\"edge15\"><title>140084991038296-&gt;140084991041208</title>\n",
       "<path d=\"M79,-222.937C79,-214.807 79,-204.876 79,-195.705\" fill=\"none\" stroke=\"black\"/>\n",
       "<polygon fill=\"black\" points=\"82.5001,-195.441 79,-185.441 75.5001,-195.441 82.5001,-195.441\" stroke=\"black\"/>\n",
       "</g>\n",
       "<!-- 140084990791576 -->\n",
       "<g class=\"node\" id=\"node17\"><title>140084990791576</title>\n",
       "<polygon fill=\"none\" points=\"19,-75 19,-111 139,-111 139,-75 19,-75\" stroke=\"black\"/>\n",
       "<text font-family=\"Times,serif\" font-size=\"14.00\" text-anchor=\"middle\" x=\"79\" y=\"-89.3\">natural15: Dropout</text>\n",
       "</g>\n",
       "<!-- 140084991041208&#45;&gt;140084990791576 -->\n",
       "<g class=\"edge\" id=\"edge16\"><title>140084991041208-&gt;140084990791576</title>\n",
       "<path d=\"M79,-148.937C79,-140.807 79,-130.876 79,-121.705\" fill=\"none\" stroke=\"black\"/>\n",
       "<polygon fill=\"black\" points=\"82.5001,-121.441 79,-111.441 75.5001,-121.441 82.5001,-121.441\" stroke=\"black\"/>\n",
       "</g>\n",
       "<!-- 140084990790904 -->\n",
       "<g class=\"node\" id=\"node18\"><title>140084990790904</title>\n",
       "<polygon fill=\"none\" points=\"24.5,-1 24.5,-37 133.5,-37 133.5,-1 24.5,-1\" stroke=\"black\"/>\n",
       "<text font-family=\"Times,serif\" font-size=\"14.00\" text-anchor=\"middle\" x=\"79\" y=\"-15.3\">natural16: Dense</text>\n",
       "</g>\n",
       "<!-- 140084990791576&#45;&gt;140084990790904 -->\n",
       "<g class=\"edge\" id=\"edge17\"><title>140084990791576-&gt;140084990790904</title>\n",
       "<path d=\"M79,-74.937C79,-66.8072 79,-56.8761 79,-47.7047\" fill=\"none\" stroke=\"black\"/>\n",
       "<polygon fill=\"black\" points=\"82.5001,-47.4406 79,-37.4407 75.5001,-47.4407 82.5001,-47.4406\" stroke=\"black\"/>\n",
       "</g>\n",
       "</g>\n",
       "</svg>"
      ],
      "text/plain": [
       "<IPython.core.display.SVG object>"
      ]
     },
     "execution_count": 225,
     "metadata": {},
     "output_type": "execute_result"
    }
   ],
   "source": [
    "# display natural expert model diagram\n",
    "plot_model(naturalModel, to_file='naturalModel.png')\n",
    "SVG(model_to_dot(naturalModel).create(prog='dot', format='svg'))"
   ]
  },
  {
   "cell_type": "markdown",
   "metadata": {},
   "source": [
    "![naturalModel.png](./naturalModel.png)"
   ]
  },
  {
   "cell_type": "code",
   "execution_count": 104,
   "metadata": {
    "collapsed": true
   },
   "outputs": [],
   "source": [
    "# compile\n",
    "naturalModel.compile(loss='categorical_crossentropy',\n",
    "                   optimizer=Adam(),\n",
    "                   metrics=['accuracy'])"
   ]
  },
  {
   "cell_type": "code",
   "execution_count": 105,
   "metadata": {
    "collapsed": true
   },
   "outputs": [],
   "source": [
    "# make saving directory for check point\n",
    "natSaveDir = \"./natureCifar10/\"\n",
    "if not os.path.isdir(natSaveDir):\n",
    "    os.makedirs(natSaveDir)\n",
    "    \n",
    "# early stopping and model checkpoint\n",
    "es_cb = EarlyStopping(monitor='val_loss', patience=2, verbose=1, mode='auto')\n",
    "chkpt = os.path.join(natSaveDir, 'Cifar10_.{epoch:02d}-{val_loss:.2f}.hdf5')\n",
    "cp_cb = ModelCheckpoint(filepath = chkpt, monitor='val_loss', verbose=1, save_best_only=True, mode='auto')\n",
    "\n",
    "# load the newest model data if exists\n",
    "naturalModel = getNewestModel(naturalModel, natSaveDir)"
   ]
  },
  {
   "cell_type": "code",
   "execution_count": 106,
   "metadata": {
    "scrolled": true
   },
   "outputs": [
    {
     "name": "stdout",
     "output_type": "stream",
     "text": [
      "Train on 30000 samples, validate on 6000 samples\n",
      "Epoch 1/100\n",
      "29950/30000 [============================>.] - ETA: 0s - loss: 1.6790 - acc: 0.2833Epoch 00001: val_loss improved from inf to 1.40301, saving model to ./natureCifar10/Cifar10_.01-1.40.hdf5\n",
      "30000/30000 [==============================] - 19s 618us/step - loss: 1.6788 - acc: 0.2835 - val_loss: 1.4030 - val_acc: 0.4502\n",
      "Epoch 2/100\n",
      "29950/30000 [============================>.] - ETA: 0s - loss: 1.3120 - acc: 0.4835Epoch 00002: val_loss improved from 1.40301 to 1.18534, saving model to ./natureCifar10/Cifar10_.02-1.19.hdf5\n",
      "30000/30000 [==============================] - 17s 581us/step - loss: 1.3118 - acc: 0.4837 - val_loss: 1.1853 - val_acc: 0.5393\n",
      "Epoch 3/100\n",
      "29950/30000 [============================>.] - ETA: 0s - loss: 1.1192 - acc: 0.5713Epoch 00003: val_loss improved from 1.18534 to 1.04462, saving model to ./natureCifar10/Cifar10_.03-1.04.hdf5\n",
      "30000/30000 [==============================] - 17s 578us/step - loss: 1.1192 - acc: 0.5713 - val_loss: 1.0446 - val_acc: 0.6013\n",
      "Epoch 4/100\n",
      "29950/30000 [============================>.] - ETA: 0s - loss: 0.9913 - acc: 0.6250Epoch 00004: val_loss improved from 1.04462 to 0.91700, saving model to ./natureCifar10/Cifar10_.04-0.92.hdf5\n",
      "30000/30000 [==============================] - 17s 582us/step - loss: 0.9914 - acc: 0.6251 - val_loss: 0.9170 - val_acc: 0.6562\n",
      "Epoch 5/100\n",
      "29950/30000 [============================>.] - ETA: 0s - loss: 0.9037 - acc: 0.6613Epoch 00005: val_loss improved from 0.91700 to 0.83293, saving model to ./natureCifar10/Cifar10_.05-0.83.hdf5\n",
      "30000/30000 [==============================] - 17s 582us/step - loss: 0.9037 - acc: 0.6614 - val_loss: 0.8329 - val_acc: 0.6908\n",
      "Epoch 6/100\n",
      "29950/30000 [============================>.] - ETA: 0s - loss: 0.8323 - acc: 0.6940Epoch 00006: val_loss improved from 0.83293 to 0.81135, saving model to ./natureCifar10/Cifar10_.06-0.81.hdf5\n",
      "30000/30000 [==============================] - 17s 583us/step - loss: 0.8318 - acc: 0.6942 - val_loss: 0.8114 - val_acc: 0.7117\n",
      "Epoch 7/100\n",
      "29950/30000 [============================>.] - ETA: 0s - loss: 0.7814 - acc: 0.7130Epoch 00007: val_loss improved from 0.81135 to 0.75777, saving model to ./natureCifar10/Cifar10_.07-0.76.hdf5\n",
      "30000/30000 [==============================] - 17s 579us/step - loss: 0.7813 - acc: 0.7129 - val_loss: 0.7578 - val_acc: 0.7305\n",
      "Epoch 8/100\n",
      "29950/30000 [============================>.] - ETA: 0s - loss: 0.7385 - acc: 0.7292Epoch 00008: val_loss improved from 0.75777 to 0.74125, saving model to ./natureCifar10/Cifar10_.08-0.74.hdf5\n",
      "30000/30000 [==============================] - 17s 582us/step - loss: 0.7387 - acc: 0.7291 - val_loss: 0.7413 - val_acc: 0.7352\n",
      "Epoch 9/100\n",
      "29950/30000 [============================>.] - ETA: 0s - loss: 0.7024 - acc: 0.7426Epoch 00009: val_loss improved from 0.74125 to 0.73641, saving model to ./natureCifar10/Cifar10_.09-0.74.hdf5\n",
      "30000/30000 [==============================] - 17s 578us/step - loss: 0.7020 - acc: 0.7427 - val_loss: 0.7364 - val_acc: 0.7358\n",
      "Epoch 10/100\n",
      "29950/30000 [============================>.] - ETA: 0s - loss: 0.6672 - acc: 0.7554Epoch 00010: val_loss improved from 0.73641 to 0.72848, saving model to ./natureCifar10/Cifar10_.10-0.73.hdf5\n",
      "30000/30000 [==============================] - 17s 579us/step - loss: 0.6670 - acc: 0.7555 - val_loss: 0.7285 - val_acc: 0.7458\n",
      "Epoch 11/100\n",
      "29950/30000 [============================>.] - ETA: 0s - loss: 0.6485 - acc: 0.7633Epoch 00011: val_loss improved from 0.72848 to 0.71921, saving model to ./natureCifar10/Cifar10_.11-0.72.hdf5\n",
      "30000/30000 [==============================] - 17s 577us/step - loss: 0.6486 - acc: 0.7633 - val_loss: 0.7192 - val_acc: 0.7475\n",
      "Epoch 12/100\n",
      "29950/30000 [============================>.] - ETA: 0s - loss: 0.6183 - acc: 0.7716Epoch 00012: val_loss improved from 0.71921 to 0.69010, saving model to ./natureCifar10/Cifar10_.12-0.69.hdf5\n",
      "30000/30000 [==============================] - 17s 581us/step - loss: 0.6181 - acc: 0.7715 - val_loss: 0.6901 - val_acc: 0.7547\n",
      "Epoch 13/100\n",
      "29950/30000 [============================>.] - ETA: 0s - loss: 0.5923 - acc: 0.7839Epoch 00013: val_loss did not improve\n",
      "30000/30000 [==============================] - 17s 579us/step - loss: 0.5924 - acc: 0.7839 - val_loss: 0.6958 - val_acc: 0.7567\n",
      "Epoch 14/100\n",
      "29950/30000 [============================>.] - ETA: 0s - loss: 0.5839 - acc: 0.7873Epoch 00014: val_loss did not improve\n",
      "30000/30000 [==============================] - 17s 578us/step - loss: 0.5836 - acc: 0.7875 - val_loss: 0.7027 - val_acc: 0.7575\n",
      "Epoch 00014: early stopping\n"
     ]
    },
    {
     "data": {
      "text/plain": [
       "<keras.callbacks.History at 0x7f681e3ffc88>"
      ]
     },
     "execution_count": 106,
     "metadata": {},
     "output_type": "execute_result"
    }
   ],
   "source": [
    "# train\n",
    "naturalModel.fit(x_trainNat, y_trainNat,\n",
    "               batch_size=batch_size,\n",
    "               epochs=epochs,\n",
    "               validation_data=(x_testNat, y_testNat),\n",
    "               callbacks=[es_cb,cp_cb])"
   ]
  },
  {
   "cell_type": "code",
   "execution_count": 107,
   "metadata": {},
   "outputs": [
    {
     "name": "stdout",
     "output_type": "stream",
     "text": [
      "6000/6000 [==============================] - 1s 204us/step\n",
      "[0.69010207668940227, 0.75466666666666671]\n"
     ]
    }
   ],
   "source": [
    "# evaluate\n",
    "naturalModel = getNewestModel(naturalModel, natSaveDir)\n",
    "natScore = naturalModel.evaluate(x_testNat, y_testNat)\n",
    "print(natScore)"
   ]
  },
  {
   "cell_type": "code",
   "execution_count": null,
   "metadata": {
    "collapsed": true
   },
   "outputs": [],
   "source": []
  },
  {
   "cell_type": "code",
   "execution_count": null,
   "metadata": {
    "collapsed": true
   },
   "outputs": [],
   "source": []
  },
  {
   "cell_type": "markdown",
   "metadata": {},
   "source": [
    "### Make layers in the base VGG, the first gating network, the artificial expert and the natural expert untrainable\n",
    "<br>\n",
    "These networks work as feed-forward in the mixture of experts model."
   ]
  },
  {
   "cell_type": "code",
   "execution_count": 108,
   "metadata": {
    "collapsed": true
   },
   "outputs": [],
   "source": [
    "for l in baseModel.layers:\n",
    "    l.trainable = False\n",
    "for l in gate0Model.layers:\n",
    "    l.trainable = False\n",
    "for l in artificialModel.layers:\n",
    "    l.trainable = False\n",
    "for l in naturalModel.layers:\n",
    "    l.trainable = False"
   ]
  },
  {
   "cell_type": "code",
   "execution_count": null,
   "metadata": {
    "collapsed": true
   },
   "outputs": [],
   "source": []
  },
  {
   "cell_type": "markdown",
   "metadata": {
    "collapsed": true
   },
   "source": [
    "## Connecting the overall networks to form the mixture of experts model"
   ]
  },
  {
   "cell_type": "code",
   "execution_count": 109,
   "metadata": {
    "collapsed": true
   },
   "outputs": [],
   "source": [
    "# define sub-Gate network, for the second gating network layer\n",
    "def subGate(cifarInput, orig_classes, numExperts, name=\"subGate\"):\n",
    "    name = [name+str(i) for i in range(5)]\n",
    "    subgate = Flatten(name=name[0])(cifarInput)\n",
    "    subgate = Dense(512, activation='relu', name=name[1])(subgate)\n",
    "    subgate = Dropout(0.5, name=name[2])(subgate)\n",
    "    subgate = Dense(orig_classes*numExperts, activation='softmax', name=name[3])(subgate)\n",
    "    subgate = Reshape((orig_classes, numExperts), name=name[4])(subgate)\n",
    "    return subgate"
   ]
  },
  {
   "cell_type": "code",
   "execution_count": 110,
   "metadata": {
    "collapsed": true
   },
   "outputs": [],
   "source": [
    "# the artificial gating network\n",
    "artGate = subGate(cifarInput, orig_classes, 2, \"artExpertGate\")\n",
    "\n",
    "# the natural gating network\n",
    "natureGate = subGate(cifarInput, orig_classes, 2, \"natureExpertGate\")"
   ]
  },
  {
   "cell_type": "code",
   "execution_count": 112,
   "metadata": {
    "collapsed": true
   },
   "outputs": [],
   "source": [
    "# define inference calculation with Keras Lambda layer with base VGG, expert network and the second gating network of corresponding expert as input\n",
    "# the inference is calculated as sum of multiplications of base VGG inference output and its importance, and expert network inference output and its importance\n",
    "def subGateLambda(base, expert, subgate):\n",
    "    output = Lambda(lambda gx: (gx[0]*gx[2][:,:,0]) + (gx[1]*gx[2][:,:,1]), output_shape=(orig_classes,))([base, expert, subgate])\n",
    "    return output"
   ]
  },
  {
   "cell_type": "code",
   "execution_count": 115,
   "metadata": {},
   "outputs": [],
   "source": [
    "# connecting the overall networks.\n",
    "# the Keras backend switch works as deciding with the first gating network, leading to artificial or natural gate\n",
    "output = Lambda(lambda gx: K.switch(gx[1][:,0] > gx[1][:,1], \n",
    "                                    subGateLambda(gx[0], gx[2], gx[4]), \n",
    "                                    subGateLambda(gx[0], gx[3], gx[5])), \n",
    "                output_shape=(orig_classes,))([baseVGG, gate0VGG, artificialVGG, naturalVGG, artGate, natureGate])"
   ]
  },
  {
   "cell_type": "code",
   "execution_count": 116,
   "metadata": {
    "collapsed": true,
    "scrolled": true
   },
   "outputs": [],
   "source": [
    "# the mixture of experts model\n",
    "model = Model(cifarInput, output)"
   ]
  },
  {
   "cell_type": "code",
   "execution_count": 226,
   "metadata": {
    "scrolled": true
   },
   "outputs": [
    {
     "data": {
      "image/svg+xml": [
       "<svg height=\"1378pt\" viewBox=\"0.00 0.00 884.00 1378.00\" width=\"884pt\" xmlns=\"http://www.w3.org/2000/svg\" xmlns:xlink=\"http://www.w3.org/1999/xlink\">\n",
       "<g class=\"graph\" id=\"graph0\" transform=\"scale(1 1) rotate(0) translate(4 1374)\">\n",
       "<title>G</title>\n",
       "<polygon fill=\"white\" points=\"-4,5 -4,-1374 881,-1374 881,5 -4,5\" stroke=\"white\"/>\n",
       "<!-- 140085212869912 -->\n",
       "<g class=\"node\" id=\"node1\"><title>140085212869912</title>\n",
       "<polygon fill=\"none\" points=\"383,-1333 383,-1369 495,-1369 495,-1333 383,-1333\" stroke=\"black\"/>\n",
       "<text font-family=\"Times,serif\" font-size=\"14.00\" text-anchor=\"middle\" x=\"439\" y=\"-1347.3\">input: InputLayer</text>\n",
       "</g>\n",
       "<!-- 140084996940968 -->\n",
       "<g class=\"node\" id=\"node2\"><title>140084996940968</title>\n",
       "<polygon fill=\"none\" points=\"72,-1259 72,-1295 194,-1295 194,-1259 72,-1259\" stroke=\"black\"/>\n",
       "<text font-family=\"Times,serif\" font-size=\"14.00\" text-anchor=\"middle\" x=\"133\" y=\"-1273.3\">artificial0: Conv2D</text>\n",
       "</g>\n",
       "<!-- 140085212869912&#45;&gt;140084996940968 -->\n",
       "<g class=\"edge\" id=\"edge1\"><title>140085212869912-&gt;140084996940968</title>\n",
       "<path d=\"M382.875,-1336.79C332.522,-1324.95 258.389,-1307.5 203.943,-1294.69\" fill=\"none\" stroke=\"black\"/>\n",
       "<polygon fill=\"black\" points=\"204.552,-1291.24 194.016,-1292.36 202.949,-1298.05 204.552,-1291.24\" stroke=\"black\"/>\n",
       "</g>\n",
       "<!-- 140084995368664 -->\n",
       "<g class=\"node\" id=\"node3\"><title>140084995368664</title>\n",
       "<polygon fill=\"none\" points=\"230,-1259 230,-1295 344,-1295 344,-1259 230,-1259\" stroke=\"black\"/>\n",
       "<text font-family=\"Times,serif\" font-size=\"14.00\" text-anchor=\"middle\" x=\"287\" y=\"-1273.3\">natural0: Conv2D</text>\n",
       "</g>\n",
       "<!-- 140085212869912&#45;&gt;140084995368664 -->\n",
       "<g class=\"edge\" id=\"edge2\"><title>140085212869912-&gt;140084995368664</title>\n",
       "<path d=\"M402.978,-1332.94C381.759,-1322.89 354.728,-1310.08 332.101,-1299.36\" fill=\"none\" stroke=\"black\"/>\n",
       "<polygon fill=\"black\" points=\"333.562,-1296.18 323.026,-1295.07 330.565,-1302.51 333.562,-1296.18\" stroke=\"black\"/>\n",
       "</g>\n",
       "<!-- 140084998079376 -->\n",
       "<g class=\"node\" id=\"node12\"><title>140084998079376</title>\n",
       "<polygon fill=\"none\" points=\"349.5,-1185 349.5,-1221 450.5,-1221 450.5,-1185 349.5,-1185\" stroke=\"black\"/>\n",
       "<text font-family=\"Times,serif\" font-size=\"14.00\" text-anchor=\"middle\" x=\"400\" y=\"-1199.3\">base0: Conv2D</text>\n",
       "</g>\n",
       "<!-- 140085212869912&#45;&gt;140084998079376 -->\n",
       "<g class=\"edge\" id=\"edge11\"><title>140085212869912-&gt;140084998079376</title>\n",
       "<path d=\"M431.391,-1332.76C426.998,-1322.29 421.64,-1308.56 418,-1296 411.79,-1274.57 407.069,-1249.71 404.023,-1231.24\" fill=\"none\" stroke=\"black\"/>\n",
       "<polygon fill=\"black\" points=\"407.45,-1230.5 402.425,-1221.17 400.537,-1231.6 407.45,-1230.5\" stroke=\"black\"/>\n",
       "</g>\n",
       "<!-- 140084998079432 -->\n",
       "<g class=\"node\" id=\"node13\"><title>140084998079432</title>\n",
       "<polygon fill=\"none\" points=\"427,-1259 427,-1295 533,-1295 533,-1259 427,-1259\" stroke=\"black\"/>\n",
       "<text font-family=\"Times,serif\" font-size=\"14.00\" text-anchor=\"middle\" x=\"480\" y=\"-1273.3\">gate00: Conv2D</text>\n",
       "</g>\n",
       "<!-- 140085212869912&#45;&gt;140084998079432 -->\n",
       "<g class=\"edge\" id=\"edge12\"><title>140085212869912-&gt;140084998079432</title>\n",
       "<path d=\"M448.716,-1332.94C453.598,-1324.37 459.619,-1313.79 465.071,-1304.22\" fill=\"none\" stroke=\"black\"/>\n",
       "<polygon fill=\"black\" points=\"468.162,-1305.86 470.069,-1295.44 462.079,-1302.4 468.162,-1305.86\" stroke=\"black\"/>\n",
       "</g>\n",
       "<!-- 140085169543376 -->\n",
       "<g class=\"node\" id=\"node44\"><title>140085169543376</title>\n",
       "<polygon fill=\"none\" points=\"551,-1259 551,-1295 695,-1295 695,-1259 551,-1259\" stroke=\"black\"/>\n",
       "<text font-family=\"Times,serif\" font-size=\"14.00\" text-anchor=\"middle\" x=\"623\" y=\"-1273.3\">artExpertGate0: Flatten</text>\n",
       "</g>\n",
       "<!-- 140085212869912&#45;&gt;140085169543376 -->\n",
       "<g class=\"edge\" id=\"edge43\"><title>140085212869912-&gt;140085169543376</title>\n",
       "<path d=\"M482.605,-1332.94C508.748,-1322.71 542.179,-1309.63 569.859,-1298.79\" fill=\"none\" stroke=\"black\"/>\n",
       "<polygon fill=\"black\" points=\"571.352,-1301.97 579.389,-1295.07 568.801,-1295.45 571.352,-1301.97\" stroke=\"black\"/>\n",
       "</g>\n",
       "<!-- 140085169543432 -->\n",
       "<g class=\"node\" id=\"node45\"><title>140085169543432</title>\n",
       "<polygon fill=\"none\" points=\"710,-1185 710,-1221 874,-1221 874,-1185 710,-1185\" stroke=\"black\"/>\n",
       "<text font-family=\"Times,serif\" font-size=\"14.00\" text-anchor=\"middle\" x=\"792\" y=\"-1199.3\">natureExpertGate0: Flatten</text>\n",
       "</g>\n",
       "<!-- 140085212869912&#45;&gt;140085169543432 -->\n",
       "<g class=\"edge\" id=\"edge44\"><title>140085212869912-&gt;140085169543432</title>\n",
       "<path d=\"M495.1,-1348.23C551.156,-1344.32 638.229,-1332.3 704,-1296 733.253,-1279.85 758.644,-1250.7 774.533,-1229.52\" fill=\"none\" stroke=\"black\"/>\n",
       "<polygon fill=\"black\" points=\"777.479,-1231.42 780.544,-1221.28 771.824,-1227.3 777.479,-1231.42\" stroke=\"black\"/>\n",
       "</g>\n",
       "<!-- 140084995057760 -->\n",
       "<g class=\"node\" id=\"node4\"><title>140084995057760</title>\n",
       "<polygon fill=\"none\" points=\"39,-1185 39,-1221 161,-1221 161,-1185 39,-1185\" stroke=\"black\"/>\n",
       "<text font-family=\"Times,serif\" font-size=\"14.00\" text-anchor=\"middle\" x=\"100\" y=\"-1199.3\">artificial1: Conv2D</text>\n",
       "</g>\n",
       "<!-- 140084996940968&#45;&gt;140084995057760 -->\n",
       "<g class=\"edge\" id=\"edge3\"><title>140084996940968-&gt;140084995057760</title>\n",
       "<path d=\"M125.179,-1258.94C121.332,-1250.54 116.604,-1240.23 112.288,-1230.81\" fill=\"none\" stroke=\"black\"/>\n",
       "<polygon fill=\"black\" points=\"115.342,-1229.07 107.994,-1221.44 108.979,-1231.99 115.342,-1229.07\" stroke=\"black\"/>\n",
       "</g>\n",
       "<!-- 140084992956568 -->\n",
       "<g class=\"node\" id=\"node5\"><title>140084992956568</title>\n",
       "<polygon fill=\"none\" points=\"209,-1185 209,-1221 323,-1221 323,-1185 209,-1185\" stroke=\"black\"/>\n",
       "<text font-family=\"Times,serif\" font-size=\"14.00\" text-anchor=\"middle\" x=\"266\" y=\"-1199.3\">natural1: Conv2D</text>\n",
       "</g>\n",
       "<!-- 140084995368664&#45;&gt;140084992956568 -->\n",
       "<g class=\"edge\" id=\"edge4\"><title>140084995368664-&gt;140084992956568</title>\n",
       "<path d=\"M282.023,-1258.94C279.601,-1250.63 276.629,-1240.44 273.906,-1231.11\" fill=\"none\" stroke=\"black\"/>\n",
       "<polygon fill=\"black\" points=\"277.247,-1230.06 271.087,-1221.44 270.527,-1232.02 277.247,-1230.06\" stroke=\"black\"/>\n",
       "</g>\n",
       "<!-- 140084994727048 -->\n",
       "<g class=\"node\" id=\"node6\"><title>140084994727048</title>\n",
       "<polygon fill=\"none\" points=\"2.5,-1111 2.5,-1147 163.5,-1147 163.5,-1111 2.5,-1111\" stroke=\"black\"/>\n",
       "<text font-family=\"Times,serif\" font-size=\"14.00\" text-anchor=\"middle\" x=\"83\" y=\"-1125.3\">artificial2: MaxPooling2D</text>\n",
       "</g>\n",
       "<!-- 140084995057760&#45;&gt;140084994727048 -->\n",
       "<g class=\"edge\" id=\"edge5\"><title>140084995057760-&gt;140084994727048</title>\n",
       "<path d=\"M95.9712,-1184.94C94.0308,-1176.72 91.6558,-1166.66 89.4708,-1157.41\" fill=\"none\" stroke=\"black\"/>\n",
       "<polygon fill=\"black\" points=\"92.8223,-1156.37 87.1179,-1147.44 86.0096,-1157.98 92.8223,-1156.37\" stroke=\"black\"/>\n",
       "</g>\n",
       "<!-- 140084992743520 -->\n",
       "<g class=\"node\" id=\"node7\"><title>140084992743520</title>\n",
       "<polygon fill=\"none\" points=\"182,-1111 182,-1147 334,-1147 334,-1111 182,-1111\" stroke=\"black\"/>\n",
       "<text font-family=\"Times,serif\" font-size=\"14.00\" text-anchor=\"middle\" x=\"258\" y=\"-1125.3\">natural2: MaxPooling2D</text>\n",
       "</g>\n",
       "<!-- 140084992956568&#45;&gt;140084992743520 -->\n",
       "<g class=\"edge\" id=\"edge6\"><title>140084992956568-&gt;140084992743520</title>\n",
       "<path d=\"M264.104,-1184.94C263.191,-1176.72 262.073,-1166.66 261.045,-1157.41\" fill=\"none\" stroke=\"black\"/>\n",
       "<polygon fill=\"black\" points=\"264.521,-1156.99 259.938,-1147.44 257.564,-1157.77 264.521,-1156.99\" stroke=\"black\"/>\n",
       "</g>\n",
       "<!-- 140084994825296 -->\n",
       "<g class=\"node\" id=\"node8\"><title>140084994825296</title>\n",
       "<polygon fill=\"none\" points=\"22,-1037 22,-1073 144,-1073 144,-1037 22,-1037\" stroke=\"black\"/>\n",
       "<text font-family=\"Times,serif\" font-size=\"14.00\" text-anchor=\"middle\" x=\"83\" y=\"-1051.3\">artificial3: Dropout</text>\n",
       "</g>\n",
       "<!-- 140084994727048&#45;&gt;140084994825296 -->\n",
       "<g class=\"edge\" id=\"edge7\"><title>140084994727048-&gt;140084994825296</title>\n",
       "<path d=\"M83,-1110.94C83,-1102.81 83,-1092.88 83,-1083.7\" fill=\"none\" stroke=\"black\"/>\n",
       "<polygon fill=\"black\" points=\"86.5001,-1083.44 83,-1073.44 79.5001,-1083.44 86.5001,-1083.44\" stroke=\"black\"/>\n",
       "</g>\n",
       "<!-- 140084992400408 -->\n",
       "<g class=\"node\" id=\"node9\"><title>140084992400408</title>\n",
       "<polygon fill=\"none\" points=\"201.5,-1037 201.5,-1073 314.5,-1073 314.5,-1037 201.5,-1037\" stroke=\"black\"/>\n",
       "<text font-family=\"Times,serif\" font-size=\"14.00\" text-anchor=\"middle\" x=\"258\" y=\"-1051.3\">natural3: Dropout</text>\n",
       "</g>\n",
       "<!-- 140084992743520&#45;&gt;140084992400408 -->\n",
       "<g class=\"edge\" id=\"edge8\"><title>140084992743520-&gt;140084992400408</title>\n",
       "<path d=\"M258,-1110.94C258,-1102.81 258,-1092.88 258,-1083.7\" fill=\"none\" stroke=\"black\"/>\n",
       "<polygon fill=\"black\" points=\"261.5,-1083.44 258,-1073.44 254.5,-1083.44 261.5,-1083.44\" stroke=\"black\"/>\n",
       "</g>\n",
       "<!-- 140084994825968 -->\n",
       "<g class=\"node\" id=\"node10\"><title>140084994825968</title>\n",
       "<polygon fill=\"none\" points=\"22,-963 22,-999 144,-999 144,-963 22,-963\" stroke=\"black\"/>\n",
       "<text font-family=\"Times,serif\" font-size=\"14.00\" text-anchor=\"middle\" x=\"83\" y=\"-977.3\">artificial4: Conv2D</text>\n",
       "</g>\n",
       "<!-- 140084994825296&#45;&gt;140084994825968 -->\n",
       "<g class=\"edge\" id=\"edge9\"><title>140084994825296-&gt;140084994825968</title>\n",
       "<path d=\"M83,-1036.94C83,-1028.81 83,-1018.88 83,-1009.7\" fill=\"none\" stroke=\"black\"/>\n",
       "<polygon fill=\"black\" points=\"86.5001,-1009.44 83,-999.441 79.5001,-1009.44 86.5001,-1009.44\" stroke=\"black\"/>\n",
       "</g>\n",
       "<!-- 140084992399568 -->\n",
       "<g class=\"node\" id=\"node11\"><title>140084992399568</title>\n",
       "<polygon fill=\"none\" points=\"201,-963 201,-999 315,-999 315,-963 201,-963\" stroke=\"black\"/>\n",
       "<text font-family=\"Times,serif\" font-size=\"14.00\" text-anchor=\"middle\" x=\"258\" y=\"-977.3\">natural4: Conv2D</text>\n",
       "</g>\n",
       "<!-- 140084992400408&#45;&gt;140084992399568 -->\n",
       "<g class=\"edge\" id=\"edge10\"><title>140084992400408-&gt;140084992399568</title>\n",
       "<path d=\"M258,-1036.94C258,-1028.81 258,-1018.88 258,-1009.7\" fill=\"none\" stroke=\"black\"/>\n",
       "<polygon fill=\"black\" points=\"261.5,-1009.44 258,-999.441 254.5,-1009.44 261.5,-1009.44\" stroke=\"black\"/>\n",
       "</g>\n",
       "<!-- 140084994467152 -->\n",
       "<g class=\"node\" id=\"node14\"><title>140084994467152</title>\n",
       "<polygon fill=\"none\" points=\"22,-889 22,-925 144,-925 144,-889 22,-889\" stroke=\"black\"/>\n",
       "<text font-family=\"Times,serif\" font-size=\"14.00\" text-anchor=\"middle\" x=\"83\" y=\"-903.3\">artificial5: Conv2D</text>\n",
       "</g>\n",
       "<!-- 140084994825968&#45;&gt;140084994467152 -->\n",
       "<g class=\"edge\" id=\"edge13\"><title>140084994825968-&gt;140084994467152</title>\n",
       "<path d=\"M83,-962.937C83,-954.807 83,-944.876 83,-935.705\" fill=\"none\" stroke=\"black\"/>\n",
       "<polygon fill=\"black\" points=\"86.5001,-935.441 83,-925.441 79.5001,-935.441 86.5001,-935.441\" stroke=\"black\"/>\n",
       "</g>\n",
       "<!-- 140084992482496 -->\n",
       "<g class=\"node\" id=\"node15\"><title>140084992482496</title>\n",
       "<polygon fill=\"none\" points=\"201,-889 201,-925 315,-925 315,-889 201,-889\" stroke=\"black\"/>\n",
       "<text font-family=\"Times,serif\" font-size=\"14.00\" text-anchor=\"middle\" x=\"258\" y=\"-903.3\">natural5: Conv2D</text>\n",
       "</g>\n",
       "<!-- 140084992399568&#45;&gt;140084992482496 -->\n",
       "<g class=\"edge\" id=\"edge14\"><title>140084992399568-&gt;140084992482496</title>\n",
       "<path d=\"M258,-962.937C258,-954.807 258,-944.876 258,-935.705\" fill=\"none\" stroke=\"black\"/>\n",
       "<polygon fill=\"black\" points=\"261.5,-935.441 258,-925.441 254.5,-935.441 261.5,-935.441\" stroke=\"black\"/>\n",
       "</g>\n",
       "<!-- 140084998080440 -->\n",
       "<g class=\"node\" id=\"node16\"><title>140084998080440</title>\n",
       "<polygon fill=\"none\" points=\"352.5,-1111 352.5,-1147 453.5,-1147 453.5,-1111 352.5,-1111\" stroke=\"black\"/>\n",
       "<text font-family=\"Times,serif\" font-size=\"14.00\" text-anchor=\"middle\" x=\"403\" y=\"-1125.3\">base1: Conv2D</text>\n",
       "</g>\n",
       "<!-- 140084998079376&#45;&gt;140084998080440 -->\n",
       "<g class=\"edge\" id=\"edge15\"><title>140084998079376-&gt;140084998080440</title>\n",
       "<path d=\"M400.711,-1184.94C401.05,-1176.81 401.463,-1166.88 401.846,-1157.7\" fill=\"none\" stroke=\"black\"/>\n",
       "<polygon fill=\"black\" points=\"405.354,-1157.58 402.273,-1147.44 398.36,-1157.29 405.354,-1157.58\" stroke=\"black\"/>\n",
       "</g>\n",
       "<!-- 140084996725112 -->\n",
       "<g class=\"node\" id=\"node17\"><title>140084996725112</title>\n",
       "<polygon fill=\"none\" points=\"491,-1111 491,-1147 597,-1147 597,-1111 491,-1111\" stroke=\"black\"/>\n",
       "<text font-family=\"Times,serif\" font-size=\"14.00\" text-anchor=\"middle\" x=\"544\" y=\"-1125.3\">gate01: Conv2D</text>\n",
       "</g>\n",
       "<!-- 140084998079432&#45;&gt;140084996725112 -->\n",
       "<g class=\"edge\" id=\"edge16\"><title>140084998079432-&gt;140084996725112</title>\n",
       "<path d=\"M487.467,-1258.97C498.487,-1233.83 519.209,-1186.55 532.271,-1156.76\" fill=\"none\" stroke=\"black\"/>\n",
       "<polygon fill=\"black\" points=\"535.573,-1157.94 536.382,-1147.38 529.162,-1155.13 535.573,-1157.94\" stroke=\"black\"/>\n",
       "</g>\n",
       "<!-- 140084994571176 -->\n",
       "<g class=\"node\" id=\"node18\"><title>140084994571176</title>\n",
       "<polygon fill=\"none\" points=\"2.5,-815 2.5,-851 163.5,-851 163.5,-815 2.5,-815\" stroke=\"black\"/>\n",
       "<text font-family=\"Times,serif\" font-size=\"14.00\" text-anchor=\"middle\" x=\"83\" y=\"-829.3\">artificial6: MaxPooling2D</text>\n",
       "</g>\n",
       "<!-- 140084994467152&#45;&gt;140084994571176 -->\n",
       "<g class=\"edge\" id=\"edge17\"><title>140084994467152-&gt;140084994571176</title>\n",
       "<path d=\"M83,-888.937C83,-880.807 83,-870.876 83,-861.705\" fill=\"none\" stroke=\"black\"/>\n",
       "<polygon fill=\"black\" points=\"86.5001,-861.441 83,-851.441 79.5001,-861.441 86.5001,-861.441\" stroke=\"black\"/>\n",
       "</g>\n",
       "<!-- 140084992244928 -->\n",
       "<g class=\"node\" id=\"node19\"><title>140084992244928</title>\n",
       "<polygon fill=\"none\" points=\"182,-815 182,-851 334,-851 334,-815 182,-815\" stroke=\"black\"/>\n",
       "<text font-family=\"Times,serif\" font-size=\"14.00\" text-anchor=\"middle\" x=\"258\" y=\"-829.3\">natural6: MaxPooling2D</text>\n",
       "</g>\n",
       "<!-- 140084992482496&#45;&gt;140084992244928 -->\n",
       "<g class=\"edge\" id=\"edge18\"><title>140084992482496-&gt;140084992244928</title>\n",
       "<path d=\"M258,-888.937C258,-880.807 258,-870.876 258,-861.705\" fill=\"none\" stroke=\"black\"/>\n",
       "<polygon fill=\"black\" points=\"261.5,-861.441 258,-851.441 254.5,-861.441 261.5,-861.441\" stroke=\"black\"/>\n",
       "</g>\n",
       "<!-- 140084998080608 -->\n",
       "<g class=\"node\" id=\"node20\"><title>140084998080608</title>\n",
       "<polygon fill=\"none\" points=\"333.5,-1037 333.5,-1073 472.5,-1073 472.5,-1037 333.5,-1037\" stroke=\"black\"/>\n",
       "<text font-family=\"Times,serif\" font-size=\"14.00\" text-anchor=\"middle\" x=\"403\" y=\"-1051.3\">base2: MaxPooling2D</text>\n",
       "</g>\n",
       "<!-- 140084998080440&#45;&gt;140084998080608 -->\n",
       "<g class=\"edge\" id=\"edge19\"><title>140084998080440-&gt;140084998080608</title>\n",
       "<path d=\"M403,-1110.94C403,-1102.81 403,-1092.88 403,-1083.7\" fill=\"none\" stroke=\"black\"/>\n",
       "<polygon fill=\"black\" points=\"406.5,-1083.44 403,-1073.44 399.5,-1083.44 406.5,-1083.44\" stroke=\"black\"/>\n",
       "</g>\n",
       "<!-- 140084996287736 -->\n",
       "<g class=\"node\" id=\"node21\"><title>140084996287736</title>\n",
       "<polygon fill=\"none\" points=\"491,-1037 491,-1073 635,-1073 635,-1037 491,-1037\" stroke=\"black\"/>\n",
       "<text font-family=\"Times,serif\" font-size=\"14.00\" text-anchor=\"middle\" x=\"563\" y=\"-1051.3\">gate02: MaxPooling2D</text>\n",
       "</g>\n",
       "<!-- 140084996725112&#45;&gt;140084996287736 -->\n",
       "<g class=\"edge\" id=\"edge20\"><title>140084996725112-&gt;140084996287736</title>\n",
       "<path d=\"M548.503,-1110.94C550.671,-1102.72 553.326,-1092.66 555.768,-1083.41\" fill=\"none\" stroke=\"black\"/>\n",
       "<polygon fill=\"black\" points=\"559.23,-1084 558.398,-1073.44 552.462,-1082.22 559.23,-1084\" stroke=\"black\"/>\n",
       "</g>\n",
       "<!-- 140084994308528 -->\n",
       "<g class=\"node\" id=\"node22\"><title>140084994308528</title>\n",
       "<polygon fill=\"none\" points=\"22,-741 22,-777 144,-777 144,-741 22,-741\" stroke=\"black\"/>\n",
       "<text font-family=\"Times,serif\" font-size=\"14.00\" text-anchor=\"middle\" x=\"83\" y=\"-755.3\">artificial7: Dropout</text>\n",
       "</g>\n",
       "<!-- 140084994571176&#45;&gt;140084994308528 -->\n",
       "<g class=\"edge\" id=\"edge21\"><title>140084994571176-&gt;140084994308528</title>\n",
       "<path d=\"M83,-814.937C83,-806.807 83,-796.876 83,-787.705\" fill=\"none\" stroke=\"black\"/>\n",
       "<polygon fill=\"black\" points=\"86.5001,-787.441 83,-777.441 79.5001,-787.441 86.5001,-787.441\" stroke=\"black\"/>\n",
       "</g>\n",
       "<!-- 140084991891776 -->\n",
       "<g class=\"node\" id=\"node23\"><title>140084991891776</title>\n",
       "<polygon fill=\"none\" points=\"202.5,-741 202.5,-777 315.5,-777 315.5,-741 202.5,-741\" stroke=\"black\"/>\n",
       "<text font-family=\"Times,serif\" font-size=\"14.00\" text-anchor=\"middle\" x=\"259\" y=\"-755.3\">natural7: Dropout</text>\n",
       "</g>\n",
       "<!-- 140084992244928&#45;&gt;140084991891776 -->\n",
       "<g class=\"edge\" id=\"edge22\"><title>140084992244928-&gt;140084991891776</title>\n",
       "<path d=\"M258.237,-814.937C258.35,-806.807 258.488,-796.876 258.615,-787.705\" fill=\"none\" stroke=\"black\"/>\n",
       "<polygon fill=\"black\" points=\"262.118,-787.488 258.758,-777.441 255.119,-787.391 262.118,-787.488\" stroke=\"black\"/>\n",
       "</g>\n",
       "<!-- 140084997733120 -->\n",
       "<g class=\"node\" id=\"node24\"><title>140084997733120</title>\n",
       "<polygon fill=\"none\" points=\"353,-963 353,-999 453,-999 453,-963 353,-963\" stroke=\"black\"/>\n",
       "<text font-family=\"Times,serif\" font-size=\"14.00\" text-anchor=\"middle\" x=\"403\" y=\"-977.3\">base3: Dropout</text>\n",
       "</g>\n",
       "<!-- 140084998080608&#45;&gt;140084997733120 -->\n",
       "<g class=\"edge\" id=\"edge23\"><title>140084998080608-&gt;140084997733120</title>\n",
       "<path d=\"M403,-1036.94C403,-1028.81 403,-1018.88 403,-1009.7\" fill=\"none\" stroke=\"black\"/>\n",
       "<polygon fill=\"black\" points=\"406.5,-1009.44 403,-999.441 399.5,-1009.44 406.5,-1009.44\" stroke=\"black\"/>\n",
       "</g>\n",
       "<!-- 140084996369600 -->\n",
       "<g class=\"node\" id=\"node25\"><title>140084996369600</title>\n",
       "<polygon fill=\"none\" points=\"498.5,-963 498.5,-999 603.5,-999 603.5,-963 498.5,-963\" stroke=\"black\"/>\n",
       "<text font-family=\"Times,serif\" font-size=\"14.00\" text-anchor=\"middle\" x=\"551\" y=\"-977.3\">gate03: Dropout</text>\n",
       "</g>\n",
       "<!-- 140084996287736&#45;&gt;140084996369600 -->\n",
       "<g class=\"edge\" id=\"edge24\"><title>140084996287736-&gt;140084996369600</title>\n",
       "<path d=\"M560.156,-1036.94C558.786,-1028.72 557.11,-1018.66 555.568,-1009.41\" fill=\"none\" stroke=\"black\"/>\n",
       "<polygon fill=\"black\" points=\"559.003,-1008.73 553.907,-999.441 552.098,-1009.88 559.003,-1008.73\" stroke=\"black\"/>\n",
       "</g>\n",
       "<!-- 140084994309256 -->\n",
       "<g class=\"node\" id=\"node26\"><title>140084994309256</title>\n",
       "<polygon fill=\"none\" points=\"22,-667 22,-703 144,-703 144,-667 22,-667\" stroke=\"black\"/>\n",
       "<text font-family=\"Times,serif\" font-size=\"14.00\" text-anchor=\"middle\" x=\"83\" y=\"-681.3\">artificial8: Conv2D</text>\n",
       "</g>\n",
       "<!-- 140084994308528&#45;&gt;140084994309256 -->\n",
       "<g class=\"edge\" id=\"edge25\"><title>140084994308528-&gt;140084994309256</title>\n",
       "<path d=\"M83,-740.937C83,-732.807 83,-722.876 83,-713.705\" fill=\"none\" stroke=\"black\"/>\n",
       "<polygon fill=\"black\" points=\"86.5001,-713.441 83,-703.441 79.5001,-713.441 86.5001,-713.441\" stroke=\"black\"/>\n",
       "</g>\n",
       "<!-- 140084991890936 -->\n",
       "<g class=\"node\" id=\"node27\"><title>140084991890936</title>\n",
       "<polygon fill=\"none\" points=\"204,-667 204,-703 318,-703 318,-667 204,-667\" stroke=\"black\"/>\n",
       "<text font-family=\"Times,serif\" font-size=\"14.00\" text-anchor=\"middle\" x=\"261\" y=\"-681.3\">natural8: Conv2D</text>\n",
       "</g>\n",
       "<!-- 140084991891776&#45;&gt;140084991890936 -->\n",
       "<g class=\"edge\" id=\"edge26\"><title>140084991891776-&gt;140084991890936</title>\n",
       "<path d=\"M259.474,-740.937C259.7,-732.807 259.976,-722.876 260.23,-713.705\" fill=\"none\" stroke=\"black\"/>\n",
       "<polygon fill=\"black\" points=\"263.736,-713.534 260.516,-703.441 256.739,-713.34 263.736,-713.534\" stroke=\"black\"/>\n",
       "</g>\n",
       "<!-- 140084997733848 -->\n",
       "<g class=\"node\" id=\"node28\"><title>140084997733848</title>\n",
       "<polygon fill=\"none\" points=\"352.5,-889 352.5,-925 453.5,-925 453.5,-889 352.5,-889\" stroke=\"black\"/>\n",
       "<text font-family=\"Times,serif\" font-size=\"14.00\" text-anchor=\"middle\" x=\"403\" y=\"-903.3\">base4: Conv2D</text>\n",
       "</g>\n",
       "<!-- 140084997733120&#45;&gt;140084997733848 -->\n",
       "<g class=\"edge\" id=\"edge27\"><title>140084997733120-&gt;140084997733848</title>\n",
       "<path d=\"M403,-962.937C403,-954.807 403,-944.876 403,-935.705\" fill=\"none\" stroke=\"black\"/>\n",
       "<polygon fill=\"black\" points=\"406.5,-935.441 403,-925.441 399.5,-935.441 406.5,-935.441\" stroke=\"black\"/>\n",
       "</g>\n",
       "<!-- 140084996369488 -->\n",
       "<g class=\"node\" id=\"node29\"><title>140084996369488</title>\n",
       "<polygon fill=\"none\" points=\"482,-889 482,-925 588,-925 588,-889 482,-889\" stroke=\"black\"/>\n",
       "<text font-family=\"Times,serif\" font-size=\"14.00\" text-anchor=\"middle\" x=\"535\" y=\"-903.3\">gate04: Conv2D</text>\n",
       "</g>\n",
       "<!-- 140084996369600&#45;&gt;140084996369488 -->\n",
       "<g class=\"edge\" id=\"edge28\"><title>140084996369600-&gt;140084996369488</title>\n",
       "<path d=\"M547.208,-962.937C545.382,-954.719 543.147,-944.66 541.09,-935.406\" fill=\"none\" stroke=\"black\"/>\n",
       "<polygon fill=\"black\" points=\"544.462,-934.443 538.876,-925.441 537.628,-935.962 544.462,-934.443\" stroke=\"black\"/>\n",
       "</g>\n",
       "<!-- 140084994400040 -->\n",
       "<g class=\"node\" id=\"node30\"><title>140084994400040</title>\n",
       "<polygon fill=\"none\" points=\"22,-593 22,-629 144,-629 144,-593 22,-593\" stroke=\"black\"/>\n",
       "<text font-family=\"Times,serif\" font-size=\"14.00\" text-anchor=\"middle\" x=\"83\" y=\"-607.3\">artificial9: Conv2D</text>\n",
       "</g>\n",
       "<!-- 140084994309256&#45;&gt;140084994400040 -->\n",
       "<g class=\"edge\" id=\"edge29\"><title>140084994309256-&gt;140084994400040</title>\n",
       "<path d=\"M83,-666.937C83,-658.807 83,-648.876 83,-639.705\" fill=\"none\" stroke=\"black\"/>\n",
       "<polygon fill=\"black\" points=\"86.5001,-639.441 83,-629.441 79.5001,-639.441 86.5001,-639.441\" stroke=\"black\"/>\n",
       "</g>\n",
       "<!-- 140084991978016 -->\n",
       "<g class=\"node\" id=\"node31\"><title>140084991978016</title>\n",
       "<polygon fill=\"none\" points=\"205,-593 205,-629 319,-629 319,-593 205,-593\" stroke=\"black\"/>\n",
       "<text font-family=\"Times,serif\" font-size=\"14.00\" text-anchor=\"middle\" x=\"262\" y=\"-607.3\">natural9: Conv2D</text>\n",
       "</g>\n",
       "<!-- 140084991890936&#45;&gt;140084991978016 -->\n",
       "<g class=\"edge\" id=\"edge30\"><title>140084991890936-&gt;140084991978016</title>\n",
       "<path d=\"M261.237,-666.937C261.35,-658.807 261.488,-648.876 261.615,-639.705\" fill=\"none\" stroke=\"black\"/>\n",
       "<polygon fill=\"black\" points=\"265.118,-639.488 261.758,-629.441 258.119,-639.391 265.118,-639.488\" stroke=\"black\"/>\n",
       "</g>\n",
       "<!-- 140084998078872 -->\n",
       "<g class=\"node\" id=\"node32\"><title>140084998078872</title>\n",
       "<polygon fill=\"none\" points=\"352.5,-815 352.5,-851 453.5,-851 453.5,-815 352.5,-815\" stroke=\"black\"/>\n",
       "<text font-family=\"Times,serif\" font-size=\"14.00\" text-anchor=\"middle\" x=\"403\" y=\"-829.3\">base5: Conv2D</text>\n",
       "</g>\n",
       "<!-- 140084997733848&#45;&gt;140084998078872 -->\n",
       "<g class=\"edge\" id=\"edge31\"><title>140084997733848-&gt;140084998078872</title>\n",
       "<path d=\"M403,-888.937C403,-880.807 403,-870.876 403,-861.705\" fill=\"none\" stroke=\"black\"/>\n",
       "<polygon fill=\"black\" points=\"406.5,-861.441 403,-851.441 399.5,-861.441 406.5,-861.441\" stroke=\"black\"/>\n",
       "</g>\n",
       "<!-- 140084996023744 -->\n",
       "<g class=\"node\" id=\"node33\"><title>140084996023744</title>\n",
       "<polygon fill=\"none\" points=\"493,-815 493,-851 599,-851 599,-815 493,-815\" stroke=\"black\"/>\n",
       "<text font-family=\"Times,serif\" font-size=\"14.00\" text-anchor=\"middle\" x=\"546\" y=\"-829.3\">gate05: Conv2D</text>\n",
       "</g>\n",
       "<!-- 140084996369488&#45;&gt;140084996023744 -->\n",
       "<g class=\"edge\" id=\"edge32\"><title>140084996369488-&gt;140084996023744</title>\n",
       "<path d=\"M537.607,-888.937C538.862,-880.719 540.399,-870.66 541.813,-861.406\" fill=\"none\" stroke=\"black\"/>\n",
       "<polygon fill=\"black\" points=\"545.285,-861.855 543.335,-851.441 538.365,-860.797 545.285,-861.855\" stroke=\"black\"/>\n",
       "</g>\n",
       "<!-- 140084994050648 -->\n",
       "<g class=\"node\" id=\"node34\"><title>140084994050648</title>\n",
       "<polygon fill=\"none\" points=\"18.5,-519 18.5,-555 147.5,-555 147.5,-519 18.5,-519\" stroke=\"black\"/>\n",
       "<text font-family=\"Times,serif\" font-size=\"14.00\" text-anchor=\"middle\" x=\"83\" y=\"-533.3\">artificial10: Conv2D</text>\n",
       "</g>\n",
       "<!-- 140084994400040&#45;&gt;140084994050648 -->\n",
       "<g class=\"edge\" id=\"edge33\"><title>140084994400040-&gt;140084994050648</title>\n",
       "<path d=\"M83,-592.937C83,-584.807 83,-574.876 83,-565.705\" fill=\"none\" stroke=\"black\"/>\n",
       "<polygon fill=\"black\" points=\"86.5001,-565.441 83,-555.441 79.5001,-565.441 86.5001,-565.441\" stroke=\"black\"/>\n",
       "</g>\n",
       "<!-- 140084991725240 -->\n",
       "<g class=\"node\" id=\"node35\"><title>140084991725240</title>\n",
       "<polygon fill=\"none\" points=\"202.5,-519 202.5,-555 323.5,-555 323.5,-519 202.5,-519\" stroke=\"black\"/>\n",
       "<text font-family=\"Times,serif\" font-size=\"14.00\" text-anchor=\"middle\" x=\"263\" y=\"-533.3\">natural10: Conv2D</text>\n",
       "</g>\n",
       "<!-- 140084991978016&#45;&gt;140084991725240 -->\n",
       "<g class=\"edge\" id=\"edge34\"><title>140084991978016-&gt;140084991725240</title>\n",
       "<path d=\"M262.237,-592.937C262.35,-584.807 262.488,-574.876 262.615,-565.705\" fill=\"none\" stroke=\"black\"/>\n",
       "<polygon fill=\"black\" points=\"266.118,-565.488 262.758,-555.441 259.119,-565.391 266.118,-565.488\" stroke=\"black\"/>\n",
       "</g>\n",
       "<!-- 140084997373904 -->\n",
       "<g class=\"node\" id=\"node36\"><title>140084997373904</title>\n",
       "<polygon fill=\"none\" points=\"333.5,-741 333.5,-777 472.5,-777 472.5,-741 333.5,-741\" stroke=\"black\"/>\n",
       "<text font-family=\"Times,serif\" font-size=\"14.00\" text-anchor=\"middle\" x=\"403\" y=\"-755.3\">base6: MaxPooling2D</text>\n",
       "</g>\n",
       "<!-- 140084998078872&#45;&gt;140084997373904 -->\n",
       "<g class=\"edge\" id=\"edge35\"><title>140084998078872-&gt;140084997373904</title>\n",
       "<path d=\"M403,-814.937C403,-806.807 403,-796.876 403,-787.705\" fill=\"none\" stroke=\"black\"/>\n",
       "<polygon fill=\"black\" points=\"406.5,-787.441 403,-777.441 399.5,-787.441 406.5,-787.441\" stroke=\"black\"/>\n",
       "</g>\n",
       "<!-- 140084996119576 -->\n",
       "<g class=\"node\" id=\"node37\"><title>140084996119576</title>\n",
       "<polygon fill=\"none\" points=\"491,-741 491,-777 635,-777 635,-741 491,-741\" stroke=\"black\"/>\n",
       "<text font-family=\"Times,serif\" font-size=\"14.00\" text-anchor=\"middle\" x=\"563\" y=\"-755.3\">gate06: MaxPooling2D</text>\n",
       "</g>\n",
       "<!-- 140084996023744&#45;&gt;140084996119576 -->\n",
       "<g class=\"edge\" id=\"edge36\"><title>140084996023744-&gt;140084996119576</title>\n",
       "<path d=\"M550.029,-814.937C551.969,-806.719 554.344,-796.66 556.529,-787.406\" fill=\"none\" stroke=\"black\"/>\n",
       "<polygon fill=\"black\" points=\"559.99,-787.977 558.882,-777.441 553.178,-786.369 559.99,-787.977\" stroke=\"black\"/>\n",
       "</g>\n",
       "<!-- 140084993787440 -->\n",
       "<g class=\"node\" id=\"node38\"><title>140084993787440</title>\n",
       "<polygon fill=\"none\" points=\"-0.5,-445 -0.5,-481 166.5,-481 166.5,-445 -0.5,-445\" stroke=\"black\"/>\n",
       "<text font-family=\"Times,serif\" font-size=\"14.00\" text-anchor=\"middle\" x=\"83\" y=\"-459.3\">artificial11: MaxPooling2D</text>\n",
       "</g>\n",
       "<!-- 140084994050648&#45;&gt;140084993787440 -->\n",
       "<g class=\"edge\" id=\"edge37\"><title>140084994050648-&gt;140084993787440</title>\n",
       "<path d=\"M83,-518.937C83,-510.807 83,-500.876 83,-491.705\" fill=\"none\" stroke=\"black\"/>\n",
       "<polygon fill=\"black\" points=\"86.5001,-491.441 83,-481.441 79.5001,-491.441 86.5001,-491.441\" stroke=\"black\"/>\n",
       "</g>\n",
       "<!-- 140084991384936 -->\n",
       "<g class=\"node\" id=\"node39\"><title>140084991384936</title>\n",
       "<polygon fill=\"none\" points=\"184.5,-445 184.5,-481 343.5,-481 343.5,-445 184.5,-445\" stroke=\"black\"/>\n",
       "<text font-family=\"Times,serif\" font-size=\"14.00\" text-anchor=\"middle\" x=\"264\" y=\"-459.3\">natural11: MaxPooling2D</text>\n",
       "</g>\n",
       "<!-- 140084991725240&#45;&gt;140084991384936 -->\n",
       "<g class=\"edge\" id=\"edge38\"><title>140084991725240-&gt;140084991384936</title>\n",
       "<path d=\"M263.237,-518.937C263.35,-510.807 263.488,-500.876 263.615,-491.705\" fill=\"none\" stroke=\"black\"/>\n",
       "<polygon fill=\"black\" points=\"267.118,-491.488 263.758,-481.441 260.119,-491.391 267.118,-491.488\" stroke=\"black\"/>\n",
       "</g>\n",
       "<!-- 140084997506832 -->\n",
       "<g class=\"node\" id=\"node40\"><title>140084997506832</title>\n",
       "<polygon fill=\"none\" points=\"355,-667 355,-703 455,-703 455,-667 355,-667\" stroke=\"black\"/>\n",
       "<text font-family=\"Times,serif\" font-size=\"14.00\" text-anchor=\"middle\" x=\"405\" y=\"-681.3\">base7: Dropout</text>\n",
       "</g>\n",
       "<!-- 140084997373904&#45;&gt;140084997506832 -->\n",
       "<g class=\"edge\" id=\"edge39\"><title>140084997373904-&gt;140084997506832</title>\n",
       "<path d=\"M403.474,-740.937C403.7,-732.807 403.976,-722.876 404.23,-713.705\" fill=\"none\" stroke=\"black\"/>\n",
       "<polygon fill=\"black\" points=\"407.736,-713.534 404.516,-703.441 400.739,-713.34 407.736,-713.534\" stroke=\"black\"/>\n",
       "</g>\n",
       "<!-- 140084995861024 -->\n",
       "<g class=\"node\" id=\"node41\"><title>140084995861024</title>\n",
       "<polygon fill=\"none\" points=\"510.5,-667 510.5,-703 615.5,-703 615.5,-667 510.5,-667\" stroke=\"black\"/>\n",
       "<text font-family=\"Times,serif\" font-size=\"14.00\" text-anchor=\"middle\" x=\"563\" y=\"-681.3\">gate07: Dropout</text>\n",
       "</g>\n",
       "<!-- 140084996119576&#45;&gt;140084995861024 -->\n",
       "<g class=\"edge\" id=\"edge40\"><title>140084996119576-&gt;140084995861024</title>\n",
       "<path d=\"M563,-740.937C563,-732.807 563,-722.876 563,-713.705\" fill=\"none\" stroke=\"black\"/>\n",
       "<polygon fill=\"black\" points=\"566.5,-713.441 563,-703.441 559.5,-713.441 566.5,-713.441\" stroke=\"black\"/>\n",
       "</g>\n",
       "<!-- 140084993440176 -->\n",
       "<g class=\"node\" id=\"node42\"><title>140084993440176</title>\n",
       "<polygon fill=\"none\" points=\"22,-371 22,-407 150,-407 150,-371 22,-371\" stroke=\"black\"/>\n",
       "<text font-family=\"Times,serif\" font-size=\"14.00\" text-anchor=\"middle\" x=\"86\" y=\"-385.3\">artificial12: Dropout</text>\n",
       "</g>\n",
       "<!-- 140084993787440&#45;&gt;140084993440176 -->\n",
       "<g class=\"edge\" id=\"edge41\"><title>140084993787440-&gt;140084993440176</title>\n",
       "<path d=\"M83.711,-444.937C84.0497,-436.807 84.4635,-426.876 84.8456,-417.705\" fill=\"none\" stroke=\"black\"/>\n",
       "<polygon fill=\"black\" points=\"88.3539,-417.578 85.2733,-407.441 81.3599,-417.286 88.3539,-417.578\" stroke=\"black\"/>\n",
       "</g>\n",
       "<!-- 140084991037736 -->\n",
       "<g class=\"node\" id=\"node43\"><title>140084991037736</title>\n",
       "<polygon fill=\"none\" points=\"204,-371 204,-407 324,-407 324,-371 204,-371\" stroke=\"black\"/>\n",
       "<text font-family=\"Times,serif\" font-size=\"14.00\" text-anchor=\"middle\" x=\"264\" y=\"-385.3\">natural12: Dropout</text>\n",
       "</g>\n",
       "<!-- 140084991384936&#45;&gt;140084991037736 -->\n",
       "<g class=\"edge\" id=\"edge42\"><title>140084991384936-&gt;140084991037736</title>\n",
       "<path d=\"M264,-444.937C264,-436.807 264,-426.876 264,-417.705\" fill=\"none\" stroke=\"black\"/>\n",
       "<polygon fill=\"black\" points=\"267.5,-417.441 264,-407.441 260.5,-417.441 267.5,-417.441\" stroke=\"black\"/>\n",
       "</g>\n",
       "<!-- 140084997507560 -->\n",
       "<g class=\"node\" id=\"node46\"><title>140084997507560</title>\n",
       "<polygon fill=\"none\" points=\"363,-593 363,-629 455,-629 455,-593 363,-593\" stroke=\"black\"/>\n",
       "<text font-family=\"Times,serif\" font-size=\"14.00\" text-anchor=\"middle\" x=\"409\" y=\"-607.3\">base8: Flatten</text>\n",
       "</g>\n",
       "<!-- 140084997506832&#45;&gt;140084997507560 -->\n",
       "<g class=\"edge\" id=\"edge45\"><title>140084997506832-&gt;140084997507560</title>\n",
       "<path d=\"M405.948,-666.937C406.4,-658.807 406.951,-648.876 407.461,-639.705\" fill=\"none\" stroke=\"black\"/>\n",
       "<polygon fill=\"black\" points=\"410.971,-639.619 408.031,-629.441 403.982,-639.231 410.971,-639.619\" stroke=\"black\"/>\n",
       "</g>\n",
       "<!-- 140084995861752 -->\n",
       "<g class=\"node\" id=\"node47\"><title>140084995861752</title>\n",
       "<polygon fill=\"none\" points=\"514,-593 514,-629 612,-629 612,-593 514,-593\" stroke=\"black\"/>\n",
       "<text font-family=\"Times,serif\" font-size=\"14.00\" text-anchor=\"middle\" x=\"563\" y=\"-607.3\">gate08: Flatten</text>\n",
       "</g>\n",
       "<!-- 140084995861024&#45;&gt;140084995861752 -->\n",
       "<g class=\"edge\" id=\"edge46\"><title>140084995861024-&gt;140084995861752</title>\n",
       "<path d=\"M563,-666.937C563,-658.807 563,-648.876 563,-639.705\" fill=\"none\" stroke=\"black\"/>\n",
       "<polygon fill=\"black\" points=\"566.5,-639.441 563,-629.441 559.5,-639.441 566.5,-639.441\" stroke=\"black\"/>\n",
       "</g>\n",
       "<!-- 140084993439336 -->\n",
       "<g class=\"node\" id=\"node48\"><title>140084993439336</title>\n",
       "<polygon fill=\"none\" points=\"44.5,-297 44.5,-333 165.5,-333 165.5,-297 44.5,-297\" stroke=\"black\"/>\n",
       "<text font-family=\"Times,serif\" font-size=\"14.00\" text-anchor=\"middle\" x=\"105\" y=\"-311.3\">artificial13: Flatten</text>\n",
       "</g>\n",
       "<!-- 140084993440176&#45;&gt;140084993439336 -->\n",
       "<g class=\"edge\" id=\"edge47\"><title>140084993440176-&gt;140084993439336</title>\n",
       "<path d=\"M90.5027,-370.937C92.6714,-362.719 95.3258,-352.66 97.7679,-343.406\" fill=\"none\" stroke=\"black\"/>\n",
       "<polygon fill=\"black\" points=\"101.23,-344.003 100.398,-333.441 94.4618,-342.217 101.23,-344.003\" stroke=\"black\"/>\n",
       "</g>\n",
       "<!-- 140084991038296 -->\n",
       "<g class=\"node\" id=\"node49\"><title>140084991038296</title>\n",
       "<polygon fill=\"none\" points=\"207.5,-297 207.5,-333 320.5,-333 320.5,-297 207.5,-297\" stroke=\"black\"/>\n",
       "<text font-family=\"Times,serif\" font-size=\"14.00\" text-anchor=\"middle\" x=\"264\" y=\"-311.3\">natural13: Flatten</text>\n",
       "</g>\n",
       "<!-- 140084991037736&#45;&gt;140084991038296 -->\n",
       "<g class=\"edge\" id=\"edge48\"><title>140084991037736-&gt;140084991038296</title>\n",
       "<path d=\"M264,-370.937C264,-362.807 264,-352.876 264,-343.705\" fill=\"none\" stroke=\"black\"/>\n",
       "<polygon fill=\"black\" points=\"267.5,-343.441 264,-333.441 260.5,-343.441 267.5,-343.441\" stroke=\"black\"/>\n",
       "</g>\n",
       "<!-- 140085169416400 -->\n",
       "<g class=\"node\" id=\"node50\"><title>140085169416400</title>\n",
       "<polygon fill=\"none\" points=\"552,-1185 552,-1221 692,-1221 692,-1185 552,-1185\" stroke=\"black\"/>\n",
       "<text font-family=\"Times,serif\" font-size=\"14.00\" text-anchor=\"middle\" x=\"622\" y=\"-1199.3\">artExpertGate1: Dense</text>\n",
       "</g>\n",
       "<!-- 140085169543376&#45;&gt;140085169416400 -->\n",
       "<g class=\"edge\" id=\"edge49\"><title>140085169543376-&gt;140085169416400</title>\n",
       "<path d=\"M622.763,-1258.94C622.65,-1250.81 622.512,-1240.88 622.385,-1231.7\" fill=\"none\" stroke=\"black\"/>\n",
       "<polygon fill=\"black\" points=\"625.881,-1231.39 622.242,-1221.44 618.882,-1231.49 625.881,-1231.39\" stroke=\"black\"/>\n",
       "</g>\n",
       "<!-- 140085163669040 -->\n",
       "<g class=\"node\" id=\"node51\"><title>140085163669040</title>\n",
       "<polygon fill=\"none\" points=\"711,-1111 711,-1147 871,-1147 871,-1111 711,-1111\" stroke=\"black\"/>\n",
       "<text font-family=\"Times,serif\" font-size=\"14.00\" text-anchor=\"middle\" x=\"791\" y=\"-1125.3\">natureExpertGate1: Dense</text>\n",
       "</g>\n",
       "<!-- 140085169543432&#45;&gt;140085163669040 -->\n",
       "<g class=\"edge\" id=\"edge50\"><title>140085169543432-&gt;140085163669040</title>\n",
       "<path d=\"M791.763,-1184.94C791.65,-1176.81 791.512,-1166.88 791.385,-1157.7\" fill=\"none\" stroke=\"black\"/>\n",
       "<polygon fill=\"black\" points=\"794.881,-1157.39 791.242,-1147.44 787.882,-1157.49 794.881,-1157.39\" stroke=\"black\"/>\n",
       "</g>\n",
       "<!-- 140084997576744 -->\n",
       "<g class=\"node\" id=\"node52\"><title>140084997576744</title>\n",
       "<polygon fill=\"none\" points=\"380.5,-519 380.5,-555 469.5,-555 469.5,-519 380.5,-519\" stroke=\"black\"/>\n",
       "<text font-family=\"Times,serif\" font-size=\"14.00\" text-anchor=\"middle\" x=\"425\" y=\"-533.3\">base9: Dense</text>\n",
       "</g>\n",
       "<!-- 140084997507560&#45;&gt;140084997576744 -->\n",
       "<g class=\"edge\" id=\"edge51\"><title>140084997507560-&gt;140084997576744</title>\n",
       "<path d=\"M412.792,-592.937C414.618,-584.719 416.853,-574.66 418.91,-565.406\" fill=\"none\" stroke=\"black\"/>\n",
       "<polygon fill=\"black\" points=\"422.372,-565.962 421.124,-555.441 415.538,-564.443 422.372,-565.962\" stroke=\"black\"/>\n",
       "</g>\n",
       "<!-- 140084995951864 -->\n",
       "<g class=\"node\" id=\"node53\"><title>140084995951864</title>\n",
       "<polygon fill=\"none\" points=\"516,-519 516,-555 610,-555 610,-519 516,-519\" stroke=\"black\"/>\n",
       "<text font-family=\"Times,serif\" font-size=\"14.00\" text-anchor=\"middle\" x=\"563\" y=\"-533.3\">gate09: Dense</text>\n",
       "</g>\n",
       "<!-- 140084995861752&#45;&gt;140084995951864 -->\n",
       "<g class=\"edge\" id=\"edge52\"><title>140084995861752-&gt;140084995951864</title>\n",
       "<path d=\"M563,-592.937C563,-584.807 563,-574.876 563,-565.705\" fill=\"none\" stroke=\"black\"/>\n",
       "<polygon fill=\"black\" points=\"566.5,-565.441 563,-555.441 559.5,-565.441 566.5,-565.441\" stroke=\"black\"/>\n",
       "</g>\n",
       "<!-- 140084993525352 -->\n",
       "<g class=\"node\" id=\"node54\"><title>140084993525352</title>\n",
       "<polygon fill=\"none\" points=\"56.5,-223 56.5,-259 173.5,-259 173.5,-223 56.5,-223\" stroke=\"black\"/>\n",
       "<text font-family=\"Times,serif\" font-size=\"14.00\" text-anchor=\"middle\" x=\"115\" y=\"-237.3\">artificial14: Dense</text>\n",
       "</g>\n",
       "<!-- 140084993439336&#45;&gt;140084993525352 -->\n",
       "<g class=\"edge\" id=\"edge53\"><title>140084993439336-&gt;140084993525352</title>\n",
       "<path d=\"M107.37,-296.937C108.511,-288.719 109.908,-278.66 111.194,-269.406\" fill=\"none\" stroke=\"black\"/>\n",
       "<polygon fill=\"black\" points=\"114.669,-269.827 112.578,-259.441 107.735,-268.864 114.669,-269.827\" stroke=\"black\"/>\n",
       "</g>\n",
       "<!-- 140084991041208 -->\n",
       "<g class=\"node\" id=\"node55\"><title>140084991041208</title>\n",
       "<polygon fill=\"none\" points=\"209.5,-223 209.5,-259 318.5,-259 318.5,-223 209.5,-223\" stroke=\"black\"/>\n",
       "<text font-family=\"Times,serif\" font-size=\"14.00\" text-anchor=\"middle\" x=\"264\" y=\"-237.3\">natural14: Dense</text>\n",
       "</g>\n",
       "<!-- 140084991038296&#45;&gt;140084991041208 -->\n",
       "<g class=\"edge\" id=\"edge54\"><title>140084991038296-&gt;140084991041208</title>\n",
       "<path d=\"M264,-296.937C264,-288.807 264,-278.876 264,-269.705\" fill=\"none\" stroke=\"black\"/>\n",
       "<polygon fill=\"black\" points=\"267.5,-269.441 264,-259.441 260.5,-269.441 267.5,-269.441\" stroke=\"black\"/>\n",
       "</g>\n",
       "<!-- 140085166658280 -->\n",
       "<g class=\"node\" id=\"node56\"><title>140085166658280</title>\n",
       "<polygon fill=\"none\" points=\"606,-889 606,-925 758,-925 758,-889 606,-889\" stroke=\"black\"/>\n",
       "<text font-family=\"Times,serif\" font-size=\"14.00\" text-anchor=\"middle\" x=\"682\" y=\"-903.3\">artExpertGate2: Dropout</text>\n",
       "</g>\n",
       "<!-- 140085169416400&#45;&gt;140085166658280 -->\n",
       "<g class=\"edge\" id=\"edge55\"><title>140085169416400-&gt;140085166658280</title>\n",
       "<path d=\"M625.485,-1184.92C635.489,-1135.9 664.354,-994.467 676.505,-934.926\" fill=\"none\" stroke=\"black\"/>\n",
       "<polygon fill=\"black\" points=\"679.935,-935.623 678.505,-925.125 673.076,-934.223 679.935,-935.623\" stroke=\"black\"/>\n",
       "</g>\n",
       "<!-- 140085163603784 -->\n",
       "<g class=\"node\" id=\"node57\"><title>140085163603784</title>\n",
       "<polygon fill=\"none\" points=\"705.5,-1037 705.5,-1073 876.5,-1073 876.5,-1037 705.5,-1037\" stroke=\"black\"/>\n",
       "<text font-family=\"Times,serif\" font-size=\"14.00\" text-anchor=\"middle\" x=\"791\" y=\"-1051.3\">natureExpertGate2: Dropout</text>\n",
       "</g>\n",
       "<!-- 140085163669040&#45;&gt;140085163603784 -->\n",
       "<g class=\"edge\" id=\"edge56\"><title>140085163669040-&gt;140085163603784</title>\n",
       "<path d=\"M791,-1110.94C791,-1102.81 791,-1092.88 791,-1083.7\" fill=\"none\" stroke=\"black\"/>\n",
       "<polygon fill=\"black\" points=\"794.5,-1083.44 791,-1073.44 787.5,-1083.44 794.5,-1083.44\" stroke=\"black\"/>\n",
       "</g>\n",
       "<!-- 140084997283232 -->\n",
       "<g class=\"node\" id=\"node58\"><title>140084997283232</title>\n",
       "<polygon fill=\"none\" points=\"379.5,-445 379.5,-481 486.5,-481 486.5,-445 379.5,-445\" stroke=\"black\"/>\n",
       "<text font-family=\"Times,serif\" font-size=\"14.00\" text-anchor=\"middle\" x=\"433\" y=\"-459.3\">base10: Dropout</text>\n",
       "</g>\n",
       "<!-- 140084997576744&#45;&gt;140084997283232 -->\n",
       "<g class=\"edge\" id=\"edge57\"><title>140084997576744-&gt;140084997283232</title>\n",
       "<path d=\"M426.896,-518.937C427.809,-510.719 428.927,-500.66 429.955,-491.406\" fill=\"none\" stroke=\"black\"/>\n",
       "<polygon fill=\"black\" points=\"433.436,-491.766 431.062,-481.441 426.479,-490.993 433.436,-491.766\" stroke=\"black\"/>\n",
       "</g>\n",
       "<!-- 140084995714128 -->\n",
       "<g class=\"node\" id=\"node59\"><title>140084995714128</title>\n",
       "<polygon fill=\"none\" points=\"507,-445 507,-481 619,-481 619,-445 507,-445\" stroke=\"black\"/>\n",
       "<text font-family=\"Times,serif\" font-size=\"14.00\" text-anchor=\"middle\" x=\"563\" y=\"-459.3\">gate010: Dropout</text>\n",
       "</g>\n",
       "<!-- 140084995951864&#45;&gt;140084995714128 -->\n",
       "<g class=\"edge\" id=\"edge58\"><title>140084995951864-&gt;140084995714128</title>\n",
       "<path d=\"M563,-518.937C563,-510.807 563,-500.876 563,-491.705\" fill=\"none\" stroke=\"black\"/>\n",
       "<polygon fill=\"black\" points=\"566.5,-491.441 563,-481.441 559.5,-491.441 566.5,-491.441\" stroke=\"black\"/>\n",
       "</g>\n",
       "<!-- 140084993276336 -->\n",
       "<g class=\"node\" id=\"node60\"><title>140084993276336</title>\n",
       "<polygon fill=\"none\" points=\"56,-149 56,-185 184,-185 184,-149 56,-149\" stroke=\"black\"/>\n",
       "<text font-family=\"Times,serif\" font-size=\"14.00\" text-anchor=\"middle\" x=\"120\" y=\"-163.3\">artificial15: Dropout</text>\n",
       "</g>\n",
       "<!-- 140084993525352&#45;&gt;140084993276336 -->\n",
       "<g class=\"edge\" id=\"edge59\"><title>140084993525352-&gt;140084993276336</title>\n",
       "<path d=\"M116.185,-222.937C116.75,-214.807 117.439,-204.876 118.076,-195.705\" fill=\"none\" stroke=\"black\"/>\n",
       "<polygon fill=\"black\" points=\"121.588,-195.659 118.789,-185.441 114.604,-195.174 121.588,-195.659\" stroke=\"black\"/>\n",
       "</g>\n",
       "<!-- 140084990791576 -->\n",
       "<g class=\"node\" id=\"node61\"><title>140084990791576</title>\n",
       "<polygon fill=\"none\" points=\"204,-149 204,-185 324,-185 324,-149 204,-149\" stroke=\"black\"/>\n",
       "<text font-family=\"Times,serif\" font-size=\"14.00\" text-anchor=\"middle\" x=\"264\" y=\"-163.3\">natural15: Dropout</text>\n",
       "</g>\n",
       "<!-- 140084991041208&#45;&gt;140084990791576 -->\n",
       "<g class=\"edge\" id=\"edge60\"><title>140084991041208-&gt;140084990791576</title>\n",
       "<path d=\"M264,-222.937C264,-214.807 264,-204.876 264,-195.705\" fill=\"none\" stroke=\"black\"/>\n",
       "<polygon fill=\"black\" points=\"267.5,-195.441 264,-185.441 260.5,-195.441 267.5,-195.441\" stroke=\"black\"/>\n",
       "</g>\n",
       "<!-- 140085169414384 -->\n",
       "<g class=\"node\" id=\"node62\"><title>140085169414384</title>\n",
       "<polygon fill=\"none\" points=\"606,-371 606,-407 746,-407 746,-371 606,-371\" stroke=\"black\"/>\n",
       "<text font-family=\"Times,serif\" font-size=\"14.00\" text-anchor=\"middle\" x=\"676\" y=\"-385.3\">artExpertGate3: Dense</text>\n",
       "</g>\n",
       "<!-- 140085166658280&#45;&gt;140085169414384 -->\n",
       "<g class=\"edge\" id=\"edge61\"><title>140085166658280-&gt;140085169414384</title>\n",
       "<path d=\"M681.036,-888.924C679.583,-861.674 677,-806.666 677,-760 677,-760 677,-760 677,-536 677,-494.643 676.594,-446.699 676.299,-417.362\" fill=\"none\" stroke=\"black\"/>\n",
       "<polygon fill=\"black\" points=\"679.796,-417.046 676.193,-407.082 672.797,-417.118 679.796,-417.046\" stroke=\"black\"/>\n",
       "</g>\n",
       "<!-- 140085163605184 -->\n",
       "<g class=\"node\" id=\"node63\"><title>140085163605184</title>\n",
       "<polygon fill=\"none\" points=\"704,-297 704,-333 864,-333 864,-297 704,-297\" stroke=\"black\"/>\n",
       "<text font-family=\"Times,serif\" font-size=\"14.00\" text-anchor=\"middle\" x=\"784\" y=\"-311.3\">natureExpertGate3: Dense</text>\n",
       "</g>\n",
       "<!-- 140085163603784&#45;&gt;140085163605184 -->\n",
       "<g class=\"edge\" id=\"edge62\"><title>140085163603784-&gt;140085163605184</title>\n",
       "<path d=\"M790.422,-1036.92C789.55,-1009.66 788,-954.649 788,-908 788,-908 788,-908 788,-462 788,-420.629 786.375,-372.688 785.197,-343.357\" fill=\"none\" stroke=\"black\"/>\n",
       "<polygon fill=\"black\" points=\"788.682,-342.925 784.771,-333.078 781.688,-343.215 788.682,-342.925\" stroke=\"black\"/>\n",
       "</g>\n",
       "<!-- 140084997281832 -->\n",
       "<g class=\"node\" id=\"node64\"><title>140084997281832</title>\n",
       "<polygon fill=\"none\" points=\"411.5,-371 411.5,-407 506.5,-407 506.5,-371 411.5,-371\" stroke=\"black\"/>\n",
       "<text font-family=\"Times,serif\" font-size=\"14.00\" text-anchor=\"middle\" x=\"459\" y=\"-385.3\">base11: Dense</text>\n",
       "</g>\n",
       "<!-- 140084997283232&#45;&gt;140084997281832 -->\n",
       "<g class=\"edge\" id=\"edge63\"><title>140084997283232-&gt;140084997281832</title>\n",
       "<path d=\"M439.162,-444.937C442.161,-436.63 445.84,-426.444 449.211,-417.108\" fill=\"none\" stroke=\"black\"/>\n",
       "<polygon fill=\"black\" points=\"452.597,-418.035 452.702,-407.441 446.014,-415.657 452.597,-418.035\" stroke=\"black\"/>\n",
       "</g>\n",
       "<!-- 140084995713680 -->\n",
       "<g class=\"node\" id=\"node65\"><title>140084995713680</title>\n",
       "<polygon fill=\"none\" points=\"512.5,-297 512.5,-333 613.5,-333 613.5,-297 512.5,-297\" stroke=\"black\"/>\n",
       "<text font-family=\"Times,serif\" font-size=\"14.00\" text-anchor=\"middle\" x=\"563\" y=\"-311.3\">gate011: Dense</text>\n",
       "</g>\n",
       "<!-- 140084995714128&#45;&gt;140084995713680 -->\n",
       "<g class=\"edge\" id=\"edge64\"><title>140084995714128-&gt;140084995713680</title>\n",
       "<path d=\"M563,-444.966C563,-420.045 563,-373.374 563,-343.537\" fill=\"none\" stroke=\"black\"/>\n",
       "<polygon fill=\"black\" points=\"566.5,-343.378 563,-333.378 559.5,-343.378 566.5,-343.378\" stroke=\"black\"/>\n",
       "</g>\n",
       "<!-- 140084993274936 -->\n",
       "<g class=\"node\" id=\"node66\"><title>140084993274936</title>\n",
       "<polygon fill=\"none\" points=\"68.5,-75 68.5,-111 185.5,-111 185.5,-75 68.5,-75\" stroke=\"black\"/>\n",
       "<text font-family=\"Times,serif\" font-size=\"14.00\" text-anchor=\"middle\" x=\"127\" y=\"-89.3\">artificial16: Dense</text>\n",
       "</g>\n",
       "<!-- 140084993276336&#45;&gt;140084993274936 -->\n",
       "<g class=\"edge\" id=\"edge65\"><title>140084993276336-&gt;140084993274936</title>\n",
       "<path d=\"M121.659,-148.937C122.458,-140.719 123.436,-130.66 124.336,-121.406\" fill=\"none\" stroke=\"black\"/>\n",
       "<polygon fill=\"black\" points=\"127.82,-121.732 125.304,-111.441 120.853,-121.055 127.82,-121.732\" stroke=\"black\"/>\n",
       "</g>\n",
       "<!-- 140084990790904 -->\n",
       "<g class=\"node\" id=\"node67\"><title>140084990790904</title>\n",
       "<polygon fill=\"none\" points=\"209.5,-75 209.5,-111 318.5,-111 318.5,-75 209.5,-75\" stroke=\"black\"/>\n",
       "<text font-family=\"Times,serif\" font-size=\"14.00\" text-anchor=\"middle\" x=\"264\" y=\"-89.3\">natural16: Dense</text>\n",
       "</g>\n",
       "<!-- 140084990791576&#45;&gt;140084990790904 -->\n",
       "<g class=\"edge\" id=\"edge66\"><title>140084990791576-&gt;140084990790904</title>\n",
       "<path d=\"M264,-148.937C264,-140.807 264,-130.876 264,-121.705\" fill=\"none\" stroke=\"black\"/>\n",
       "<polygon fill=\"black\" points=\"267.5,-121.441 264,-111.441 260.5,-121.441 267.5,-121.441\" stroke=\"black\"/>\n",
       "</g>\n",
       "<!-- 140085160834944 -->\n",
       "<g class=\"node\" id=\"node68\"><title>140085160834944</title>\n",
       "<polygon fill=\"none\" points=\"591,-223 591,-259 743,-259 743,-223 591,-223\" stroke=\"black\"/>\n",
       "<text font-family=\"Times,serif\" font-size=\"14.00\" text-anchor=\"middle\" x=\"667\" y=\"-237.3\">artExpertGate4: Reshape</text>\n",
       "</g>\n",
       "<!-- 140085169414384&#45;&gt;140085160834944 -->\n",
       "<g class=\"edge\" id=\"edge67\"><title>140085169414384-&gt;140085160834944</title>\n",
       "<path d=\"M674.95,-370.966C673.414,-346.045 670.537,-299.374 668.698,-269.537\" fill=\"none\" stroke=\"black\"/>\n",
       "<polygon fill=\"black\" points=\"672.18,-269.144 668.071,-259.378 665.193,-269.574 672.18,-269.144\" stroke=\"black\"/>\n",
       "</g>\n",
       "<!-- 140085165382792 -->\n",
       "<g class=\"node\" id=\"node69\"><title>140085165382792</title>\n",
       "<polygon fill=\"none\" points=\"695,-149 695,-185 867,-185 867,-149 695,-149\" stroke=\"black\"/>\n",
       "<text font-family=\"Times,serif\" font-size=\"14.00\" text-anchor=\"middle\" x=\"781\" y=\"-163.3\">natureExpertGate4: Reshape</text>\n",
       "</g>\n",
       "<!-- 140085163605184&#45;&gt;140085165382792 -->\n",
       "<g class=\"edge\" id=\"edge68\"><title>140085163605184-&gt;140085165382792</title>\n",
       "<path d=\"M783.65,-296.966C783.138,-272.045 782.179,-225.374 781.566,-195.537\" fill=\"none\" stroke=\"black\"/>\n",
       "<polygon fill=\"black\" points=\"785.062,-195.304 781.357,-185.378 778.063,-195.448 785.062,-195.304\" stroke=\"black\"/>\n",
       "</g>\n",
       "<!-- 140085150291504 -->\n",
       "<g class=\"node\" id=\"node70\"><title>140085150291504</title>\n",
       "<polygon fill=\"none\" points=\"202.5,-1 202.5,-37 325.5,-37 325.5,-1 202.5,-1\" stroke=\"black\"/>\n",
       "<text font-family=\"Times,serif\" font-size=\"14.00\" text-anchor=\"middle\" x=\"264\" y=\"-15.3\">lambda_4: Lambda</text>\n",
       "</g>\n",
       "<!-- 140084997281832&#45;&gt;140085150291504 -->\n",
       "<g class=\"edge\" id=\"edge69\"><title>140084997281832-&gt;140085150291504</title>\n",
       "<path d=\"M464.836,-370.959C471.965,-351.616 485.294,-319.68 503,-296 524.484,-267.268 539.308,-268.94 563,-242\" fill=\"none\" stroke=\"black\"/>\n",
       "<path d=\"M563,-240C570.468,-231.081 572.826,-229.152 582,-222 617.298,-194.482 653.506,-210.674 667,-168\" fill=\"none\" stroke=\"black\"/>\n",
       "<path d=\"M667,-166C676.648,-135.489 694.314,-110.672 667,-94\" fill=\"none\" stroke=\"black\"/>\n",
       "<path d=\"M667,-92C612.528,-58.751 436.166,-36.7192 335.729,-26.5286\" fill=\"none\" stroke=\"black\"/>\n",
       "<polygon fill=\"black\" points=\"335.957,-23.034 325.658,-25.5206 335.259,-29.9992 335.957,-23.034\" stroke=\"black\"/>\n",
       "</g>\n",
       "<!-- 140084995713680&#45;&gt;140085150291504 -->\n",
       "<g class=\"edge\" id=\"edge70\"><title>140084995713680-&gt;140085150291504</title>\n",
       "<path d=\"M557.266,-296.945C553.014,-280.781 549.957,-256.831 563,-242\" fill=\"none\" stroke=\"black\"/>\n",
       "</g>\n",
       "<!-- 140084993274936&#45;&gt;140085150291504 -->\n",
       "<g class=\"edge\" id=\"edge71\"><title>140084993274936-&gt;140085150291504</title>\n",
       "<path d=\"M159.467,-74.937C178.268,-65.0561 202.132,-52.5144 222.311,-41.9097\" fill=\"none\" stroke=\"black\"/>\n",
       "<polygon fill=\"black\" points=\"224.067,-44.9404 231.291,-37.19 220.811,-38.744 224.067,-44.9404\" stroke=\"black\"/>\n",
       "</g>\n",
       "<!-- 140084990790904&#45;&gt;140085150291504 -->\n",
       "<g class=\"edge\" id=\"edge72\"><title>140084990790904-&gt;140085150291504</title>\n",
       "<path d=\"M264,-74.937C264,-66.8072 264,-56.8761 264,-47.7047\" fill=\"none\" stroke=\"black\"/>\n",
       "<polygon fill=\"black\" points=\"267.5,-47.4406 264,-37.4407 260.5,-47.4407 267.5,-47.4406\" stroke=\"black\"/>\n",
       "</g>\n",
       "<!-- 140085160834944&#45;&gt;140085150291504 -->\n",
       "<g class=\"edge\" id=\"edge73\"><title>140085160834944-&gt;140085150291504</title>\n",
       "<path d=\"M664.164,-222.976C662.346,-208.102 661.271,-186.116 667,-168\" fill=\"none\" stroke=\"black\"/>\n",
       "</g>\n",
       "<!-- 140085165382792&#45;&gt;140085150291504 -->\n",
       "<g class=\"edge\" id=\"edge74\"><title>140085165382792-&gt;140085150291504</title>\n",
       "<path d=\"M754.425,-148.893C731.412,-134.157 697.171,-112.416 667,-94\" fill=\"none\" stroke=\"black\"/>\n",
       "</g>\n",
       "</g>\n",
       "</svg>"
      ],
      "text/plain": [
       "<IPython.core.display.SVG object>"
      ]
     },
     "execution_count": 226,
     "metadata": {},
     "output_type": "execute_result"
    }
   ],
   "source": [
    "# display the mixture of experts model diagram\n",
    "plot_model(model, to_file='model.png')\n",
    "SVG(model_to_dot(model).create(prog='dot', format='svg'))"
   ]
  },
  {
   "cell_type": "markdown",
   "metadata": {
    "collapsed": true
   },
   "source": [
    "![model.png](./model.png)"
   ]
  },
  {
   "cell_type": "code",
   "execution_count": 118,
   "metadata": {
    "collapsed": true
   },
   "outputs": [],
   "source": [
    "# compile\n",
    "model.compile(loss='categorical_crossentropy',\n",
    "              optimizer=Adam(),\n",
    "              metrics=['accuracy'])"
   ]
  },
  {
   "cell_type": "code",
   "execution_count": 120,
   "metadata": {
    "scrolled": true
   },
   "outputs": [
    {
     "name": "stdout",
     "output_type": "stream",
     "text": [
      "<keras.engine.topology.InputLayer object at 0x7f682159f518> False\n",
      "<keras.layers.convolutional.Conv2D object at 0x7f68147b24a8> False\n",
      "<keras.layers.convolutional.Conv2D object at 0x7f68146326d8> False\n",
      "<keras.layers.convolutional.Conv2D object at 0x7f68145e6860> False\n",
      "<keras.layers.convolutional.Conv2D object at 0x7f68143e5898> False\n",
      "<keras.layers.pooling.MaxPooling2D object at 0x7f6814595c88> False\n",
      "<keras.layers.pooling.MaxPooling2D object at 0x7f68143b1860> False\n",
      "<keras.layers.core.Dropout object at 0x7f68145adc50> False\n",
      "<keras.layers.core.Dropout object at 0x7f681435dc18> False\n",
      "<keras.layers.convolutional.Conv2D object at 0x7f68145adef0> False\n",
      "<keras.layers.convolutional.Conv2D object at 0x7f681435d8d0> False\n",
      "<keras.layers.convolutional.Conv2D object at 0x7f68148c8390> False\n",
      "<keras.layers.convolutional.Conv2D object at 0x7f68148c83c8> False\n",
      "<keras.layers.convolutional.Conv2D object at 0x7f6814556550> False\n",
      "<keras.layers.convolutional.Conv2D object at 0x7f6814371cc0> False\n",
      "<keras.layers.convolutional.Conv2D object at 0x7f68148c87b8> False\n",
      "<keras.layers.convolutional.Conv2D object at 0x7f681477d978> False\n",
      "<keras.layers.pooling.MaxPooling2D object at 0x7f681456fba8> False\n",
      "<keras.layers.pooling.MaxPooling2D object at 0x7f6814337cc0> False\n",
      "<keras.layers.pooling.MaxPooling2D object at 0x7f68148c8860> False\n",
      "<keras.layers.pooling.MaxPooling2D object at 0x7f6814712cf8> False\n",
      "<keras.layers.core.Dropout object at 0x7f681452f9b0> False\n",
      "<keras.layers.core.Dropout object at 0x7f68142e1940> False\n",
      "<keras.layers.core.Dropout object at 0x7f6814873b00> False\n",
      "<keras.layers.core.Dropout object at 0x7f6814726cc0> False\n",
      "<keras.layers.convolutional.Conv2D object at 0x7f681452fc88> False\n",
      "<keras.layers.convolutional.Conv2D object at 0x7f68142e15f8> False\n",
      "<keras.layers.convolutional.Conv2D object at 0x7f6814873dd8> False\n",
      "<keras.layers.convolutional.Conv2D object at 0x7f6814726c50> False\n",
      "<keras.layers.convolutional.Conv2D object at 0x7f6814545f28> False\n",
      "<keras.layers.convolutional.Conv2D object at 0x7f68142f6a20> False\n",
      "<keras.layers.convolutional.Conv2D object at 0x7f68148c8198> False\n",
      "<keras.layers.convolutional.Conv2D object at 0x7f68146d25c0> False\n",
      "<keras.layers.convolutional.Conv2D object at 0x7f68144f0a58> False\n",
      "<keras.layers.convolutional.Conv2D object at 0x7f68142b8eb8> False\n",
      "<keras.layers.pooling.MaxPooling2D object at 0x7f681481bfd0> False\n",
      "<keras.layers.pooling.MaxPooling2D object at 0x7f68146e9c18> False\n",
      "<keras.layers.pooling.MaxPooling2D object at 0x7f68144b0630> False\n",
      "<keras.layers.pooling.MaxPooling2D object at 0x7f6814265d68> False\n",
      "<keras.layers.core.Dropout object at 0x7f681483c710> False\n",
      "<keras.layers.core.Dropout object at 0x7f68146aaa20> False\n",
      "<keras.layers.core.Dropout object at 0x7f681445b9b0> False\n",
      "<keras.layers.core.Dropout object at 0x7f6814211128> False\n",
      "<keras.layers.core.Flatten object at 0x7f681ec4d8d0> True\n",
      "<keras.layers.core.Flatten object at 0x7f681ec4d908> True\n",
      "<keras.layers.core.Flatten object at 0x7f681483c9e8> False\n",
      "<keras.layers.core.Flatten object at 0x7f68146aacf8> False\n",
      "<keras.layers.core.Flatten object at 0x7f681445b668> False\n",
      "<keras.layers.core.Flatten object at 0x7f6814211358> False\n",
      "<keras.layers.core.Dense object at 0x7f681ec2e8d0> True\n",
      "<keras.layers.core.Dense object at 0x7f681e6b3630> True\n",
      "<keras.layers.core.Dense object at 0x7f681484d828> False\n",
      "<keras.layers.core.Dense object at 0x7f68146c0cf8> False\n",
      "<keras.layers.core.Dense object at 0x7f6814470668> False\n",
      "<keras.layers.core.Dense object at 0x7f6814211eb8> False\n",
      "<keras.layers.core.Dropout object at 0x7f681e98d2e8> True\n",
      "<keras.layers.core.Dropout object at 0x7f681e6a3748> True\n",
      "<keras.layers.core.Dropout object at 0x7f6814805da0> False\n",
      "<keras.layers.core.Dropout object at 0x7f6814686c50> False\n",
      "<keras.layers.core.Dropout object at 0x7f68144339b0> False\n",
      "<keras.layers.core.Dropout object at 0x7f68141d4f98> False\n",
      "<keras.layers.core.Dense object at 0x7f681ec2e0f0> True\n",
      "<keras.layers.core.Dense object at 0x7f681e6a3cc0> True\n",
      "<keras.layers.core.Dense object at 0x7f6814805828> False\n",
      "<keras.layers.core.Dense object at 0x7f6814686a90> False\n",
      "<keras.layers.core.Dense object at 0x7f6814433438> False\n",
      "<keras.layers.core.Dense object at 0x7f68141d4cf8> False\n",
      "<keras.layers.core.Reshape object at 0x7f681e3ff780> True\n",
      "<keras.layers.core.Reshape object at 0x7f681e855c88> True\n",
      "<keras.layers.core.Lambda object at 0x7f681d9f1630> True\n"
     ]
    }
   ],
   "source": [
    "# show layers and if it's trainable or not\n",
    "# only the second gating network layers and the last Lambda inference layer are left trainable\n",
    "for l in model.layers:\n",
    "    print(l, l.trainable)"
   ]
  },
  {
   "cell_type": "code",
   "execution_count": 119,
   "metadata": {
    "collapsed": true
   },
   "outputs": [],
   "source": [
    "# make saving directory for check point\n",
    "saveDir = \"./moe3Cifar10/\"\n",
    "if not os.path.isdir(saveDir):\n",
    "    os.makedirs(saveDir)\n",
    "    \n",
    "# early stopping and model checkpoint\n",
    "es_cb = EarlyStopping(monitor='val_loss', patience=2, verbose=1, mode='auto')\n",
    "chkpt = os.path.join(saveDir, 'Cifar10_.{epoch:02d}-{val_loss:.2f}.hdf5')\n",
    "cp_cb = ModelCheckpoint(filepath = chkpt, monitor='val_loss', verbose=1, save_best_only=True, mode='auto')\n",
    "\n",
    "# load the newest model data if exists\n",
    "model = getNewestModel(model, saveDir)"
   ]
  },
  {
   "cell_type": "code",
   "execution_count": 121,
   "metadata": {
    "scrolled": true
   },
   "outputs": [
    {
     "name": "stdout",
     "output_type": "stream",
     "text": [
      "Train on 50000 samples, validate on 10000 samples\n",
      "Epoch 1/100\n",
      "49950/50000 [============================>.] - ETA: 0s - loss: 0.4988 - acc: 0.8407Epoch 00001: val_loss improved from inf to 0.60017, saving model to ./moe3Cifar10/Cifar10_.01-0.60.hdf5\n",
      "50000/50000 [==============================] - 41s 824us/step - loss: 0.4987 - acc: 0.8408 - val_loss: 0.6002 - val_acc: 0.7986\n",
      "Epoch 2/100\n",
      "49950/50000 [============================>.] - ETA: 0s - loss: 0.4821 - acc: 0.8489Epoch 00002: val_loss improved from 0.60017 to 0.59646, saving model to ./moe3Cifar10/Cifar10_.02-0.60.hdf5\n",
      "50000/50000 [==============================] - 40s 797us/step - loss: 0.4821 - acc: 0.8489 - val_loss: 0.5965 - val_acc: 0.7979\n",
      "Epoch 3/100\n",
      "49950/50000 [============================>.] - ETA: 0s - loss: 0.4774 - acc: 0.8493Epoch 00003: val_loss improved from 0.59646 to 0.59537, saving model to ./moe3Cifar10/Cifar10_.03-0.60.hdf5\n",
      "50000/50000 [==============================] - 40s 804us/step - loss: 0.4772 - acc: 0.8494 - val_loss: 0.5954 - val_acc: 0.7987\n",
      "Epoch 4/100\n",
      "49950/50000 [============================>.] - ETA: 0s - loss: 0.4746 - acc: 0.8518Epoch 00004: val_loss improved from 0.59537 to 0.59504, saving model to ./moe3Cifar10/Cifar10_.04-0.60.hdf5\n",
      "50000/50000 [==============================] - 40s 795us/step - loss: 0.4747 - acc: 0.8518 - val_loss: 0.5950 - val_acc: 0.7980\n",
      "Epoch 5/100\n",
      "49950/50000 [============================>.] - ETA: 0s - loss: 0.4736 - acc: 0.8519Epoch 00005: val_loss improved from 0.59504 to 0.59482, saving model to ./moe3Cifar10/Cifar10_.05-0.59.hdf5\n",
      "50000/50000 [==============================] - 40s 798us/step - loss: 0.4735 - acc: 0.8520 - val_loss: 0.5948 - val_acc: 0.7980\n",
      "Epoch 6/100\n",
      "49950/50000 [============================>.] - ETA: 0s - loss: 0.4764 - acc: 0.8501Epoch 00006: val_loss improved from 0.59482 to 0.59468, saving model to ./moe3Cifar10/Cifar10_.06-0.59.hdf5\n",
      "50000/50000 [==============================] - 40s 795us/step - loss: 0.4763 - acc: 0.8501 - val_loss: 0.5947 - val_acc: 0.7979\n",
      "Epoch 7/100\n",
      "49950/50000 [============================>.] - ETA: 0s - loss: 0.4764 - acc: 0.8497Epoch 00007: val_loss improved from 0.59468 to 0.59435, saving model to ./moe3Cifar10/Cifar10_.07-0.59.hdf5\n",
      "50000/50000 [==============================] - 40s 802us/step - loss: 0.4764 - acc: 0.8497 - val_loss: 0.5943 - val_acc: 0.7985\n",
      "Epoch 8/100\n",
      "49950/50000 [============================>.] - ETA: 0s - loss: 0.4760 - acc: 0.8503Epoch 00008: val_loss did not improve\n",
      "50000/50000 [==============================] - 40s 792us/step - loss: 0.4761 - acc: 0.8503 - val_loss: 0.5944 - val_acc: 0.7984\n",
      "Epoch 9/100\n",
      "49950/50000 [============================>.] - ETA: 0s - loss: 0.4758 - acc: 0.8486Epoch 00009: val_loss did not improve\n",
      "50000/50000 [==============================] - 40s 797us/step - loss: 0.4760 - acc: 0.8485 - val_loss: 0.5946 - val_acc: 0.7982\n",
      "Epoch 00009: early stopping\n"
     ]
    },
    {
     "data": {
      "text/plain": [
       "<keras.callbacks.History at 0x7f67d7281ef0>"
      ]
     },
     "execution_count": 121,
     "metadata": {},
     "output_type": "execute_result"
    }
   ],
   "source": [
    "# train\n",
    "model.fit(x_train, y_train0,\n",
    "          batch_size=batch_size,\n",
    "          epochs=epochs,\n",
    "          validation_data=(x_test, y_test0),\n",
    "          callbacks=[es_cb, cp_cb])"
   ]
  },
  {
   "cell_type": "code",
   "execution_count": 122,
   "metadata": {},
   "outputs": [
    {
     "name": "stdout",
     "output_type": "stream",
     "text": [
      "10000/10000 [==============================] - 6s 596us/step\n",
      "[0.59462207956314084, 0.79820000000000002]\n"
     ]
    }
   ],
   "source": [
    "# evaluate\n",
    "score = model.evaluate(x_test, y_test0)\n",
    "print(score)"
   ]
  },
  {
   "cell_type": "code",
   "execution_count": null,
   "metadata": {
    "collapsed": true
   },
   "outputs": [],
   "source": []
  },
  {
   "cell_type": "code",
   "execution_count": null,
   "metadata": {
    "collapsed": true
   },
   "outputs": [],
   "source": []
  },
  {
   "cell_type": "markdown",
   "metadata": {
    "collapsed": true
   },
   "source": [
    "## Now the mixture of experts model is made, evaluate if it really takes the appropriate flow"
   ]
  },
  {
   "cell_type": "code",
   "execution_count": 123,
   "metadata": {},
   "outputs": [
    {
     "data": {
      "text/plain": [
       "array([ 0.,  0.,  0.,  1.,  0.,  0.,  0.,  0.,  0.,  0.])"
      ]
     },
     "execution_count": 123,
     "metadata": {},
     "output_type": "execute_result"
    }
   ],
   "source": [
    "# the first y_test data is labeled 3, so it should be natural object\n",
    "print(y_test0[0])"
   ]
  },
  {
   "cell_type": "code",
   "execution_count": 206,
   "metadata": {
    "collapsed": true
   },
   "outputs": [],
   "source": [
    "# Keras function to get the BaseVGG output\n",
    "getBase = K.function([model.layers[0].input, K.learning_phase()],\n",
    "                     [model.layers[63].output])"
   ]
  },
  {
   "cell_type": "code",
   "execution_count": 207,
   "metadata": {
    "collapsed": true
   },
   "outputs": [],
   "source": [
    "# Keras function to get the first gating network output\n",
    "getGate0 = K.function([model.layers[0].input, K.learning_phase()],\n",
    "                      [model.layers[64].output])"
   ]
  },
  {
   "cell_type": "code",
   "execution_count": 208,
   "metadata": {
    "collapsed": true
   },
   "outputs": [],
   "source": [
    "# Keras function to get the artificial expert network output\n",
    "getArt = K.function([model.layers[0].input, K.learning_phase()],\n",
    "                       [model.layers[65].output])"
   ]
  },
  {
   "cell_type": "code",
   "execution_count": 209,
   "metadata": {
    "collapsed": true
   },
   "outputs": [],
   "source": [
    "# Keras function to get the natural expert network output\n",
    "getNature = K.function([model.layers[0].input, K.learning_phase()],\n",
    "                       [model.layers[66].output])"
   ]
  },
  {
   "cell_type": "code",
   "execution_count": 210,
   "metadata": {},
   "outputs": [],
   "source": [
    "# Keras function to get the output for artificial gating network\n",
    "getArtGate = K.function([model.layers[0].input, K.learning_phase()],\n",
    "                        [model.layers[67].output])"
   ]
  },
  {
   "cell_type": "code",
   "execution_count": 211,
   "metadata": {
    "collapsed": true
   },
   "outputs": [],
   "source": [
    "# Keras function to get the output for natural gating network\n",
    "getNatureGate = K.function([model.layers[0].input, K.learning_phase()],\n",
    "                           [model.layers[68].output])"
   ]
  },
  {
   "cell_type": "code",
   "execution_count": 181,
   "metadata": {},
   "outputs": [
    {
     "data": {
      "text/plain": [
       "array([[ 0.00687723,  0.99312276]], dtype=float32)"
      ]
     },
     "execution_count": 181,
     "metadata": {},
     "output_type": "execute_result"
    }
   ],
   "source": [
    "# output from the first gating network for x_test[0]\n",
    "# since the second index is higher than the first, it is classified as a natural object\n",
    "# the first gating should lead the inference to the natural gating network\n",
    "xtest0Gate = getGate0([[x_test[0]], 0])[0]\n",
    "xtest0Gate"
   ]
  },
  {
   "cell_type": "code",
   "execution_count": 186,
   "metadata": {},
   "outputs": [
    {
     "data": {
      "text/plain": [
       "array([[[ 0.08541576,  0.03585474],\n",
       "        [ 0.08810793,  0.03100363],\n",
       "        [ 0.01911297,  0.03751711],\n",
       "        [ 0.04628449,  0.04165833],\n",
       "        [ 0.02868748,  0.06180721],\n",
       "        [ 0.04721113,  0.07710078],\n",
       "        [ 0.02533226,  0.0840624 ],\n",
       "        [ 0.04218154,  0.05244576],\n",
       "        [ 0.08518016,  0.02692058],\n",
       "        [ 0.07291996,  0.01119581]]], dtype=float32)"
      ]
     },
     "execution_count": 186,
     "metadata": {},
     "output_type": "execute_result"
    }
   ],
   "source": [
    "# output from natural gating network\n",
    "# the list of softmax output for the importances of base VGG and natural expert network\n",
    "xtest0NatureGate = getNatureGate([[x_test[0]], 0])[0]\n",
    "xtest0NatureGate"
   ]
  },
  {
   "cell_type": "code",
   "execution_count": 212,
   "metadata": {},
   "outputs": [
    {
     "data": {
      "text/plain": [
       "array([[  1.30025754e-02,   4.88831941e-03,   6.07487699e-03,\n",
       "          6.73251569e-01,   3.08401213e-04,   2.47065753e-01,\n",
       "          2.06855088e-02,   2.67533562e-03,   2.77825613e-02,\n",
       "          4.26515006e-03]], dtype=float32)"
      ]
     },
     "execution_count": 212,
     "metadata": {},
     "output_type": "execute_result"
    }
   ],
   "source": [
    "# inferenct from base VGG for x_test[0]\n",
    "xtest0Base = getBase([[x_test[0]], 0])[0]\n",
    "xtest0Base"
   ]
  },
  {
   "cell_type": "code",
   "execution_count": 199,
   "metadata": {},
   "outputs": [
    {
     "data": {
      "text/plain": [
       "array([[  2.08449508e-11,   4.72127615e-11,   1.22241955e-02,\n",
       "          6.25748694e-01,   7.82116503e-03,   3.36175740e-01,\n",
       "          6.49287738e-03,   1.15373293e-02,   2.38116731e-11,\n",
       "          2.11326633e-11]], dtype=float32)"
      ]
     },
     "execution_count": 199,
     "metadata": {},
     "output_type": "execute_result"
    }
   ],
   "source": [
    "# inference from natural expert network for x_test[0]\n",
    "xtest0Nature = getNature([[x_test[0]], 0])[0]\n",
    "xtest0Nature"
   ]
  },
  {
   "cell_type": "code",
   "execution_count": 219,
   "metadata": {},
   "outputs": [
    {
     "data": {
      "text/plain": [
       "array([[ 0.00111062,  0.0004307 ,  0.00057473,  0.05722876,  0.00049225,\n",
       "         0.03758366,  0.00106982,  0.00071793,  0.00236652,  0.00031101]], dtype=float32)"
      ]
     },
     "execution_count": 219,
     "metadata": {},
     "output_type": "execute_result"
    }
   ],
   "source": [
    "# multiply the base VGG inference with the natural gating inference for the importance of base VGG\n",
    "# multiply the natural expert inference with the natural gating inference for the importance of natural expert\n",
    "# get the sum\n",
    "(xtest0Base * xtest0NatureGate[:,:,0]) + (xtest0Nature * xtest0NatureGate[:,:,1])"
   ]
  },
  {
   "cell_type": "code",
   "execution_count": 194,
   "metadata": {},
   "outputs": [
    {
     "data": {
      "text/plain": [
       "array([[ 0.00111062,  0.0004307 ,  0.00057473,  0.05722876,  0.00049225,\n",
       "         0.03758366,  0.00106982,  0.00071793,  0.00236652,  0.00031101]], dtype=float32)"
      ]
     },
     "execution_count": 194,
     "metadata": {},
     "output_type": "execute_result"
    }
   ],
   "source": [
    "# the mixture of experts prediction for x_test[0]\n",
    "# showing exactly the same inferences!\n",
    "model.predict(x_test[:1])"
   ]
  },
  {
   "cell_type": "markdown",
   "metadata": {
    "collapsed": true
   },
   "source": [
    "![5.png](./5.png)"
   ]
  },
  {
   "cell_type": "code",
   "execution_count": null,
   "metadata": {
    "collapsed": true
   },
   "outputs": [],
   "source": []
  },
  {
   "cell_type": "code",
   "execution_count": null,
   "metadata": {
    "collapsed": true
   },
   "outputs": [],
   "source": []
  }
 ],
 "metadata": {
  "kernelspec": {
   "display_name": "Python 3",
   "language": "python",
   "name": "python3"
  },
  "language_info": {
   "codemirror_mode": {
    "name": "ipython",
    "version": 3
   },
   "file_extension": ".py",
   "mimetype": "text/x-python",
   "name": "python",
   "nbconvert_exporter": "python",
   "pygments_lexer": "ipython3",
   "version": "3.6.3"
  }
 },
 "nbformat": 4,
 "nbformat_minor": 2
}
